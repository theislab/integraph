{
 "cells": [
  {
   "cell_type": "code",
   "execution_count": 45,
   "id": "cbf286e1",
   "metadata": {},
   "outputs": [],
   "source": [
    "import anndata as ad\n",
    "import pandas as pd\n",
    "import numpy as np\n",
    "from numpy.random import default_rng\n",
    "import scanpy as sc\n",
    "import scipy\n",
    "from scipy import sparse"
   ]
  },
  {
   "cell_type": "code",
   "execution_count": 46,
   "id": "81080ae0",
   "metadata": {
    "scrolled": true
   },
   "outputs": [
    {
     "name": "stdout",
     "output_type": "stream",
     "text": [
      "all_proteins_V1.txt  combat_rna.h5ad\t\t cytof_full.h5ad\r\n",
      "cite_cells.csv\t     cytof_cells.csv\t\t facs_full.h5ad\r\n",
      "combat_adt.h5ad      cytof_cells_harmonised.csv\r\n"
     ]
    }
   ],
   "source": [
    "data_path = '../../../../lustre/groups/ml01/datasets/projects/202201212_psngraph_fabiola.curion/data.dir/'\n",
    "!ls $data_path"
   ]
  },
  {
   "cell_type": "markdown",
   "id": "bcc9eea6",
   "metadata": {},
   "source": [
    "## Loading adatas"
   ]
  },
  {
   "cell_type": "code",
   "execution_count": 47,
   "id": "3d019eb9",
   "metadata": {
    "scrolled": true
   },
   "outputs": [
    {
     "name": "stderr",
     "output_type": "stream",
     "text": [
      "/home/icb/leonardo.golinelli/.conda/envs/multigrate/lib/python3.10/site-packages/anndata/_core/anndata.py:121: ImplicitModificationWarning: Transforming to str index.\n",
      "  warnings.warn(\"Transforming to str index.\", ImplicitModificationWarning)\n",
      "/home/icb/leonardo.golinelli/.conda/envs/multigrate/lib/python3.10/site-packages/anndata/_core/anndata.py:1828: UserWarning: Observation names are not unique. To make them unique, call `.obs_names_make_unique`.\n",
      "  utils.warn_names_duplicates(\"obs\")\n"
     ]
    }
   ],
   "source": [
    "rna = ad.read_h5ad(data_path+\"combat_rna.h5ad\")\n",
    "adt = ad.read_h5ad(data_path+\"combat_adt.h5ad\")\n",
    "cytof = ad.read_h5ad(data_path+\"cytof_full.h5ad\")\n",
    "facs = ad.read_h5ad(data_path+\"facs_full.h5ad\")"
   ]
  },
  {
   "cell_type": "markdown",
   "id": "f9c50882",
   "metadata": {},
   "source": [
    "## Fixing warnings"
   ]
  },
  {
   "cell_type": "code",
   "execution_count": 48,
   "id": "11cc1e07",
   "metadata": {},
   "outputs": [],
   "source": [
    "facs.obs_names = [str(i)+'_facs' for i in range(len(facs))]\n",
    "adt.var.index = [index[3:] for index in adt.var.index]"
   ]
  },
  {
   "cell_type": "code",
   "execution_count": 49,
   "id": "a973d58b",
   "metadata": {
    "scrolled": false
   },
   "outputs": [
    {
     "data": {
      "text/plain": [
       "((836148, 20615), (836148, 192), (7118158, 48), (131920, 12))"
      ]
     },
     "execution_count": 49,
     "metadata": {},
     "output_type": "execute_result"
    }
   ],
   "source": [
    "rna.shape, adt.shape, cytof.shape, facs.shape"
   ]
  },
  {
   "cell_type": "markdown",
   "id": "be942bb1",
   "metadata": {},
   "source": [
    "## Loading label harmonization files"
   ]
  },
  {
   "cell_type": "code",
   "execution_count": 50,
   "id": "4dfabd30",
   "metadata": {},
   "outputs": [],
   "source": [
    "cite_cells = pd.read_csv(data_path+'cite_cells.csv')\n",
    "cytof_cells = pd.read_csv(data_path+'cytof_cells.csv')\n",
    "cytof_cells_harmonised = pd.read_csv(data_path+'cytof_cells_harmonised.csv', sep=';')"
   ]
  },
  {
   "cell_type": "markdown",
   "id": "6b627896",
   "metadata": {},
   "source": [
    "## Removing original obsm"
   ]
  },
  {
   "cell_type": "code",
   "execution_count": 51,
   "id": "98943c48",
   "metadata": {},
   "outputs": [],
   "source": [
    "rna.obsm = None\n",
    "adt.obsm = None\n",
    "cytof.obsm = None\n",
    "facs.obsm = None"
   ]
  },
  {
   "cell_type": "markdown",
   "id": "a18d8b6f",
   "metadata": {},
   "source": [
    "## Check variable distributions"
   ]
  },
  {
   "cell_type": "code",
   "execution_count": 52,
   "id": "2945f585",
   "metadata": {},
   "outputs": [],
   "source": [
    "#plt.hist(rna.X.data[:100])"
   ]
  },
  {
   "cell_type": "code",
   "execution_count": 53,
   "id": "da16bfe1",
   "metadata": {},
   "outputs": [],
   "source": [
    "#plt.hist(rna.layers['raw'].data[:100])"
   ]
  },
  {
   "cell_type": "code",
   "execution_count": 54,
   "id": "6ad5c052",
   "metadata": {
    "scrolled": true
   },
   "outputs": [],
   "source": [
    "#plt.hist(adt.X.data[:100])"
   ]
  },
  {
   "cell_type": "code",
   "execution_count": 55,
   "id": "65df6fcc",
   "metadata": {},
   "outputs": [],
   "source": [
    "#plt.hist(adt.layers['raw'].data[:100])"
   ]
  },
  {
   "cell_type": "code",
   "execution_count": 56,
   "id": "420db66b",
   "metadata": {
    "scrolled": true
   },
   "outputs": [],
   "source": [
    "#plt.hist(cytof.X[:,9])"
   ]
  },
  {
   "cell_type": "code",
   "execution_count": 57,
   "id": "1c942f7f",
   "metadata": {
    "scrolled": true
   },
   "outputs": [],
   "source": [
    "#plt.hist(facs.X[:,1])"
   ]
  },
  {
   "cell_type": "code",
   "execution_count": 58,
   "id": "38d9f314",
   "metadata": {
    "scrolled": true
   },
   "outputs": [],
   "source": [
    "#plt.hist(facs.X[:,1])"
   ]
  },
  {
   "cell_type": "markdown",
   "id": "dd77c683",
   "metadata": {},
   "source": [
    "## Subsampling"
   ]
  },
  {
   "cell_type": "code",
   "execution_count": 59,
   "id": "7cae207f",
   "metadata": {},
   "outputs": [],
   "source": [
    "#subset size is taken to equal the length of the smallest dataset: i.e. facs\n",
    "rng = default_rng(seed=100)\n",
    "rna_subset = rng.choice(len(rna), size=131920, replace=False) \n",
    "cytof_subset = rng.choice(len(cytof), size=131920, replace=False)\n",
    "facs_subset = rng.choice(len(facs), size=131920, replace=False)"
   ]
  },
  {
   "cell_type": "code",
   "execution_count": 60,
   "id": "7a499d17",
   "metadata": {},
   "outputs": [
    {
     "name": "stdout",
     "output_type": "stream",
     "text": [
      "len reference samples: 131920\n",
      "len total query samples: 836148\n",
      "len query subset: 32980\n"
     ]
    }
   ],
   "source": [
    "#build the query\n",
    "reference_samples = rna.obs.index[rna_subset] #cells in the training subset to exclude\n",
    "query_samples = ~rna.obs.index.isin(reference_samples) #samples not in the training subset\n",
    "rng = default_rng(seed=2)\n",
    "rna_query_subset = rng.choice(len(query_samples), size=round(131920/4), replace=False)\n",
    "print(\"len reference samples: {}\".format(len(reference_samples)))\n",
    "print(\"len total query samples: {}\".format(len(query_samples)))\n",
    "print(\"len query subset: {}\".format(len(rna_query_subset)))"
   ]
  },
  {
   "cell_type": "code",
   "execution_count": 61,
   "id": "43be1e64",
   "metadata": {},
   "outputs": [],
   "source": [
    "rna_query = rna[rna_query_subset,].copy()\n",
    "adt_query = adt[rna_query_subset,].copy()\n",
    "rna = rna[rna_subset,].copy()\n",
    "adt = adt[rna_subset,].copy() # keep the same observations of the rna assay to provide paired cite seq information\n",
    "cytof = cytof[cytof_subset,].copy()\n",
    "facs = facs[facs_subset,].copy()"
   ]
  },
  {
   "cell_type": "code",
   "execution_count": 62,
   "id": "f532320c",
   "metadata": {},
   "outputs": [
    {
     "data": {
      "text/plain": [
       "True"
      ]
     },
     "execution_count": 62,
     "metadata": {},
     "output_type": "execute_result"
    }
   ],
   "source": [
    "(rna.obs_names == adt.obs_names).all()"
   ]
  },
  {
   "cell_type": "code",
   "execution_count": 63,
   "id": "9130ad97",
   "metadata": {},
   "outputs": [
    {
     "data": {
      "text/plain": [
       "AnnData object with n_obs × n_vars = 32980 × 20615\n",
       "    obs: 'Annotation_cluster_id', 'Annotation_cluster_name', 'Annotation_minor_subset', 'Annotation_major_subset', 'Annotation_cell_type', 'GEX_region', 'QC_ngenes', 'QC_total_UMI', 'QC_pct_mitochondrial', 'QC_scrub_doublet_scores', 'TCR_chain_composition', 'TCR_clone_ID', 'TCR_clone_count', 'TCR_clone_proportion', 'TCR_contains_unproductive', 'TCR_doublet', 'TCR_chain_TRA', 'TCR_v_gene_TRA', 'TCR_d_gene_TRA', 'TCR_j_gene_TRA', 'TCR_c_gene_TRA', 'TCR_productive_TRA', 'TCR_cdr3_TRA', 'TCR_umis_TRA', 'TCR_chain_TRA2', 'TCR_v_gene_TRA2', 'TCR_d_gene_TRA2', 'TCR_j_gene_TRA2', 'TCR_c_gene_TRA2', 'TCR_productive_TRA2', 'TCR_cdr3_TRA2', 'TCR_umis_TRA2', 'TCR_chain_TRB', 'TCR_v_gene_TRB', 'TCR_d_gene_TRB', 'TCR_j_gene_TRB', 'TCR_c_gene_TRB', 'TCR_productive_TRB', 'TCR_chain_TRB2', 'TCR_v_gene_TRB2', 'TCR_d_gene_TRB2', 'TCR_j_gene_TRB2', 'TCR_c_gene_TRB2', 'TCR_productive_TRB2', 'TCR_cdr3_TRB2', 'TCR_umis_TRB2', 'BCR_umis_HC', 'BCR_contig_qc_HC', 'BCR_functionality_HC', 'BCR_v_call_HC', 'BCR_v_score_HC', 'BCR_j_call_HC', 'BCR_j_score_HC', 'BCR_junction_aa_HC', 'BCR_total_mut_HC', 'BCR_s_mut_HC', 'BCR_r_mut_HC', 'BCR_c_gene_HC', 'BCR_clone_per_replicate_HC', 'BCR_clone_global_HC', 'BCR_clonal_abundance_HC', 'BCR_locus_LC', 'BCR_umis_LC', 'BCR_contig_qc_LC', 'BCR_functionality_LC', 'BCR_v_call_LC', 'BCR_v_score_LC', 'BCR_j_call_LC', 'BCR_j_score_LC', 'BCR_junction_aa_LC', 'BCR_total_mut_LC', 'BCR_s_mut_LC', 'BCR_r_mut_LC', 'BCR_c_gene_LC', 'COMBAT_ID', 'scRNASeq_sample_ID', 'COMBAT_participant_timepoint_ID', 'Source', 'Age', 'Sex', 'Race', 'BMI', 'Hospitalstay', 'Death28', 'Institute', 'PreExistingHeartDisease', 'PreExistingLungDisease', 'PreExistingKidneyDisease', 'PreExistingDiabetes', 'PreExistingHypertension', 'PreExistingImmunocompromised', 'Smoking', 'Symptomatic', 'Requiredvasoactive', 'Respiratorysupport', 'SARSCoV2PCR', 'Outcome', 'TimeSinceOnset', 'Ethnicity', 'Tissue', 'DiseaseClassification', 'Pool_ID', 'Channel_ID'\n",
       "    var: 'gene_ids', 'feature_types'\n",
       "    uns: 'Institute', 'ObjectCreateDate', 'Source_colors', 'Technology', 'genome_annotation_version'\n",
       "    layers: 'raw'"
      ]
     },
     "execution_count": 63,
     "metadata": {},
     "output_type": "execute_result"
    }
   ],
   "source": [
    "rna_query"
   ]
  },
  {
   "cell_type": "code",
   "execution_count": 64,
   "id": "d34cb880",
   "metadata": {},
   "outputs": [
    {
     "data": {
      "text/plain": [
       "AnnData object with n_obs × n_vars = 32980 × 192\n",
       "    obs: 'Annotation_cluster_id', 'Annotation_cluster_name', 'Annotation_minor_subset', 'Annotation_major_subset', 'Annotation_cell_type', 'GEX_region', 'QC_ngenes', 'QC_total_UMI', 'QC_pct_mitochondrial', 'QC_scrub_doublet_scores', 'TCR_chain_composition', 'TCR_clone_ID', 'TCR_clone_count', 'TCR_clone_proportion', 'TCR_contains_unproductive', 'TCR_doublet', 'TCR_chain_TRA', 'TCR_v_gene_TRA', 'TCR_d_gene_TRA', 'TCR_j_gene_TRA', 'TCR_c_gene_TRA', 'TCR_productive_TRA', 'TCR_cdr3_TRA', 'TCR_umis_TRA', 'TCR_chain_TRA2', 'TCR_v_gene_TRA2', 'TCR_d_gene_TRA2', 'TCR_j_gene_TRA2', 'TCR_c_gene_TRA2', 'TCR_productive_TRA2', 'TCR_cdr3_TRA2', 'TCR_umis_TRA2', 'TCR_chain_TRB', 'TCR_v_gene_TRB', 'TCR_d_gene_TRB', 'TCR_j_gene_TRB', 'TCR_c_gene_TRB', 'TCR_productive_TRB', 'TCR_chain_TRB2', 'TCR_v_gene_TRB2', 'TCR_d_gene_TRB2', 'TCR_j_gene_TRB2', 'TCR_c_gene_TRB2', 'TCR_productive_TRB2', 'TCR_cdr3_TRB2', 'TCR_umis_TRB2', 'BCR_umis_HC', 'BCR_contig_qc_HC', 'BCR_functionality_HC', 'BCR_v_call_HC', 'BCR_v_score_HC', 'BCR_j_call_HC', 'BCR_j_score_HC', 'BCR_junction_aa_HC', 'BCR_total_mut_HC', 'BCR_s_mut_HC', 'BCR_r_mut_HC', 'BCR_c_gene_HC', 'BCR_clone_per_replicate_HC', 'BCR_clone_global_HC', 'BCR_clonal_abundance_HC', 'BCR_locus_LC', 'BCR_umis_LC', 'BCR_contig_qc_LC', 'BCR_functionality_LC', 'BCR_v_call_LC', 'BCR_v_score_LC', 'BCR_j_call_LC', 'BCR_j_score_LC', 'BCR_junction_aa_LC', 'BCR_total_mut_LC', 'BCR_s_mut_LC', 'BCR_r_mut_LC', 'BCR_c_gene_LC', 'COMBAT_ID', 'scRNASeq_sample_ID', 'COMBAT_participant_timepoint_ID', 'Source', 'Age', 'Sex', 'Race', 'BMI', 'Hospitalstay', 'Death28', 'Institute', 'PreExistingHeartDisease', 'PreExistingLungDisease', 'PreExistingKidneyDisease', 'PreExistingDiabetes', 'PreExistingHypertension', 'PreExistingImmunocompromised', 'Smoking', 'Symptomatic', 'Requiredvasoactive', 'Respiratorysupport', 'SARSCoV2PCR', 'Outcome', 'TimeSinceOnset', 'Ethnicity', 'Tissue', 'DiseaseClassification', 'Pool_ID', 'Channel_ID'\n",
       "    var: 'gene_ids', 'feature_types'\n",
       "    uns: 'Institute', 'ObjectCreateDate', 'Source_colors', 'Technology', 'genome_annotation_version'\n",
       "    layers: 'raw'"
      ]
     },
     "execution_count": 64,
     "metadata": {},
     "output_type": "execute_result"
    }
   ],
   "source": [
    "adt_query"
   ]
  },
  {
   "cell_type": "code",
   "execution_count": 65,
   "id": "cdee2f42",
   "metadata": {},
   "outputs": [
    {
     "data": {
      "text/plain": [
       "True"
      ]
     },
     "execution_count": 65,
     "metadata": {},
     "output_type": "execute_result"
    }
   ],
   "source": [
    "(rna_query.obs_names == adt_query.obs_names).all()"
   ]
  },
  {
   "cell_type": "markdown",
   "id": "3d2e9829",
   "metadata": {},
   "source": [
    "## RNA variable selection and pca"
   ]
  },
  {
   "cell_type": "code",
   "execution_count": 66,
   "id": "7ea8e246",
   "metadata": {
    "scrolled": true
   },
   "outputs": [],
   "source": [
    "sc.pp.highly_variable_genes(rna, layer = 'raw', n_top_genes=4000, flavor=\"seurat_v3\")\n",
    "highly_variable_genes = rna.var['highly_variable']\n",
    "rna = rna[:,highly_variable_genes].copy()\n",
    "sc.tl.pca(rna, n_comps=50, svd_solver=\"auto\")"
   ]
  },
  {
   "cell_type": "markdown",
   "id": "a2d3a894",
   "metadata": {},
   "source": [
    "## Query RNA variable selection and pca"
   ]
  },
  {
   "cell_type": "code",
   "execution_count": 67,
   "id": "8bd6ebf4",
   "metadata": {},
   "outputs": [
    {
     "data": {
      "text/plain": [
       "AnnData object with n_obs × n_vars = 32980 × 20615\n",
       "    obs: 'Annotation_cluster_id', 'Annotation_cluster_name', 'Annotation_minor_subset', 'Annotation_major_subset', 'Annotation_cell_type', 'GEX_region', 'QC_ngenes', 'QC_total_UMI', 'QC_pct_mitochondrial', 'QC_scrub_doublet_scores', 'TCR_chain_composition', 'TCR_clone_ID', 'TCR_clone_count', 'TCR_clone_proportion', 'TCR_contains_unproductive', 'TCR_doublet', 'TCR_chain_TRA', 'TCR_v_gene_TRA', 'TCR_d_gene_TRA', 'TCR_j_gene_TRA', 'TCR_c_gene_TRA', 'TCR_productive_TRA', 'TCR_cdr3_TRA', 'TCR_umis_TRA', 'TCR_chain_TRA2', 'TCR_v_gene_TRA2', 'TCR_d_gene_TRA2', 'TCR_j_gene_TRA2', 'TCR_c_gene_TRA2', 'TCR_productive_TRA2', 'TCR_cdr3_TRA2', 'TCR_umis_TRA2', 'TCR_chain_TRB', 'TCR_v_gene_TRB', 'TCR_d_gene_TRB', 'TCR_j_gene_TRB', 'TCR_c_gene_TRB', 'TCR_productive_TRB', 'TCR_chain_TRB2', 'TCR_v_gene_TRB2', 'TCR_d_gene_TRB2', 'TCR_j_gene_TRB2', 'TCR_c_gene_TRB2', 'TCR_productive_TRB2', 'TCR_cdr3_TRB2', 'TCR_umis_TRB2', 'BCR_umis_HC', 'BCR_contig_qc_HC', 'BCR_functionality_HC', 'BCR_v_call_HC', 'BCR_v_score_HC', 'BCR_j_call_HC', 'BCR_j_score_HC', 'BCR_junction_aa_HC', 'BCR_total_mut_HC', 'BCR_s_mut_HC', 'BCR_r_mut_HC', 'BCR_c_gene_HC', 'BCR_clone_per_replicate_HC', 'BCR_clone_global_HC', 'BCR_clonal_abundance_HC', 'BCR_locus_LC', 'BCR_umis_LC', 'BCR_contig_qc_LC', 'BCR_functionality_LC', 'BCR_v_call_LC', 'BCR_v_score_LC', 'BCR_j_call_LC', 'BCR_j_score_LC', 'BCR_junction_aa_LC', 'BCR_total_mut_LC', 'BCR_s_mut_LC', 'BCR_r_mut_LC', 'BCR_c_gene_LC', 'COMBAT_ID', 'scRNASeq_sample_ID', 'COMBAT_participant_timepoint_ID', 'Source', 'Age', 'Sex', 'Race', 'BMI', 'Hospitalstay', 'Death28', 'Institute', 'PreExistingHeartDisease', 'PreExistingLungDisease', 'PreExistingKidneyDisease', 'PreExistingDiabetes', 'PreExistingHypertension', 'PreExistingImmunocompromised', 'Smoking', 'Symptomatic', 'Requiredvasoactive', 'Respiratorysupport', 'SARSCoV2PCR', 'Outcome', 'TimeSinceOnset', 'Ethnicity', 'Tissue', 'DiseaseClassification', 'Pool_ID', 'Channel_ID'\n",
       "    var: 'gene_ids', 'feature_types'\n",
       "    uns: 'Institute', 'ObjectCreateDate', 'Source_colors', 'Technology', 'genome_annotation_version'\n",
       "    layers: 'raw'"
      ]
     },
     "execution_count": 67,
     "metadata": {},
     "output_type": "execute_result"
    }
   ],
   "source": [
    "rna_query"
   ]
  },
  {
   "cell_type": "code",
   "execution_count": 68,
   "id": "8ea6e4a0",
   "metadata": {},
   "outputs": [],
   "source": [
    "rna_query = rna_query[:,highly_variable_genes].copy()\n",
    "sc.tl.pca(rna_query, n_comps=50, svd_solver=\"auto\")"
   ]
  },
  {
   "cell_type": "code",
   "execution_count": 69,
   "id": "56fb7cf0",
   "metadata": {},
   "outputs": [
    {
     "data": {
      "text/plain": [
       "AnnData object with n_obs × n_vars = 32980 × 4000\n",
       "    obs: 'Annotation_cluster_id', 'Annotation_cluster_name', 'Annotation_minor_subset', 'Annotation_major_subset', 'Annotation_cell_type', 'GEX_region', 'QC_ngenes', 'QC_total_UMI', 'QC_pct_mitochondrial', 'QC_scrub_doublet_scores', 'TCR_chain_composition', 'TCR_clone_ID', 'TCR_clone_count', 'TCR_clone_proportion', 'TCR_contains_unproductive', 'TCR_doublet', 'TCR_chain_TRA', 'TCR_v_gene_TRA', 'TCR_d_gene_TRA', 'TCR_j_gene_TRA', 'TCR_c_gene_TRA', 'TCR_productive_TRA', 'TCR_cdr3_TRA', 'TCR_umis_TRA', 'TCR_chain_TRA2', 'TCR_v_gene_TRA2', 'TCR_d_gene_TRA2', 'TCR_j_gene_TRA2', 'TCR_c_gene_TRA2', 'TCR_productive_TRA2', 'TCR_cdr3_TRA2', 'TCR_umis_TRA2', 'TCR_chain_TRB', 'TCR_v_gene_TRB', 'TCR_d_gene_TRB', 'TCR_j_gene_TRB', 'TCR_c_gene_TRB', 'TCR_productive_TRB', 'TCR_chain_TRB2', 'TCR_v_gene_TRB2', 'TCR_d_gene_TRB2', 'TCR_j_gene_TRB2', 'TCR_c_gene_TRB2', 'TCR_productive_TRB2', 'TCR_cdr3_TRB2', 'TCR_umis_TRB2', 'BCR_umis_HC', 'BCR_contig_qc_HC', 'BCR_functionality_HC', 'BCR_v_call_HC', 'BCR_v_score_HC', 'BCR_j_call_HC', 'BCR_j_score_HC', 'BCR_junction_aa_HC', 'BCR_total_mut_HC', 'BCR_s_mut_HC', 'BCR_r_mut_HC', 'BCR_c_gene_HC', 'BCR_clone_per_replicate_HC', 'BCR_clone_global_HC', 'BCR_clonal_abundance_HC', 'BCR_locus_LC', 'BCR_umis_LC', 'BCR_contig_qc_LC', 'BCR_functionality_LC', 'BCR_v_call_LC', 'BCR_v_score_LC', 'BCR_j_call_LC', 'BCR_j_score_LC', 'BCR_junction_aa_LC', 'BCR_total_mut_LC', 'BCR_s_mut_LC', 'BCR_r_mut_LC', 'BCR_c_gene_LC', 'COMBAT_ID', 'scRNASeq_sample_ID', 'COMBAT_participant_timepoint_ID', 'Source', 'Age', 'Sex', 'Race', 'BMI', 'Hospitalstay', 'Death28', 'Institute', 'PreExistingHeartDisease', 'PreExistingLungDisease', 'PreExistingKidneyDisease', 'PreExistingDiabetes', 'PreExistingHypertension', 'PreExistingImmunocompromised', 'Smoking', 'Symptomatic', 'Requiredvasoactive', 'Respiratorysupport', 'SARSCoV2PCR', 'Outcome', 'TimeSinceOnset', 'Ethnicity', 'Tissue', 'DiseaseClassification', 'Pool_ID', 'Channel_ID'\n",
       "    var: 'gene_ids', 'feature_types'\n",
       "    uns: 'Institute', 'ObjectCreateDate', 'Source_colors', 'Technology', 'genome_annotation_version', 'pca'\n",
       "    obsm: 'X_pca'\n",
       "    varm: 'PCs'\n",
       "    layers: 'raw'"
      ]
     },
     "execution_count": 69,
     "metadata": {},
     "output_type": "execute_result"
    }
   ],
   "source": [
    "rna_query"
   ]
  },
  {
   "cell_type": "markdown",
   "id": "8c2039cb",
   "metadata": {},
   "source": [
    "## Use normalized expression as facs.X"
   ]
  },
  {
   "cell_type": "code",
   "execution_count": 70,
   "id": "4af87191",
   "metadata": {},
   "outputs": [],
   "source": [
    "facs.layers['original_X'] = facs.X.copy()\n",
    "facs.X = facs.layers['exprs'].copy()"
   ]
  },
  {
   "cell_type": "markdown",
   "id": "998a3942",
   "metadata": {},
   "source": [
    "## Check data matrix sparsification and sparsify"
   ]
  },
  {
   "cell_type": "code",
   "execution_count": 71,
   "id": "fd6f3648",
   "metadata": {},
   "outputs": [
    {
     "data": {
      "text/plain": [
       "(True, True, False, False)"
      ]
     },
     "execution_count": 71,
     "metadata": {},
     "output_type": "execute_result"
    }
   ],
   "source": [
    "scipy.sparse.issparse(rna.X), scipy.sparse.issparse(adt.X), scipy.sparse.issparse(cytof.X), scipy.sparse.issparse(facs.X)"
   ]
  },
  {
   "cell_type": "code",
   "execution_count": 72,
   "id": "342433cd",
   "metadata": {},
   "outputs": [],
   "source": [
    "cytof.X = sparse.csr_matrix(cytof.X)"
   ]
  },
  {
   "cell_type": "code",
   "execution_count": 73,
   "id": "6fcc26fe",
   "metadata": {},
   "outputs": [],
   "source": [
    "facs.X = sparse.csr_matrix(facs.X)"
   ]
  },
  {
   "cell_type": "code",
   "execution_count": 74,
   "id": "299b353e",
   "metadata": {},
   "outputs": [
    {
     "data": {
      "text/plain": [
       "(True, True, True, True)"
      ]
     },
     "execution_count": 74,
     "metadata": {},
     "output_type": "execute_result"
    }
   ],
   "source": [
    "scipy.sparse.issparse(rna.X), scipy.sparse.issparse(adt.X), scipy.sparse.issparse(cytof.X), scipy.sparse.issparse(facs.X)"
   ]
  },
  {
   "cell_type": "markdown",
   "id": "bc81f566",
   "metadata": {},
   "source": [
    "## Cell type harmonization"
   ]
  },
  {
   "cell_type": "code",
   "execution_count": 75,
   "id": "282bdbf0",
   "metadata": {},
   "outputs": [],
   "source": [
    "def get_map_raw(l1, l2):\n",
    "    dic = {}\n",
    "    for label in l1:\n",
    "        if label in l2:\n",
    "            dic.update([(label, label)])\n",
    "        else:\n",
    "            dic.update([(label, None)])\n",
    "\n",
    "    for label in l2:\n",
    "        if label not in dic:\n",
    "            dic.update([(label, None)])\n",
    "    \n",
    "    return dic"
   ]
  },
  {
   "cell_type": "code",
   "execution_count": 76,
   "id": "31af60e8",
   "metadata": {},
   "outputs": [],
   "source": [
    "#cite_cells.Annotation_major_subset.unique(), cytof_cells_harmonised.harmonized_major_subset.unique()"
   ]
  },
  {
   "cell_type": "code",
   "execution_count": 77,
   "id": "a69ed959",
   "metadata": {
    "scrolled": true
   },
   "outputs": [],
   "source": [
    "#cite_cells.Annotation_cell_type.unique(), cytof_cells_harmonised.harmonized_cell_type.unique()"
   ]
  },
  {
   "cell_type": "code",
   "execution_count": 78,
   "id": "9bc5c72f",
   "metadata": {},
   "outputs": [],
   "source": [
    "cell_type_harm_map = get_map_raw(cite_cells.Annotation_cell_type.unique(), cytof_cells_harmonised.harmonized_cell_type.unique())\n",
    "major_subset_harm_map = get_map_raw(cite_cells.Annotation_major_subset.unique(), cytof_cells_harmonised.harmonized_major_subset.unique())"
   ]
  },
  {
   "cell_type": "markdown",
   "id": "a4d7921a",
   "metadata": {},
   "source": [
    "#### Note: \n",
    "\n",
    "From the maps one can see that labels between cytof and citeseq are already harmonized. The only thing to do at this point is to rename the cytof cells as the corresponding harmonized labels present in the cytof_cells_harmonized file.\n",
    "The only thing to notice is that a subset of cell types identified with one assay are not identified with the other one and vice versa."
   ]
  },
  {
   "cell_type": "code",
   "execution_count": 79,
   "id": "b95d15b3",
   "metadata": {
    "scrolled": true
   },
   "outputs": [],
   "source": [
    "#used to map the name present in cytof_cells the same way as harmonized_cytof_cells (and consequently cite_Cells)\n",
    "\n",
    "dic_major = {}\n",
    "dic_type = {}\n",
    "for i in range(len(cytof_cells_harmonised)):\n",
    "    key = cytof_cells_harmonised.iloc[i]['major_cell_type']\n",
    "    value_major = cytof_cells_harmonised.iloc[i]['harmonized_major_subset']\n",
    "    value_type = cytof_cells_harmonised.iloc[i]['harmonized_cell_type']\n",
    "    if value_major not in dic_major:\n",
    "        dic_major.update([(key, value_major)])\n",
    "    if value_type not in dic_type:\n",
    "        dic_type.update([(key, value_type)])"
   ]
  },
  {
   "cell_type": "code",
   "execution_count": 80,
   "id": "24b591ca",
   "metadata": {},
   "outputs": [],
   "source": [
    "cytof.obs['harmonized_major_subset'] = cytof.obs['major_cell_type'].map(dic_major)\n",
    "cytof.obs['harmonized_cell_type'] = cytof.obs['major_cell_type'].map(dic_type)"
   ]
  },
  {
   "cell_type": "code",
   "execution_count": 81,
   "id": "33bd257c",
   "metadata": {
    "scrolled": false
   },
   "outputs": [
    {
     "data": {
      "text/plain": [
       "Index(['sample_id', 'condition', 'patient_id', 'batch', 'cellID',\n",
       "       'COMBAT_ID_Time', 'CyTOF_priority', 'major_cell_type',\n",
       "       'fine_cluster_id', 'Annotation_major_subset', 'Annotation_cell_type'],\n",
       "      dtype='object')"
      ]
     },
     "execution_count": 81,
     "metadata": {},
     "output_type": "execute_result"
    }
   ],
   "source": [
    "cytof.obs.rename(columns={'harmonized_major_subset': 'Annotation_major_subset', 'harmonized_cell_type': 'Annotation_cell_type'}, inplace=True)\n",
    "cytof.obs.columns"
   ]
  },
  {
   "cell_type": "code",
   "execution_count": 82,
   "id": "5336d46e",
   "metadata": {},
   "outputs": [
    {
     "data": {
      "text/plain": [
       "Index(['B', 'CD4', 'CD8', 'DC', 'DN', 'DP', 'GDT', 'HSC', 'MAIT', 'Mast', 'NK',\n",
       "       'PB', 'PLT', 'RET', 'cMono', 'iNKT', 'nan', 'ncMono'],\n",
       "      dtype='object')"
      ]
     },
     "execution_count": 82,
     "metadata": {},
     "output_type": "execute_result"
    }
   ],
   "source": [
    "rna.obs['Annotation_major_subset'].cat.categories"
   ]
  },
  {
   "cell_type": "code",
   "execution_count": 83,
   "id": "b93a3eb9",
   "metadata": {},
   "outputs": [],
   "source": [
    "cytof.obs['Annotation_major_subset'] = cytof.obs['Annotation_major_subset'].astype('category')\n",
    "cytof.obs['Annotation_cell_type'] = cytof.obs['Annotation_cell_type'].astype('category')"
   ]
  },
  {
   "cell_type": "code",
   "execution_count": 84,
   "id": "b1560d28",
   "metadata": {},
   "outputs": [],
   "source": [
    "cytof.obs['Annotation_major_subset'] = cytof.obs['Annotation_major_subset'].cat.rename_categories({'UNCLASSIFIED': 'nan'})\n",
    "cytof.obs['Annotation_cell_type'] = cytof.obs['Annotation_cell_type'].cat.rename_categories({'UNCLASSIFIED': 'nan'})\n",
    "#cytof.obs['Annotation_major_subset'].unique(), cytof.obs['Annotation_cell_type'].unique()"
   ]
  },
  {
   "cell_type": "code",
   "execution_count": 85,
   "id": "df2a428d",
   "metadata": {},
   "outputs": [],
   "source": [
    "facs.obs['Annotation_major_subset'] = 'WBCs' #to change to CD4\n",
    "facs.obs['Annotation_cell_type'] = 'WBCs'"
   ]
  },
  {
   "cell_type": "markdown",
   "id": "d88ff091",
   "metadata": {},
   "source": [
    "## Assign domain to each adata"
   ]
  },
  {
   "cell_type": "code",
   "execution_count": 86,
   "id": "1012c91d",
   "metadata": {},
   "outputs": [],
   "source": [
    "rna.obs['Domain'] = 'cite'\n",
    "adt.obs['Domain'] = 'cite'\n",
    "rna_query.obs['Domain'] = 'cite'\n",
    "adt_query.obs['Domain'] = 'cite'\n",
    "cytof.obs['Domain'] = 'cytof'\n",
    "facs.obs['Domain'] = 'facs'\n",
    "rna.obs['Domain_major'] = 'rna'\n",
    "adt.obs['Domain_major'] = 'adt'\n",
    "rna_query.obs['Domain_major'] = 'rna'\n",
    "adt_query.obs['Domain_major'] = 'adt'\n",
    "cytof.obs['Domain_major'] = 'cytof'\n",
    "facs.obs['Domain_major'] = 'facs'"
   ]
  },
  {
   "cell_type": "markdown",
   "id": "31b340b6",
   "metadata": {},
   "source": [
    "## Assign reference or query label to each adata"
   ]
  },
  {
   "cell_type": "code",
   "execution_count": 87,
   "id": "9f101a6d",
   "metadata": {},
   "outputs": [],
   "source": [
    "rna.obs['Framework'] = 'reference'\n",
    "adt.obs['Framework'] = 'reference'\n",
    "rna_query.obs['Framework'] = 'query'\n",
    "adt_query.obs['Framework'] = 'query'\n",
    "cytof.obs['Framework'] = 'reference'\n",
    "facs.obs['Framework'] = 'reference'"
   ]
  },
  {
   "cell_type": "markdown",
   "id": "94308391",
   "metadata": {},
   "source": [
    "## Write preprocessed, harmonized files"
   ]
  },
  {
   "cell_type": "code",
   "execution_count": 88,
   "id": "867fabb3",
   "metadata": {},
   "outputs": [],
   "source": [
    "rna.write(\"rna-pp-harm-sub.h5ad\", compression=\"gzip\")\n",
    "adt.write(\"adt-pp-harm-sub.h5ad\", compression=\"gzip\")\n",
    "rna_query.write(\"rna_query-pp-harm-sub.h5ad\", compression=\"gzip\")\n",
    "adt_query.write(\"adt_query-pp-harm-sub.h5ad\", compression=\"gzip\")\n",
    "cytof.write(\"cytof-pp-harm-sub.h5ad\", compression=\"gzip\")\n",
    "facs.write(\"facs-pp-harm-sub.h5ad\", compression=\"gzip\")"
   ]
  }
 ],
 "metadata": {
  "kernelspec": {
   "display_name": "Python 3 (ipykernel)",
   "language": "python",
   "name": "python3"
  },
  "language_info": {
   "codemirror_mode": {
    "name": "ipython",
    "version": 3
   },
   "file_extension": ".py",
   "mimetype": "text/x-python",
   "name": "python",
   "nbconvert_exporter": "python",
   "pygments_lexer": "ipython3",
   "version": "3.10.4"
  }
 },
 "nbformat": 4,
 "nbformat_minor": 5
}
