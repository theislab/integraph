{
 "cells": [
  {
   "cell_type": "code",
   "execution_count": 16,
   "id": "cbf286e1",
   "metadata": {},
   "outputs": [],
   "source": [
    "vimport anndata as ad\n",
    "import pandas as pd\n",
    "import numpy as np\n",
    "from numpy.random import default_rng\n",
    "import scanpy as sc\n",
    "import scipy\n",
    "from scipy import sparse"
   ]
  },
  {
   "cell_type": "code",
   "execution_count": 17,
   "id": "81080ae0",
   "metadata": {
    "scrolled": true
   },
   "outputs": [
    {
     "name": "stdout",
     "output_type": "stream",
     "text": [
      "all_proteins_V1.txt  combat_rna.h5ad\t\t cytof_full.h5ad\r\n",
      "cite_cells.csv\t     cytof_cells.csv\t\t facs_full.h5ad\r\n",
      "combat_adt.h5ad      cytof_cells_harmonised.csv\r\n"
     ]
    }
   ],
   "source": [
    "data_path = '../../../../lustre/groups/ml01/datasets/projects/202201212_psngraph_fabiola.curion/data.dir/'\n",
    "!ls $data_path"
   ]
  },
  {
   "cell_type": "markdown",
   "id": "bcc9eea6",
   "metadata": {},
   "source": [
    "## Loading adatas"
   ]
  },
  {
   "cell_type": "code",
   "execution_count": 18,
   "id": "3d019eb9",
   "metadata": {
    "scrolled": true
   },
   "outputs": [
    {
     "name": "stderr",
     "output_type": "stream",
     "text": [
      "/home/icb/leonardo.golinelli/.conda/envs/multigrate/lib/python3.10/site-packages/anndata/_core/anndata.py:121: ImplicitModificationWarning: Transforming to str index.\n",
      "  warnings.warn(\"Transforming to str index.\", ImplicitModificationWarning)\n",
      "/home/icb/leonardo.golinelli/.conda/envs/multigrate/lib/python3.10/site-packages/anndata/_core/anndata.py:1828: UserWarning: Observation names are not unique. To make them unique, call `.obs_names_make_unique`.\n",
      "  utils.warn_names_duplicates(\"obs\")\n"
     ]
    }
   ],
   "source": [
    "rna = ad.read_h5ad(data_path+\"combat_rna.h5ad\")\n",
    "adt = ad.read_h5ad(data_path+\"combat_adt.h5ad\")\n",
    "cytof = ad.read_h5ad(data_path+\"cytof_full.h5ad\")\n",
    "facs = ad.read_h5ad(data_path+\"facs_full.h5ad\")"
   ]
  },
  {
   "cell_type": "markdown",
   "id": "f9c50882",
   "metadata": {},
   "source": [
    "## Fixing warnings"
   ]
  },
  {
   "cell_type": "code",
   "execution_count": 19,
   "id": "11cc1e07",
   "metadata": {},
   "outputs": [],
   "source": [
    "facs.obs_names = [str(i)+'_facs' for i in range(len(facs))]\n",
    "adt.var.index = [index[3:] for index in adt.var.index]"
   ]
  },
  {
   "cell_type": "code",
   "execution_count": 20,
   "id": "a973d58b",
   "metadata": {
    "scrolled": false
   },
   "outputs": [
    {
     "data": {
      "text/plain": [
       "((836148, 20615), (836148, 192), (7118158, 48), (131920, 12))"
      ]
     },
     "execution_count": 20,
     "metadata": {},
     "output_type": "execute_result"
    }
   ],
   "source": [
    "rna.shape, adt.shape, cytof.shape, facs.shape"
   ]
  },
  {
   "cell_type": "markdown",
   "id": "be942bb1",
   "metadata": {},
   "source": [
    "## Loading label harmonization files"
   ]
  },
  {
   "cell_type": "code",
   "execution_count": 21,
   "id": "4dfabd30",
   "metadata": {},
   "outputs": [],
   "source": [
    "cite_cells = pd.read_csv(data_path+'cite_cells.csv')\n",
    "cytof_cells = pd.read_csv(data_path+'cytof_cells.csv')\n",
    "cytof_cells_harmonised = pd.read_csv(data_path+'cytof_cells_harmonised.csv', sep=';')"
   ]
  },
  {
   "cell_type": "markdown",
   "id": "6b627896",
   "metadata": {},
   "source": [
    "## Removing original obsm"
   ]
  },
  {
   "cell_type": "code",
   "execution_count": 22,
   "id": "98943c48",
   "metadata": {},
   "outputs": [],
   "source": [
    "rna.obsm = None\n",
    "adt.obsm = None\n",
    "cytof.obsm = None\n",
    "facs.obsm = None"
   ]
  },
  {
   "cell_type": "markdown",
   "id": "a18d8b6f",
   "metadata": {},
   "source": [
    "## Check variable distributions"
   ]
  },
  {
   "cell_type": "code",
   "execution_count": 23,
   "id": "2945f585",
   "metadata": {},
   "outputs": [],
   "source": [
    "#plt.hist(rna.X.data[:100])"
   ]
  },
  {
   "cell_type": "code",
   "execution_count": 24,
   "id": "da16bfe1",
   "metadata": {},
   "outputs": [],
   "source": [
    "#plt.hist(rna.layers['raw'].data[:100])"
   ]
  },
  {
   "cell_type": "code",
   "execution_count": 25,
   "id": "6ad5c052",
   "metadata": {
    "scrolled": true
   },
   "outputs": [],
   "source": [
    "#plt.hist(adt.X.data[:100])"
   ]
  },
  {
   "cell_type": "code",
   "execution_count": 26,
   "id": "65df6fcc",
   "metadata": {},
   "outputs": [],
   "source": [
    "#plt.hist(adt.layers['raw'].data[:100])"
   ]
  },
  {
   "cell_type": "code",
   "execution_count": 27,
   "id": "420db66b",
   "metadata": {
    "scrolled": true
   },
   "outputs": [],
   "source": [
    "#plt.hist(cytof.X[:,9])"
   ]
  },
  {
   "cell_type": "code",
   "execution_count": 28,
   "id": "1c942f7f",
   "metadata": {
    "scrolled": true
   },
   "outputs": [],
   "source": [
    "#plt.hist(facs.X[:,1])"
   ]
  },
  {
   "cell_type": "code",
   "execution_count": 29,
   "id": "38d9f314",
   "metadata": {
    "scrolled": true
   },
   "outputs": [],
   "source": [
    "#plt.hist(facs.X[:,1])"
   ]
  },
  {
   "cell_type": "markdown",
   "id": "dd77c683",
   "metadata": {},
   "source": [
    "## Subsampling cytof"
   ]
  },
  {
   "cell_type": "code",
   "execution_count": 30,
   "id": "7cae207f",
   "metadata": {},
   "outputs": [
    {
     "name": "stdout",
     "output_type": "stream",
     "text": [
      "(1000000, 48)\n"
     ]
    }
   ],
   "source": [
    "#subset size is taken to equal the length of the smallest dataset: i.e. facs\n",
    "rng = default_rng(seed=100)\n",
    "cytof_subset = rng.choice(len(cytof), size=round(1e6), replace=False)\n",
    "cytof = cytof[cytof_subset,].copy()\n",
    "print(cytof.shape)"
   ]
  },
  {
   "cell_type": "code",
   "execution_count": 31,
   "id": "f532320c",
   "metadata": {},
   "outputs": [
    {
     "data": {
      "text/plain": [
       "True"
      ]
     },
     "execution_count": 31,
     "metadata": {},
     "output_type": "execute_result"
    }
   ],
   "source": [
    "(rna.obs_names == adt.obs_names).all()"
   ]
  },
  {
   "cell_type": "markdown",
   "id": "3d2e9829",
   "metadata": {},
   "source": [
    "## RNA variable selection and pca"
   ]
  },
  {
   "cell_type": "code",
   "execution_count": 33,
   "id": "7ea8e246",
   "metadata": {
    "scrolled": true
   },
   "outputs": [],
   "source": [
    "sc.pp.highly_variable_genes(rna, n_top_genes=4000)\n",
    "highly_variable_genes = rna.var['highly_variable']\n",
    "rna = rna[:,highly_variable_genes].copy()\n",
    "sc.tl.pca(rna, n_comps=50, svd_solver=\"auto\")"
   ]
  },
  {
   "cell_type": "markdown",
   "id": "8c2039cb",
   "metadata": {},
   "source": [
    "## Use normalized expression as facs.X"
   ]
  },
  {
   "cell_type": "code",
   "execution_count": 34,
   "id": "4af87191",
   "metadata": {},
   "outputs": [],
   "source": [
    "facs.layers['original_X'] = facs.X.copy()\n",
    "facs.X = facs.layers['exprs'].copy()"
   ]
  },
  {
   "cell_type": "markdown",
   "id": "998a3942",
   "metadata": {},
   "source": [
    "## Check data matrix sparsification and sparsify"
   ]
  },
  {
   "cell_type": "code",
   "execution_count": 35,
   "id": "fd6f3648",
   "metadata": {},
   "outputs": [
    {
     "data": {
      "text/plain": [
       "(True, True, False, False)"
      ]
     },
     "execution_count": 35,
     "metadata": {},
     "output_type": "execute_result"
    }
   ],
   "source": [
    "scipy.sparse.issparse(rna.X), scipy.sparse.issparse(adt.X), scipy.sparse.issparse(cytof.X), scipy.sparse.issparse(facs.X)"
   ]
  },
  {
   "cell_type": "code",
   "execution_count": 36,
   "id": "342433cd",
   "metadata": {},
   "outputs": [],
   "source": [
    "cytof.X = sparse.csr_matrix(cytof.X)"
   ]
  },
  {
   "cell_type": "code",
   "execution_count": 37,
   "id": "6fcc26fe",
   "metadata": {},
   "outputs": [],
   "source": [
    "facs.X = sparse.csr_matrix(facs.X)"
   ]
  },
  {
   "cell_type": "code",
   "execution_count": 38,
   "id": "299b353e",
   "metadata": {},
   "outputs": [
    {
     "data": {
      "text/plain": [
       "(True, True, True, True)"
      ]
     },
     "execution_count": 38,
     "metadata": {},
     "output_type": "execute_result"
    }
   ],
   "source": [
    "scipy.sparse.issparse(rna.X), scipy.sparse.issparse(adt.X), scipy.sparse.issparse(cytof.X), scipy.sparse.issparse(facs.X)"
   ]
  },
  {
   "cell_type": "markdown",
   "id": "bc81f566",
   "metadata": {},
   "source": [
    "## Cell type harmonization"
   ]
  },
  {
   "cell_type": "code",
   "execution_count": 39,
   "id": "282bdbf0",
   "metadata": {},
   "outputs": [],
   "source": [
    "def get_map_raw(l1, l2):\n",
    "    dic = {}\n",
    "    for label in l1:\n",
    "        if label in l2:\n",
    "            dic.update([(label, label)])\n",
    "        else:\n",
    "            dic.update([(label, None)])\n",
    "\n",
    "    for label in l2:\n",
    "        if label not in dic:\n",
    "            dic.update([(label, None)])\n",
    "    \n",
    "    return dic"
   ]
  },
  {
   "cell_type": "code",
   "execution_count": 40,
   "id": "31af60e8",
   "metadata": {},
   "outputs": [],
   "source": [
    "#cite_cells.Annotation_major_subset.unique(), cytof_cells_harmonised.harmonized_major_subset.unique()"
   ]
  },
  {
   "cell_type": "code",
   "execution_count": 41,
   "id": "a69ed959",
   "metadata": {
    "scrolled": true
   },
   "outputs": [],
   "source": [
    "#cite_cells.Annotation_cell_type.unique(), cytof_cells_harmonised.harmonized_cell_type.unique()"
   ]
  },
  {
   "cell_type": "code",
   "execution_count": 42,
   "id": "9bc5c72f",
   "metadata": {},
   "outputs": [],
   "source": [
    "cell_type_harm_map = get_map_raw(cite_cells.Annotation_cell_type.unique(), cytof_cells_harmonised.harmonized_cell_type.unique())\n",
    "major_subset_harm_map = get_map_raw(cite_cells.Annotation_major_subset.unique(), cytof_cells_harmonised.harmonized_major_subset.unique())"
   ]
  },
  {
   "cell_type": "markdown",
   "id": "a4d7921a",
   "metadata": {},
   "source": [
    "#### Note: \n",
    "\n",
    "From the maps one can see that labels between cytof and citeseq are already harmonized. The only thing to do at this point is to rename the cytof cells as the corresponding harmonized labels present in the cytof_cells_harmonized file.\n",
    "The only thing to notice is that a subset of cell types identified with one assay are not identified with the other one and vice versa."
   ]
  },
  {
   "cell_type": "code",
   "execution_count": 43,
   "id": "b95d15b3",
   "metadata": {
    "scrolled": true
   },
   "outputs": [],
   "source": [
    "#used to map the name present in cytof_cells the same way as harmonized_cytof_cells (and consequently cite_Cells)\n",
    "\n",
    "dic_major = {}\n",
    "dic_type = {}\n",
    "for i in range(len(cytof_cells_harmonised)):\n",
    "    key = cytof_cells_harmonised.iloc[i]['major_cell_type']\n",
    "    value_major = cytof_cells_harmonised.iloc[i]['harmonized_major_subset']\n",
    "    value_type = cytof_cells_harmonised.iloc[i]['harmonized_cell_type']\n",
    "    if value_major not in dic_major:\n",
    "        dic_major.update([(key, value_major)])\n",
    "    if value_type not in dic_type:\n",
    "        dic_type.update([(key, value_type)])"
   ]
  },
  {
   "cell_type": "code",
   "execution_count": 44,
   "id": "24b591ca",
   "metadata": {},
   "outputs": [],
   "source": [
    "cytof.obs['harmonized_major_subset'] = cytof.obs['major_cell_type'].map(dic_major)\n",
    "cytof.obs['harmonized_cell_type'] = cytof.obs['major_cell_type'].map(dic_type)"
   ]
  },
  {
   "cell_type": "code",
   "execution_count": 45,
   "id": "33bd257c",
   "metadata": {
    "scrolled": false
   },
   "outputs": [
    {
     "data": {
      "text/plain": [
       "Index(['sample_id', 'condition', 'patient_id', 'batch', 'cellID',\n",
       "       'COMBAT_ID_Time', 'CyTOF_priority', 'major_cell_type',\n",
       "       'fine_cluster_id', 'Annotation_major_subset', 'Annotation_cell_type'],\n",
       "      dtype='object')"
      ]
     },
     "execution_count": 45,
     "metadata": {},
     "output_type": "execute_result"
    }
   ],
   "source": [
    "cytof.obs.rename(columns={'harmonized_major_subset': 'Annotation_major_subset', 'harmonized_cell_type': 'Annotation_cell_type'}, inplace=True)\n",
    "cytof.obs.columns"
   ]
  },
  {
   "cell_type": "code",
   "execution_count": 46,
   "id": "5336d46e",
   "metadata": {},
   "outputs": [
    {
     "data": {
      "text/plain": [
       "Index(['B', 'CD4', 'CD8', 'DC', 'DN', 'DP', 'GDT', 'HSC', 'MAIT', 'Mast', 'NK',\n",
       "       'PB', 'PLT', 'RET', 'cMono', 'iNKT', 'nan', 'ncMono'],\n",
       "      dtype='object')"
      ]
     },
     "execution_count": 46,
     "metadata": {},
     "output_type": "execute_result"
    }
   ],
   "source": [
    "rna.obs['Annotation_major_subset'].cat.categories"
   ]
  },
  {
   "cell_type": "code",
   "execution_count": 47,
   "id": "b93a3eb9",
   "metadata": {},
   "outputs": [],
   "source": [
    "cytof.obs['Annotation_major_subset'] = cytof.obs['Annotation_major_subset'].astype('category')\n",
    "cytof.obs['Annotation_cell_type'] = cytof.obs['Annotation_cell_type'].astype('category')"
   ]
  },
  {
   "cell_type": "code",
   "execution_count": 48,
   "id": "b1560d28",
   "metadata": {},
   "outputs": [],
   "source": [
    "cytof.obs['Annotation_major_subset'] = cytof.obs['Annotation_major_subset'].cat.rename_categories({'UNCLASSIFIED': 'nan'})\n",
    "cytof.obs['Annotation_cell_type'] = cytof.obs['Annotation_cell_type'].cat.rename_categories({'UNCLASSIFIED': 'nan'})\n",
    "#cytof.obs['Annotation_major_subset'].unique(), cytof.obs['Annotation_cell_type'].unique()"
   ]
  },
  {
   "cell_type": "code",
   "execution_count": 49,
   "id": "df2a428d",
   "metadata": {},
   "outputs": [],
   "source": [
    "facs.obs['Annotation_major_subset'] = 'CD4' #to change to CD4\n",
    "facs.obs['Annotation_cell_type'] = 'CD4'"
   ]
  },
  {
   "cell_type": "markdown",
   "id": "d88ff091",
   "metadata": {},
   "source": [
    "## Assign domain to each adata"
   ]
  },
  {
   "cell_type": "code",
   "execution_count": 50,
   "id": "1012c91d",
   "metadata": {},
   "outputs": [],
   "source": [
    "rna.obs['Domain'] = 'cite'\n",
    "adt.obs['Domain'] = 'cite'\n",
    "cytof.obs['Domain'] = 'cytof'\n",
    "facs.obs['Domain'] = 'facs'\n",
    "rna.obs['Domain_major'] = 'rna'\n",
    "adt.obs['Domain_major'] = 'adt'\n",
    "cytof.obs['Domain_major'] = 'cytof'\n",
    "facs.obs['Domain_major'] = 'facs'"
   ]
  },
  {
   "cell_type": "markdown",
   "id": "94308391",
   "metadata": {},
   "source": [
    "## Write preprocessed, harmonized files"
   ]
  },
  {
   "cell_type": "code",
   "execution_count": 52,
   "id": "fed85edf",
   "metadata": {},
   "outputs": [],
   "source": [
    "rna.write(\"all_samples/rna-pp-harm-sub.h5ad\", compression=\"gzip\")\n",
    "adt.write(\"all_samples/adt-pp-harm-sub.h5ad\", compression=\"gzip\")\n",
    "cytof.write(\"all_samples/cytof-pp-harm-sub.h5ad\", compression=\"gzip\")\n",
    "facs.write(\"all_samples/facs-pp-harm-sub.h5ad\", compression=\"gzip\")"
   ]
  },
  {
   "cell_type": "code",
   "execution_count": 55,
   "id": "d00dbb63",
   "metadata": {},
   "outputs": [
    {
     "name": "stdout",
     "output_type": "stream",
     "text": [
      "adt-pp-harm.h5ad\t\t     facs-pp-harm.h5ad\r\n",
      "adt-pp-harm-sub.h5ad\t\t     facs-pp-harm-sub.h5ad\r\n",
      "adt_query-pp-harm-sub.h5ad\t     fulldata-preprocessing.ipynb\r\n",
      "all_samples\t\t\t     pp_data_show_umaps.ipynb\r\n",
      "check harmonized labels.ipynb\t     rna-pp-harm.h5ad\r\n",
      "COMBAT-CITESeq-DATA.h5ad?download=1  rna-pp-harm-sub.h5ad\r\n",
      "compute_umap_pp_data.ipynb\t     rna_query-pp-harm-sub.h5ad\r\n",
      "cytof-pp-harm.h5ad\t\t     show_pp_data_distribution.ipynb\r\n",
      "cytof-pp-harm-sub.h5ad\t\t     umaps\r\n",
      "data_pp_harm.ipynb\r\n"
     ]
    }
   ],
   "source": [
    "!ls "
   ]
  },
  {
   "cell_type": "code",
   "execution_count": 56,
   "id": "0cadc727",
   "metadata": {},
   "outputs": [
    {
     "data": {
      "text/plain": [
       "AnnData object with n_obs × n_vars = 836148 × 20807\n",
       "    obs: 'Annotation_cluster_id', 'Annotation_cluster_name', 'Annotation_minor_subset', 'Annotation_major_subset', 'Annotation_cell_type', 'GEX_region', 'QC_ngenes', 'QC_total_UMI', 'QC_pct_mitochondrial', 'QC_scrub_doublet_scores', 'TCR_chain_composition', 'TCR_clone_ID', 'TCR_clone_count', 'TCR_clone_proportion', 'TCR_contains_unproductive', 'TCR_doublet', 'TCR_chain_TRA', 'TCR_v_gene_TRA', 'TCR_d_gene_TRA', 'TCR_j_gene_TRA', 'TCR_c_gene_TRA', 'TCR_productive_TRA', 'TCR_cdr3_TRA', 'TCR_umis_TRA', 'TCR_chain_TRA2', 'TCR_v_gene_TRA2', 'TCR_d_gene_TRA2', 'TCR_j_gene_TRA2', 'TCR_c_gene_TRA2', 'TCR_productive_TRA2', 'TCR_cdr3_TRA2', 'TCR_umis_TRA2', 'TCR_chain_TRB', 'TCR_v_gene_TRB', 'TCR_d_gene_TRB', 'TCR_j_gene_TRB', 'TCR_c_gene_TRB', 'TCR_productive_TRB', 'TCR_chain_TRB2', 'TCR_v_gene_TRB2', 'TCR_d_gene_TRB2', 'TCR_j_gene_TRB2', 'TCR_c_gene_TRB2', 'TCR_productive_TRB2', 'TCR_cdr3_TRB2', 'TCR_umis_TRB2', 'BCR_umis_HC', 'BCR_contig_qc_HC', 'BCR_functionality_HC', 'BCR_v_call_HC', 'BCR_v_score_HC', 'BCR_j_call_HC', 'BCR_j_score_HC', 'BCR_junction_aa_HC', 'BCR_total_mut_HC', 'BCR_s_mut_HC', 'BCR_r_mut_HC', 'BCR_c_gene_HC', 'BCR_clone_per_replicate_HC', 'BCR_clone_global_HC', 'BCR_clonal_abundance_HC', 'BCR_locus_LC', 'BCR_umis_LC', 'BCR_contig_qc_LC', 'BCR_functionality_LC', 'BCR_v_call_LC', 'BCR_v_score_LC', 'BCR_j_call_LC', 'BCR_j_score_LC', 'BCR_junction_aa_LC', 'BCR_total_mut_LC', 'BCR_s_mut_LC', 'BCR_r_mut_LC', 'BCR_c_gene_LC', 'COMBAT_ID', 'scRNASeq_sample_ID', 'COMBAT_participant_timepoint_ID', 'Source', 'Age', 'Sex', 'Race', 'BMI', 'Hospitalstay', 'Death28', 'Institute', 'PreExistingHeartDisease', 'PreExistingLungDisease', 'PreExistingKidneyDisease', 'PreExistingDiabetes', 'PreExistingHypertension', 'PreExistingImmunocompromised', 'Smoking', 'Symptomatic', 'Requiredvasoactive', 'Respiratorysupport', 'SARSCoV2PCR', 'Outcome', 'TimeSinceOnset', 'Ethnicity', 'Tissue', 'DiseaseClassification', 'Pool_ID', 'Channel_ID'\n",
       "    var: 'gene_ids', 'feature_types'\n",
       "    uns: 'Institute', 'ObjectCreateDate', 'Source_colors', 'Technology', 'genome_annotation_version'\n",
       "    obsm: 'X_umap', 'X_umap_source'\n",
       "    layers: 'raw'"
      ]
     },
     "execution_count": 56,
     "metadata": {},
     "output_type": "execute_result"
    }
   ],
   "source": [
    "rna = ad.read(\"COMBAT-CITESeq-DATA.h5ad?download=1\")\n",
    "rna"
   ]
  }
 ],
 "metadata": {
  "kernelspec": {
   "display_name": "Python 3 (ipykernel)",
   "language": "python",
   "name": "python3"
  },
  "language_info": {
   "codemirror_mode": {
    "name": "ipython",
    "version": 3
   },
   "file_extension": ".py",
   "mimetype": "text/x-python",
   "name": "python",
   "nbconvert_exporter": "python",
   "pygments_lexer": "ipython3",
   "version": "3.10.4"
  }
 },
 "nbformat": 4,
 "nbformat_minor": 5
}
