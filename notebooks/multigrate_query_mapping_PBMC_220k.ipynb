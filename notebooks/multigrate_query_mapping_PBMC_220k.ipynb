{
 "cells": [
  {
   "cell_type": "code",
   "execution_count": 18,
   "id": "75ab371d",
   "metadata": {
    "scrolled": false
   },
   "outputs": [],
   "source": [
    "import numpy as np\n",
    "import scanpy as sc\n",
    "import multigrate as mtg\n",
    "import anndata as ad\n",
    "import scipy\n",
    "from scipy import sparse\n",
    "import os\n",
    "import matplotlib.pyplot as plt"
   ]
  },
  {
   "cell_type": "code",
   "execution_count": 19,
   "id": "02764b23",
   "metadata": {},
   "outputs": [],
   "source": [
    "results_path = \"../results/multigrate/trimodal/coef_1000.0/\""
   ]
  },
  {
   "cell_type": "markdown",
   "id": "d970cc88",
   "metadata": {},
   "source": [
    "## Load \"reference\" combined anndata and query anndatas"
   ]
  },
  {
   "cell_type": "code",
   "execution_count": 20,
   "id": "19665a42",
   "metadata": {
    "scrolled": true
   },
   "outputs": [
    {
     "name": "stdout",
     "output_type": "stream",
     "text": [
      "loading data..\n"
     ]
    }
   ],
   "source": [
    "combined = ad.read_h5ad(results_path+\"combined.h5ad\")\n",
    "rna_query = ad.read_h5ad(\"../pp_harm_data/rna_query-pp-harm-sub.h5ad\")\n",
    "adt_query = ad.read_h5ad(\"../pp_harm_data/adt_query-pp-harm-sub.h5ad\")"
   ]
  },
  {
   "cell_type": "markdown",
   "id": "f6f2b050",
   "metadata": {},
   "source": [
    "## Recreate \"modality_lengths\"\n",
    "\n",
    "had to remove it to solve a bug with writing the concatenated anndata in the multigrate reference training"
   ]
  },
  {
   "cell_type": "code",
   "execution_count": 21,
   "id": "11ecec66",
   "metadata": {
    "scrolled": true
   },
   "outputs": [
    {
     "name": "stdout",
     "output_type": "stream",
     "text": [
      "adt and cytof have 26 common features\n",
      "concatenating data..\n"
     ]
    },
    {
     "name": "stderr",
     "output_type": "stream",
     "text": [
      "/home/icb/leonardo.golinelli/.conda/envs/multigrate/lib/python3.10/site-packages/anndata/_core/anndata.py:1830: UserWarning: Variable names are not unique. To make them unique, call `.var_names_make_unique`.\n",
      "  utils.warn_names_duplicates(\"var\")\n"
     ]
    },
    {
     "data": {
      "text/plain": [
       "{0: 4000, 1: 26, 2: 166, 3: 22}"
      ]
     },
     "execution_count": 21,
     "metadata": {},
     "output_type": "execute_result"
    }
   ],
   "source": [
    "#had to delete that due to bug\n",
    "rna = ad.read_h5ad(\"../pp_harm_data/rna-pp-harm-sub.h5ad\")\n",
    "adt = ad.read_h5ad(\"../pp_harm_data/adt-pp-harm-sub.h5ad\")\n",
    "cytof = ad.read_h5ad(\"../pp_harm_data/cytof-pp-harm-sub.h5ad\")\n",
    "intersection = adt.var.index.intersection(cytof.var.index).tolist()\n",
    "print(\"adt and cytof have {} common features\".format(len(intersection)))\n",
    "adt_unique = adt[:, adt.var_names.drop(intersection)].copy()\n",
    "cytof_unique = cytof[:, cytof.var_names.drop(intersection)].copy()\n",
    "adt_common = adt[:, intersection].copy()\n",
    "cytof_common = cytof[:, intersection].copy()\n",
    "print(\"concatenating data..\")\n",
    "combined_uns = mtg.data.organize_multiome_anndatas(\n",
    "    adatas = [[rna, None], [adt_common, cytof_common], [adt_unique, None], [None, cytof_unique]],\n",
    "    layers = [[None, None], [None, None], [None, None], [None, None]],\n",
    ")\n",
    "combined.uns['modality_lengths'] = combined_uns.uns['modality_lengths'].copy()\n",
    "combined.uns['modality_lengths']"
   ]
  },
  {
   "cell_type": "markdown",
   "id": "2e8246fe",
   "metadata": {},
   "source": [
    "## Setup query anndatas"
   ]
  },
  {
   "cell_type": "code",
   "execution_count": 22,
   "id": "e6ab3144",
   "metadata": {
    "scrolled": true
   },
   "outputs": [
    {
     "name": "stderr",
     "output_type": "stream",
     "text": [
      "/home/icb/leonardo.golinelli/.conda/envs/multigrate/lib/python3.10/site-packages/anndata/_core/anndata.py:872: UserWarning: \n",
      "AnnData expects .obs.index to contain strings, but got values like:\n",
      "    []\n",
      "\n",
      "    Inferred to be: empty\n",
      "\n",
      "  names = self._prep_dim_index(names, \"obs\")\n",
      "/home/icb/leonardo.golinelli/.conda/envs/multigrate/lib/python3.10/site-packages/anndata/_core/anndata.py:872: UserWarning: \n",
      "AnnData expects .obs.index to contain strings, but got values like:\n",
      "    []\n",
      "\n",
      "    Inferred to be: empty\n",
      "\n",
      "  names = self._prep_dim_index(names, \"obs\")\n",
      "/home/icb/leonardo.golinelli/.conda/envs/multigrate/lib/python3.10/site-packages/anndata/_core/anndata.py:1830: UserWarning: Variable names are not unique. To make them unique, call `.var_names_make_unique`.\n",
      "  utils.warn_names_duplicates(\"var\")\n"
     ]
    },
    {
     "data": {
      "text/plain": [
       "AnnData object with n_obs × n_vars = 32980 × 4214\n",
       "    obs: 'Annotation_cluster_id', 'Annotation_cluster_name', 'Annotation_minor_subset', 'Annotation_major_subset', 'Annotation_cell_type', 'GEX_region', 'QC_ngenes', 'QC_total_UMI', 'QC_pct_mitochondrial', 'QC_scrub_doublet_scores', 'TCR_chain_composition', 'TCR_clone_ID', 'TCR_clone_count', 'TCR_clone_proportion', 'TCR_contains_unproductive', 'TCR_doublet', 'TCR_chain_TRA', 'TCR_v_gene_TRA', 'TCR_d_gene_TRA', 'TCR_j_gene_TRA', 'TCR_c_gene_TRA', 'TCR_productive_TRA', 'TCR_cdr3_TRA', 'TCR_umis_TRA', 'TCR_chain_TRA2', 'TCR_v_gene_TRA2', 'TCR_d_gene_TRA2', 'TCR_j_gene_TRA2', 'TCR_c_gene_TRA2', 'TCR_productive_TRA2', 'TCR_cdr3_TRA2', 'TCR_umis_TRA2', 'TCR_chain_TRB', 'TCR_v_gene_TRB', 'TCR_d_gene_TRB', 'TCR_j_gene_TRB', 'TCR_c_gene_TRB', 'TCR_productive_TRB', 'TCR_chain_TRB2', 'TCR_v_gene_TRB2', 'TCR_d_gene_TRB2', 'TCR_j_gene_TRB2', 'TCR_c_gene_TRB2', 'TCR_productive_TRB2', 'TCR_cdr3_TRB2', 'TCR_umis_TRB2', 'BCR_umis_HC', 'BCR_contig_qc_HC', 'BCR_functionality_HC', 'BCR_v_call_HC', 'BCR_v_score_HC', 'BCR_j_call_HC', 'BCR_j_score_HC', 'BCR_junction_aa_HC', 'BCR_total_mut_HC', 'BCR_s_mut_HC', 'BCR_r_mut_HC', 'BCR_c_gene_HC', 'BCR_clone_per_replicate_HC', 'BCR_clone_global_HC', 'BCR_clonal_abundance_HC', 'BCR_locus_LC', 'BCR_umis_LC', 'BCR_contig_qc_LC', 'BCR_functionality_LC', 'BCR_v_call_LC', 'BCR_v_score_LC', 'BCR_j_call_LC', 'BCR_j_score_LC', 'BCR_junction_aa_LC', 'BCR_total_mut_LC', 'BCR_s_mut_LC', 'BCR_r_mut_LC', 'BCR_c_gene_LC', 'COMBAT_ID', 'scRNASeq_sample_ID', 'COMBAT_participant_timepoint_ID', 'Source', 'Age', 'Sex', 'Race', 'BMI', 'Hospitalstay', 'Death28', 'Institute', 'PreExistingHeartDisease', 'PreExistingLungDisease', 'PreExistingKidneyDisease', 'PreExistingDiabetes', 'PreExistingHypertension', 'PreExistingImmunocompromised', 'Smoking', 'Symptomatic', 'Requiredvasoactive', 'Respiratorysupport', 'SARSCoV2PCR', 'Outcome', 'TimeSinceOnset', 'Ethnicity', 'Tissue', 'DiseaseClassification', 'Pool_ID', 'Channel_ID', 'Domain', 'Domain_major', 'Framework', 'group', 'sample_id', 'condition', 'patient_id', 'batch', 'cellID', 'COMBAT_ID_Time', 'CyTOF_priority', 'major_cell_type', 'fine_cluster_id'\n",
       "    var: 'modality'\n",
       "    uns: 'modality_lengths'"
      ]
     },
     "execution_count": 22,
     "metadata": {},
     "output_type": "execute_result"
    }
   ],
   "source": [
    "cytof_unique = cytof_unique[:0,:] #remove all observations from the cytof modalities\n",
    "cytof_common = cytof_common[:0,:]\n",
    "\n",
    "adt_query_unique = adt_query[:, adt_query.var_names.drop(intersection)].copy()\n",
    "adt_query_common = adt_query[:, intersection].copy()\n",
    "query_adata = mtg.data.organize_multiome_anndatas(\n",
    "    adatas = [[rna_query, None], [adt_query_common, cytof_common], [adt_query_unique, None], [None, cytof_unique]],\n",
    "    layers = [[None, None], [None, None], [None, None], [None, None]],\n",
    ")\n",
    "query_adata"
   ]
  },
  {
   "cell_type": "markdown",
   "id": "ce16a069",
   "metadata": {},
   "source": [
    "## Load model"
   ]
  },
  {
   "cell_type": "code",
   "execution_count": 23,
   "id": "c70afa92",
   "metadata": {
    "scrolled": false
   },
   "outputs": [
    {
     "name": "stdout",
     "output_type": "stream",
     "text": [
      "\u001b[34mINFO    \u001b[0m File ..\u001b[35m/results/multigrate/trimodal/coef_1000.0/multigrate.dill/\u001b[0m\u001b[95mmodel.pt\u001b[0m already downloaded               \n"
     ]
    },
    {
     "name": "stderr",
     "output_type": "stream",
     "text": [
      "/home/icb/leonardo.golinelli/.conda/envs/multigrate/lib/python3.10/site-packages/scvi/data/fields/_layer_field.py:91: UserWarning: adata.X does not contain unnormalized count data. Are you sure this is what you want?\n",
      "  warnings.warn(\n"
     ]
    }
   ],
   "source": [
    "model = mtg.model.MultiVAE.load(dir_path = results_path+'multigrate.dill', adata=combined, use_gpu='cuda:0')"
   ]
  },
  {
   "cell_type": "code",
   "execution_count": 24,
   "id": "91932e8b",
   "metadata": {},
   "outputs": [],
   "source": [
    "model.to_device('cuda:0')"
   ]
  },
  {
   "cell_type": "markdown",
   "id": "0c470f38",
   "metadata": {},
   "source": [
    "## Prepare query anndata"
   ]
  },
  {
   "cell_type": "code",
   "execution_count": 25,
   "id": "fe19c522",
   "metadata": {},
   "outputs": [
    {
     "name": "stdout",
     "output_type": "stream",
     "text": [
      "\u001b[34mINFO    \u001b[0m Found \u001b[1;36m100.0\u001b[0m% reference vars in query data.                                                                \n"
     ]
    }
   ],
   "source": [
    "mtg.model.MultiVAE.prepare_query_anndata(adata=query_adata, reference_model=model, return_reference_var_names=False, inplace=True)"
   ]
  },
  {
   "cell_type": "markdown",
   "id": "f3ecebdb",
   "metadata": {},
   "source": [
    "## Load query data"
   ]
  },
  {
   "cell_type": "code",
   "execution_count": 29,
   "id": "55c3dbdf",
   "metadata": {},
   "outputs": [
    {
     "name": "stderr",
     "output_type": "stream",
     "text": [
      "/home/icb/leonardo.golinelli/.conda/envs/multigrate/lib/python3.10/site-packages/scvi/data/fields/_layer_field.py:91: UserWarning: adata.X does not contain unnormalized count data. Are you sure this is what you want?\n",
      "  warnings.warn(\n"
     ]
    },
    {
     "data": {
      "text/html": [
       "<pre style=\"white-space:pre;overflow-x:auto;line-height:normal;font-family:Menlo,'DejaVu Sans Mono',consolas,'Courier New',monospace\">\n",
       "Training status: Not Trained\n",
       "</pre>\n"
      ],
      "text/plain": [
       "\n",
       "Training status: Not Trained\n"
      ]
     },
     "metadata": {},
     "output_type": "display_data"
    },
    {
     "data": {
      "text/plain": []
     },
     "execution_count": 29,
     "metadata": {},
     "output_type": "execute_result"
    }
   ],
   "source": [
    "mtg.model.MultiVAE.load_query_data(adata=query_adata, reference_model=model, use_gpu='cuda:0', freeze=True, ignore_categories=None)"
   ]
  },
  {
   "cell_type": "code",
   "execution_count": null,
   "id": "a6bca126",
   "metadata": {},
   "outputs": [],
   "source": []
  }
 ],
 "metadata": {
  "kernelspec": {
   "display_name": "Python 3 (ipykernel)",
   "language": "python",
   "name": "python3"
  },
  "language_info": {
   "codemirror_mode": {
    "name": "ipython",
    "version": 3
   },
   "file_extension": ".py",
   "mimetype": "text/x-python",
   "name": "python",
   "nbconvert_exporter": "python",
   "pygments_lexer": "ipython3",
   "version": "3.10.9"
  }
 },
 "nbformat": 4,
 "nbformat_minor": 5
}
