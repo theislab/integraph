{
 "cells": [
  {
   "cell_type": "code",
   "execution_count": 1,
   "id": "6535bc3e",
   "metadata": {},
   "outputs": [],
   "source": [
    "import anndata as ad\n",
    "import networkx as nx\n",
    "import scanpy as sc\n",
    "import scglue\n",
    "import pandas as pd\n",
    "import numpy as np\n",
    "import seaborn as sns\n",
    "import matplotlib.pyplot as plt\n",
    "from matplotlib import rcParams"
   ]
  },
  {
   "cell_type": "code",
   "execution_count": 2,
   "id": "9082630f",
   "metadata": {},
   "outputs": [],
   "source": [
    "scglue.plot.set_publication_params()\n",
    "rcParams[\"figure.figsize\"] = (4, 4)"
   ]
  },
  {
   "cell_type": "markdown",
   "id": "58428774",
   "metadata": {},
   "source": [
    "## Loading anndatas and guidance graphs"
   ]
  },
  {
   "cell_type": "code",
   "execution_count": 3,
   "id": "eba6489a",
   "metadata": {},
   "outputs": [],
   "source": [
    "rna = ad.read_h5ad(\"../pp_harm_data/rna-pp-harm-sub.h5ad\")\n",
    "adt = ad.read_h5ad(\"../pp_harm_data/adt-pp-harm-sub.h5ad\")\n",
    "cytof = ad.read_h5ad(\"../pp_harm_data/cytof-pp-harm-sub.h5ad\")\n",
    "facs = ad.read_h5ad(\"../pp_harm_data/facs-pp-harm-sub.h5ad\")"
   ]
  },
  {
   "cell_type": "code",
   "execution_count": 4,
   "id": "5cd328c6",
   "metadata": {},
   "outputs": [
    {
     "data": {
      "text/plain": [
       "((131920, 4000), (131920, 192), (131920, 48), (131920, 12))"
      ]
     },
     "execution_count": 4,
     "metadata": {},
     "output_type": "execute_result"
    }
   ],
   "source": [
    "rna.shape, adt.shape, cytof.shape, facs.shape"
   ]
  },
  {
   "cell_type": "code",
   "execution_count": 5,
   "id": "4732bef0",
   "metadata": {},
   "outputs": [],
   "source": [
    "adt.var.index = adt.var.index + '_adt'\n",
    "cytof.var.index = cytof.var.index + '_cytof'\n",
    "facs.var.index = facs.var.index + '_facs'"
   ]
  },
  {
   "cell_type": "markdown",
   "id": "6b30e615",
   "metadata": {},
   "source": [
    "## Anndatas configuration for scglue"
   ]
  },
  {
   "cell_type": "code",
   "execution_count": 6,
   "id": "17b8b9ca",
   "metadata": {},
   "outputs": [],
   "source": [
    "scglue.models.configure_dataset(\n",
    "    rna, \"Normal\", use_highly_variable=False,\n",
    "    use_obs_names = True, use_rep=\"X_pca\"\n",
    ")"
   ]
  },
  {
   "cell_type": "code",
   "execution_count": 7,
   "id": "805ed02d",
   "metadata": {},
   "outputs": [],
   "source": [
    "scglue.models.configure_dataset(\n",
    "    adt, \"Normal\", use_highly_variable=False, \n",
    "    use_obs_names = True\n",
    ")"
   ]
  },
  {
   "cell_type": "code",
   "execution_count": 8,
   "id": "e267028b",
   "metadata": {},
   "outputs": [],
   "source": [
    "scglue.models.configure_dataset(\n",
    "    cytof, \"Normal\", use_highly_variable=False,\n",
    "    use_batch='batch'\n",
    ")"
   ]
  },
  {
   "cell_type": "code",
   "execution_count": 9,
   "id": "a3f67288",
   "metadata": {},
   "outputs": [],
   "source": [
    "scglue.models.configure_dataset(\n",
    "    facs, \"Normal\", use_highly_variable=False\n",
    ")"
   ]
  },
  {
   "cell_type": "markdown",
   "id": "cacfe445",
   "metadata": {},
   "source": [
    "## Set functions used in scglue pipeline"
   ]
  },
  {
   "cell_type": "code",
   "execution_count": 10,
   "id": "17d0d5aa",
   "metadata": {
    "scrolled": true
   },
   "outputs": [],
   "source": [
    "def model_fit(result_path, int_type, corr_type):\n",
    "    #full integration\n",
    "    if int_type == 'full_integration':\n",
    "        guidance_path = \"guidance_graphs/\" + corr_type +'/' + \"guidance.graphml.gz\"\n",
    "        print(\"using guidance graph path:\", guidance_path, \"\\n\")\n",
    "        guidance = nx.read_graphml(guidance_path)\n",
    "        glue = scglue.models.fit_SCGLUE(\n",
    "            {\"rna\": rna, \"adt\": adt, \"cytof\": cytof, \"facs\": facs}, guidance,\n",
    "            fit_kws={\"directory\": result_path + \"glue_run_report\"}, model=scglue.models.PairedSCGLUEModel,\n",
    "        )\n",
    "    #cite integration\n",
    "    else:\n",
    "        guidance_path = \"guidance_graphs/\" + corr_type +'/' + \"guidance_cite.graphml.gz\"\n",
    "        print(\"using guidance graph path\", guidance_path, \"\\n\")\n",
    "        guidance = nx.read_graphml(guidance_path)\n",
    "        glue = scglue.models.fit_SCGLUE(\n",
    "            {\"rna\": rna, \"adt\": adt}, guidance,\n",
    "            fit_kws={\"directory\": result_path + \"glue_run_report\"}, model=scglue.models.PairedSCGLUEModel,\n",
    "        )\n",
    "        \n",
    "    return glue, guidance"
   ]
  },
  {
   "cell_type": "code",
   "execution_count": 11,
   "id": "969c85d4",
   "metadata": {},
   "outputs": [],
   "source": [
    "def glue_save_model(result_path, glue):\n",
    "    glue.save(result_path + \"glue.dill\")"
   ]
  },
  {
   "cell_type": "code",
   "execution_count": 12,
   "id": "2ff588ab",
   "metadata": {},
   "outputs": [],
   "source": [
    "def plot_integration_consistency(result_path, int_type, glue, guidance):\n",
    "    if int_type == 'full_integration':\n",
    "        dx = scglue.models.integration_consistency(glue, {\"rna\": rna, \"adt\": adt, \"cytof\": cytof, \"facs\": facs}, guidance)\n",
    "    else:\n",
    "        dx = scglue.models.integration_consistency(glue, {\"rna\": rna, \"adt\": adt}, guidance)\n",
    "        \n",
    "    ax = sns.lineplot(x=\"n_meta\", y=\"consistency\", data=dx).axhline(y=0.05, c=\"darkred\", ls=\"--\")\n",
    "    plt.show()\n",
    "    fig = ax.get_figure()\n",
    "    fig.savefig(result_path + \"scglue_run_lineplot.png\")"
   ]
  },
  {
   "cell_type": "code",
   "execution_count": 14,
   "id": "983f1996",
   "metadata": {},
   "outputs": [],
   "source": [
    "def main(int_type_list = ['full_integration', 'cite_integration'],\n",
    "         corr_type_list = ['no_corr', 'rna_adt_corr', 'all_corr']):\n",
    "    \n",
    "    for int_type in int_type_list: #run model by type of integration\n",
    "        for corr_type in corr_type_list: #run model by type of correlations\n",
    "            results_path = '../results/scglue/' + int_type + '/' + corr_type + '/'\n",
    "            print(\"using results path:\", results_path)\n",
    "            glue, guidance = model_fit(results_path, int_type, corr_type)\n",
    "            glue_save_model(results_path, glue)\n",
    "            plot_integration_consistency(results_path, int_type, glue, guidance)"
   ]
  },
  {
   "cell_type": "markdown",
   "id": "93517272",
   "metadata": {},
   "source": [
    "## Run glue"
   ]
  },
  {
   "cell_type": "code",
   "execution_count": 15,
   "id": "774e9996",
   "metadata": {
    "scrolled": true
   },
   "outputs": [
    {
     "name": "stdout",
     "output_type": "stream",
     "text": [
      "using results path: ../results/scglue/cite_integration/no_corr/\n",
      "using guidance graph path guidance_graphs/no_corr/guidance_cite.graphml.gz \n",
      "\n",
      "[INFO] fit_SCGLUE: Pretraining SCGLUE model...\n",
      "[INFO] autodevice: Using GPU 0 as computation device.\n",
      "[INFO] check_graph: Checking variable coverage...\n",
      "[INFO] check_graph: Checking edge attributes...\n",
      "[INFO] check_graph: Checking self-loops...\n",
      "[INFO] check_graph: Checking graph symmetry...\n",
      "[INFO] check_graph: All checks passed!\n",
      "[INFO] PairedSCGLUEModel: Setting `graph_batch_size` = 1455\n",
      "[INFO] PairedSCGLUEModel: Setting `max_epochs` = 48\n",
      "[INFO] PairedSCGLUEModel: Setting `patience` = 4\n",
      "[INFO] PairedSCGLUEModel: Setting `reduce_lr_patience` = 2\n",
      "[INFO] PairedSCGLUETrainer: Using training directory: \"../results/scglue/cite_integration/no_corr/glue_run_report/pretrain\"\n",
      "[INFO] PairedSCGLUETrainer: [Epoch 10] train={'g_nll': 0.546, 'g_kl': 0.072, 'g_elbo': 0.618, 'x_rna_nll': -1.005, 'x_rna_kl': 0.011, 'x_rna_elbo': -0.994, 'x_adt_nll': 1.601, 'x_adt_kl': 0.086, 'x_adt_elbo': 1.687, 'dsc_loss': 0.607, 'vae_loss': 0.759, 'gen_loss': 0.729, 'joint_cross_loss': 0.621, 'real_cross_loss': 0.947, 'cos_loss': 0.5}, val={'g_nll': 0.525, 'g_kl': 0.069, 'g_elbo': 0.594, 'x_rna_nll': -1.17, 'x_rna_kl': 0.013, 'x_rna_elbo': -1.158, 'x_adt_nll': 1.582, 'x_adt_kl': 0.084, 'x_adt_elbo': 1.665, 'dsc_loss': 0.58, 'vae_loss': 0.57, 'gen_loss': 0.541, 'joint_cross_loss': 0.529, 'real_cross_loss': 0.892, 'cos_loss': 0.538}, 27.8s elapsed\n",
      "Epoch 00015: reducing learning rate of group 0 to 2.0000e-04.\n",
      "Epoch 00015: reducing learning rate of group 0 to 2.0000e-04.\n",
      "[INFO] LRScheduler: Learning rate reduction: step 1\n",
      "Epoch 00018: reducing learning rate of group 0 to 2.0000e-05.\n",
      "Epoch 00018: reducing learning rate of group 0 to 2.0000e-05.\n",
      "[INFO] LRScheduler: Learning rate reduction: step 2\n"
     ]
    },
    {
     "name": "stderr",
     "output_type": "stream",
     "text": [
      "2023-01-23 09:20:14,374 ignite.handlers.early_stopping.EarlyStopping INFO: EarlyStopping: Stop training\n"
     ]
    },
    {
     "name": "stdout",
     "output_type": "stream",
     "text": [
      "[INFO] EarlyStopping: Restoring checkpoint \"17\"...\n",
      "[INFO] fit_SCGLUE: Estimating balancing weight...\n",
      "[INFO] estimate_balancing_weight: Clustering cells...\n",
      "[INFO] estimate_balancing_weight: Matching clusters...\n",
      "[INFO] estimate_balancing_weight: Matching array shape = (24, 24)...\n",
      "[INFO] estimate_balancing_weight: Estimating balancing weight...\n",
      "[INFO] fit_SCGLUE: Fine-tuning SCGLUE model...\n",
      "[INFO] check_graph: Checking variable coverage...\n",
      "[INFO] check_graph: Checking edge attributes...\n",
      "[INFO] check_graph: Checking self-loops...\n",
      "[INFO] check_graph: Checking graph symmetry...\n",
      "[INFO] check_graph: All checks passed!\n",
      "[INFO] PairedSCGLUEModel: Setting `graph_batch_size` = 1455\n",
      "[INFO] PairedSCGLUEModel: Setting `align_burnin` = 8\n",
      "[INFO] PairedSCGLUEModel: Setting `max_epochs` = 48\n",
      "[INFO] PairedSCGLUEModel: Setting `patience` = 4\n",
      "[INFO] PairedSCGLUEModel: Setting `reduce_lr_patience` = 2\n",
      "[INFO] PairedSCGLUETrainer: Using training directory: \"../results/scglue/cite_integration/no_corr/glue_run_report/fine-tune\"\n",
      "[INFO] PairedSCGLUETrainer: [Epoch 10] train={'g_nll': 0.132, 'g_kl': 0.039, 'g_elbo': 0.17, 'x_rna_nll': -0.769, 'x_rna_kl': 0.007, 'x_rna_elbo': -0.762, 'x_adt_nll': 1.592, 'x_adt_kl': 0.087, 'x_adt_elbo': 1.679, 'dsc_loss': 0.619, 'vae_loss': 0.975, 'gen_loss': 0.944, 'joint_cross_loss': 0.895, 'real_cross_loss': 1.172, 'cos_loss': 0.476}, val={'g_nll': 0.136, 'g_kl': 0.038, 'g_elbo': 0.174, 'x_rna_nll': -0.131, 'x_rna_kl': 0.007, 'x_rna_elbo': -0.124, 'x_adt_nll': 1.573, 'x_adt_kl': 0.086, 'x_adt_elbo': 1.659, 'dsc_loss': 0.61, 'vae_loss': 1.618, 'gen_loss': 1.587, 'joint_cross_loss': 1.522, 'real_cross_loss': 1.797, 'cos_loss': 0.478}, 28.7s elapsed\n",
      "Epoch 00012: reducing learning rate of group 0 to 2.0000e-04.\n",
      "Epoch 00012: reducing learning rate of group 0 to 2.0000e-04.\n",
      "[INFO] LRScheduler: Learning rate reduction: step 1\n",
      "Epoch 00015: reducing learning rate of group 0 to 2.0000e-05.\n",
      "Epoch 00015: reducing learning rate of group 0 to 2.0000e-05.\n",
      "[INFO] LRScheduler: Learning rate reduction: step 2\n"
     ]
    },
    {
     "name": "stderr",
     "output_type": "stream",
     "text": [
      "2023-01-23 09:31:31,965 ignite.handlers.early_stopping.EarlyStopping INFO: EarlyStopping: Stop training\n"
     ]
    },
    {
     "name": "stdout",
     "output_type": "stream",
     "text": [
      "[INFO] EarlyStopping: Restoring checkpoint \"14\"...\n",
      "[INFO] integration_consistency: Selecting aggregation \"mean\" for modality \"rna\"\n",
      "[INFO] integration_consistency: Selecting aggregation \"mean\" for modality \"adt\"\n",
      "[INFO] integration_consistency: Selecting no preprocessing for modality \"rna\"\n",
      "[INFO] integration_consistency: Selecting no preprocessing for modality \"adt\"\n",
      "[INFO] get_metacells: Clustering metacells...\n",
      "[INFO] get_metacells: Aggregating metacells...\n",
      "[INFO] metacell_corr: Computing correlation on 10 common metacells...\n",
      "[INFO] get_metacells: Clustering metacells...\n",
      "[INFO] get_metacells: Aggregating metacells...\n",
      "[INFO] metacell_corr: Computing correlation on 19 common metacells...\n"
     ]
    },
    {
     "name": "stderr",
     "output_type": "stream",
     "text": [
      "/home/icb/leonardo.golinelli/.conda/envs/scglue-gpu/lib/python3.10/site-packages/scglue/data.py:625: RuntimeWarning: invalid value encountered in double_scalars\n",
      "  ((X[s] * X[t]).mean() - mean[s] * mean[t]) / (std[s] * std[t])\n"
     ]
    },
    {
     "name": "stdout",
     "output_type": "stream",
     "text": [
      "[INFO] get_metacells: Clustering metacells...\n",
      "[INFO] get_metacells: Aggregating metacells...\n",
      "[INFO] metacell_corr: Computing correlation on 49 common metacells...\n"
     ]
    },
    {
     "name": "stderr",
     "output_type": "stream",
     "text": [
      "/home/icb/leonardo.golinelli/.conda/envs/scglue-gpu/lib/python3.10/site-packages/scglue/data.py:625: RuntimeWarning: invalid value encountered in double_scalars\n",
      "  ((X[s] * X[t]).mean() - mean[s] * mean[t]) / (std[s] * std[t])\n"
     ]
    },
    {
     "name": "stdout",
     "output_type": "stream",
     "text": [
      "[INFO] get_metacells: Clustering metacells...\n",
      "[INFO] get_metacells: Aggregating metacells...\n",
      "[INFO] metacell_corr: Computing correlation on 96 common metacells...\n"
     ]
    },
    {
     "name": "stderr",
     "output_type": "stream",
     "text": [
      "/home/icb/leonardo.golinelli/.conda/envs/scglue-gpu/lib/python3.10/site-packages/scglue/data.py:625: RuntimeWarning: invalid value encountered in double_scalars\n",
      "  ((X[s] * X[t]).mean() - mean[s] * mean[t]) / (std[s] * std[t])\n"
     ]
    },
    {
     "name": "stdout",
     "output_type": "stream",
     "text": [
      "[INFO] get_metacells: Clustering metacells...\n",
      "[INFO] get_metacells: Aggregating metacells...\n",
      "[INFO] metacell_corr: Computing correlation on 195 common metacells...\n"
     ]
    },
    {
     "name": "stderr",
     "output_type": "stream",
     "text": [
      "/home/icb/leonardo.golinelli/.conda/envs/scglue-gpu/lib/python3.10/site-packages/scglue/data.py:625: RuntimeWarning: invalid value encountered in double_scalars\n",
      "  ((X[s] * X[t]).mean() - mean[s] * mean[t]) / (std[s] * std[t])\n"
     ]
    },
    {
     "data": {
      "image/png": "[encoded data removed]",
      "text/plain": [
       "<Figure size 320x320 with 1 Axes>"
      ]
     },
     "metadata": {
      "image/png": {
       "height": 302,
       "width": 321
      },
      "needs_background": "light"
     },
     "output_type": "display_data"
    },
    {
     "name": "stdout",
     "output_type": "stream",
     "text": [
      "using results path: ../results/scglue/cite_integration/rna_adt_corr/\n",
      "using guidance graph path guidance_graphs/rna_adt_corr/guidance_cite.graphml.gz \n",
      "\n",
      "[INFO] fit_SCGLUE: Pretraining SCGLUE model...\n",
      "[INFO] check_graph: Checking variable coverage...\n",
      "[INFO] check_graph: Checking edge attributes...\n",
      "[INFO] check_graph: Checking self-loops...\n",
      "[INFO] check_graph: Checking graph symmetry...\n",
      "[INFO] check_graph: All checks passed!\n",
      "[INFO] PairedSCGLUEModel: Setting `graph_batch_size` = 1446\n",
      "[INFO] PairedSCGLUEModel: Setting `max_epochs` = 48\n",
      "[INFO] PairedSCGLUEModel: Setting `patience` = 4\n",
      "[INFO] PairedSCGLUEModel: Setting `reduce_lr_patience` = 2\n",
      "[INFO] PairedSCGLUETrainer: Using training directory: \"../results/scglue/cite_integration/rna_adt_corr/glue_run_report/pretrain\"\n",
      "[INFO] PairedSCGLUETrainer: [Epoch 10] train={'g_nll': 0.626, 'g_kl': 0.072, 'g_elbo': 0.697, 'x_rna_nll': -1.003, 'x_rna_kl': 0.012, 'x_rna_elbo': -0.991, 'x_adt_nll': 1.604, 'x_adt_kl': 0.084, 'x_adt_elbo': 1.687, 'dsc_loss': 0.62, 'vae_loss': 0.765, 'gen_loss': 0.734, 'joint_cross_loss': 0.621, 'real_cross_loss': 0.918, 'cos_loss': 0.513}, val={'g_nll': 0.619, 'g_kl': 0.072, 'g_elbo': 0.691, 'x_rna_nll': -1.131, 'x_rna_kl': 0.01, 'x_rna_elbo': -1.121, 'x_adt_nll': 1.583, 'x_adt_kl': 0.081, 'x_adt_elbo': 1.664, 'dsc_loss': 0.667, 'vae_loss': 0.607, 'gen_loss': 0.573, 'joint_cross_loss': 0.528, 'real_cross_loss': 0.782, 'cos_loss': 0.506}, 29.5s elapsed\n",
      "Epoch 00017: reducing learning rate of group 0 to 2.0000e-04.\n",
      "Epoch 00017: reducing learning rate of group 0 to 2.0000e-04.\n",
      "[INFO] LRScheduler: Learning rate reduction: step 1\n",
      "[INFO] PairedSCGLUETrainer: [Epoch 20] train={'g_nll': 0.421, 'g_kl': 0.063, 'g_elbo': 0.484, 'x_rna_nll': -1.256, 'x_rna_kl': 0.007, 'x_rna_elbo': -1.249, 'x_adt_nll': 1.59, 'x_adt_kl': 0.084, 'x_adt_elbo': 1.674, 'dsc_loss': 0.667, 'vae_loss': 0.476, 'gen_loss': 0.443, 'joint_cross_loss': 0.41, 'real_cross_loss': 0.687, 'cos_loss': 0.494}, val={'g_nll': 0.421, 'g_kl': 0.062, 'g_elbo': 0.483, 'x_rna_nll': 0.873, 'x_rna_kl': 0.007, 'x_rna_elbo': 0.88, 'x_adt_nll': 1.57, 'x_adt_kl': 0.083, 'x_adt_elbo': 1.653, 'dsc_loss': 0.658, 'vae_loss': 2.669, 'gen_loss': 2.636, 'joint_cross_loss': 2.524, 'real_cross_loss': 2.793, 'cos_loss': 0.497}, 28.6s elapsed\n",
      "Epoch 00020: reducing learning rate of group 0 to 2.0000e-05.\n",
      "Epoch 00020: reducing learning rate of group 0 to 2.0000e-05.\n",
      "[INFO] LRScheduler: Learning rate reduction: step 2\n"
     ]
    },
    {
     "name": "stderr",
     "output_type": "stream",
     "text": [
      "2023-01-23 09:43:06,682 ignite.handlers.early_stopping.EarlyStopping INFO: EarlyStopping: Stop training\n"
     ]
    },
    {
     "name": "stdout",
     "output_type": "stream",
     "text": [
      "[INFO] EarlyStopping: Restoring checkpoint \"19\"...\n",
      "[INFO] fit_SCGLUE: Estimating balancing weight...\n",
      "[INFO] estimate_balancing_weight: Clustering cells...\n",
      "[INFO] estimate_balancing_weight: Matching clusters...\n",
      "[INFO] estimate_balancing_weight: Matching array shape = (24, 22)...\n",
      "[INFO] estimate_balancing_weight: Estimating balancing weight...\n",
      "[INFO] fit_SCGLUE: Fine-tuning SCGLUE model...\n",
      "[INFO] check_graph: Checking variable coverage...\n",
      "[INFO] check_graph: Checking edge attributes...\n",
      "[INFO] check_graph: Checking self-loops...\n",
      "[INFO] check_graph: Checking graph symmetry...\n",
      "[INFO] check_graph: All checks passed!\n",
      "[INFO] PairedSCGLUEModel: Setting `graph_batch_size` = 1446\n",
      "[INFO] PairedSCGLUEModel: Setting `align_burnin` = 8\n",
      "[INFO] PairedSCGLUEModel: Setting `max_epochs` = 48\n",
      "[INFO] PairedSCGLUEModel: Setting `patience` = 4\n",
      "[INFO] PairedSCGLUEModel: Setting `reduce_lr_patience` = 2\n",
      "[INFO] PairedSCGLUETrainer: Using training directory: \"../results/scglue/cite_integration/rna_adt_corr/glue_run_report/fine-tune\"\n",
      "[INFO] PairedSCGLUETrainer: [Epoch 10] train={'g_nll': 0.101, 'g_kl': 0.038, 'g_elbo': 0.139, 'x_rna_nll': -0.759, 'x_rna_kl': 0.007, 'x_rna_elbo': -0.753, 'x_adt_nll': 1.597, 'x_adt_kl': 0.084, 'x_adt_elbo': 1.68, 'dsc_loss': 0.624, 'vae_loss': 0.985, 'gen_loss': 0.954, 'joint_cross_loss': 0.911, 'real_cross_loss': 1.187, 'cos_loss': 0.486}, val={'g_nll': 0.103, 'g_kl': 0.037, 'g_elbo': 0.14, 'x_rna_nll': -0.145, 'x_rna_kl': 0.006, 'x_rna_elbo': -0.139, 'x_adt_nll': 1.58, 'x_adt_kl': 0.082, 'x_adt_elbo': 1.662, 'dsc_loss': 0.607, 'vae_loss': 1.605, 'gen_loss': 1.575, 'joint_cross_loss': 1.513, 'real_cross_loss': 1.78, 'cos_loss': 0.489}, 28.9s elapsed\n",
      "Epoch 00015: reducing learning rate of group 0 to 2.0000e-04.\n",
      "Epoch 00015: reducing learning rate of group 0 to 2.0000e-04.\n",
      "[INFO] LRScheduler: Learning rate reduction: step 1\n",
      "Epoch 00018: reducing learning rate of group 0 to 2.0000e-05.\n",
      "Epoch 00018: reducing learning rate of group 0 to 2.0000e-05.\n",
      "[INFO] LRScheduler: Learning rate reduction: step 2\n"
     ]
    },
    {
     "name": "stderr",
     "output_type": "stream",
     "text": [
      "2023-01-23 09:55:23,407 ignite.handlers.early_stopping.EarlyStopping INFO: EarlyStopping: Stop training\n"
     ]
    },
    {
     "name": "stdout",
     "output_type": "stream",
     "text": [
      "[INFO] EarlyStopping: Restoring checkpoint \"17\"...\n",
      "[INFO] integration_consistency: Selecting aggregation \"mean\" for modality \"rna\"\n",
      "[INFO] integration_consistency: Selecting aggregation \"mean\" for modality \"adt\"\n",
      "[INFO] integration_consistency: Selecting no preprocessing for modality \"rna\"\n",
      "[INFO] integration_consistency: Selecting no preprocessing for modality \"adt\"\n",
      "[INFO] get_metacells: Clustering metacells...\n",
      "[INFO] get_metacells: Aggregating metacells...\n",
      "[INFO] metacell_corr: Computing correlation on 10 common metacells...\n",
      "[INFO] get_metacells: Clustering metacells...\n",
      "[INFO] get_metacells: Aggregating metacells...\n",
      "[INFO] metacell_corr: Computing correlation on 19 common metacells...\n",
      "[INFO] get_metacells: Clustering metacells...\n",
      "[INFO] get_metacells: Aggregating metacells...\n",
      "[INFO] metacell_corr: Computing correlation on 49 common metacells...\n",
      "[INFO] get_metacells: Clustering metacells...\n",
      "[INFO] get_metacells: Aggregating metacells...\n",
      "[INFO] metacell_corr: Computing correlation on 97 common metacells...\n",
      "[INFO] get_metacells: Clustering metacells...\n"
     ]
    },
    {
     "name": "stderr",
     "output_type": "stream",
     "text": [
      "/home/icb/leonardo.golinelli/.conda/envs/scglue-gpu/lib/python3.10/site-packages/scglue/data.py:625: RuntimeWarning: invalid value encountered in double_scalars\n",
      "  ((X[s] * X[t]).mean() - mean[s] * mean[t]) / (std[s] * std[t])\n"
     ]
    },
    {
     "name": "stdout",
     "output_type": "stream",
     "text": [
      "[INFO] get_metacells: Aggregating metacells...\n",
      "[INFO] metacell_corr: Computing correlation on 196 common metacells...\n"
     ]
    },
    {
     "name": "stderr",
     "output_type": "stream",
     "text": [
      "/home/icb/leonardo.golinelli/.conda/envs/scglue-gpu/lib/python3.10/site-packages/scglue/data.py:625: RuntimeWarning: invalid value encountered in double_scalars\n",
      "  ((X[s] * X[t]).mean() - mean[s] * mean[t]) / (std[s] * std[t])\n"
     ]
    },
    {
     "data": {
      "image/png": "[encoded data removed]",
      "text/plain": [
       "<Figure size 320x320 with 1 Axes>"
      ]
     },
     "metadata": {
      "image/png": {
       "height": 302,
       "width": 321
      },
      "needs_background": "light"
     },
     "output_type": "display_data"
    },
    {
     "name": "stdout",
     "output_type": "stream",
     "text": [
      "using results path: ../results/scglue/cite_integration/all_corr/\n",
      "using guidance graph path guidance_graphs/all_corr/guidance_cite.graphml.gz \n",
      "\n",
      "[INFO] fit_SCGLUE: Pretraining SCGLUE model...\n",
      "[INFO] check_graph: Checking variable coverage...\n",
      "[INFO] check_graph: Checking edge attributes...\n",
      "[INFO] check_graph: Checking self-loops...\n",
      "[INFO] check_graph: Checking graph symmetry...\n",
      "[INFO] check_graph: All checks passed!\n",
      "[INFO] PairedSCGLUEModel: Setting `graph_batch_size` = 1446\n",
      "[INFO] PairedSCGLUEModel: Setting `max_epochs` = 48\n",
      "[INFO] PairedSCGLUEModel: Setting `patience` = 4\n",
      "[INFO] PairedSCGLUEModel: Setting `reduce_lr_patience` = 2\n",
      "[INFO] PairedSCGLUETrainer: Using training directory: \"../results/scglue/cite_integration/all_corr/glue_run_report/pretrain\"\n",
      "[INFO] PairedSCGLUETrainer: [Epoch 10] train={'g_nll': 0.582, 'g_kl': 0.072, 'g_elbo': 0.654, 'x_rna_nll': -1.043, 'x_rna_kl': 0.011, 'x_rna_elbo': -1.032, 'x_adt_nll': 1.602, 'x_adt_kl': 0.085, 'x_adt_elbo': 1.687, 'dsc_loss': 0.612, 'vae_loss': 0.722, 'gen_loss': 0.692, 'joint_cross_loss': 0.599, 'real_cross_loss': 0.939, 'cos_loss': 0.511}, val={'g_nll': 0.566, 'g_kl': 0.07, 'g_elbo': 0.636, 'x_rna_nll': -1.185, 'x_rna_kl': 0.013, 'x_rna_elbo': -1.172, 'x_adt_nll': 1.583, 'x_adt_kl': 0.082, 'x_adt_elbo': 1.665, 'dsc_loss': 0.627, 'vae_loss': 0.555, 'gen_loss': 0.523, 'joint_cross_loss': 0.496, 'real_cross_loss': 0.804, 'cos_loss': 0.517}, 28.9s elapsed\n",
      "Epoch 00016: reducing learning rate of group 0 to 2.0000e-04.\n",
      "Epoch 00016: reducing learning rate of group 0 to 2.0000e-04.\n",
      "[INFO] LRScheduler: Learning rate reduction: step 1\n",
      "Epoch 00019: reducing learning rate of group 0 to 2.0000e-05.\n",
      "Epoch 00019: reducing learning rate of group 0 to 2.0000e-05.\n",
      "[INFO] LRScheduler: Learning rate reduction: step 2\n",
      "[INFO] PairedSCGLUETrainer: [Epoch 20] train={'g_nll': 0.358, 'g_kl': 0.063, 'g_elbo': 0.421, 'x_rna_nll': -1.257, 'x_rna_kl': 0.007, 'x_rna_elbo': -1.25, 'x_adt_nll': 1.585, 'x_adt_kl': 0.087, 'x_adt_elbo': 1.672, 'dsc_loss': 0.673, 'vae_loss': 0.471, 'gen_loss': 0.437, 'joint_cross_loss': 0.408, 'real_cross_loss': 0.704, 'cos_loss': 0.484}, val={'g_nll': 0.362, 'g_kl': 0.063, 'g_elbo': 0.425, 'x_rna_nll': 0.847, 'x_rna_kl': 0.007, 'x_rna_elbo': 0.853, 'x_adt_nll': 1.565, 'x_adt_kl': 0.086, 'x_adt_elbo': 1.651, 'dsc_loss': 0.657, 'vae_loss': 2.636, 'gen_loss': 2.604, 'joint_cross_loss': 2.498, 'real_cross_loss': 2.782, 'cos_loss': 0.487}, 32.6s elapsed\n"
     ]
    },
    {
     "name": "stderr",
     "output_type": "stream",
     "text": [
      "2023-01-23 10:06:14,769 ignite.handlers.early_stopping.EarlyStopping INFO: EarlyStopping: Stop training\n"
     ]
    },
    {
     "name": "stdout",
     "output_type": "stream",
     "text": [
      "[INFO] EarlyStopping: Restoring checkpoint \"18\"...\n",
      "[INFO] fit_SCGLUE: Estimating balancing weight...\n",
      "[INFO] estimate_balancing_weight: Clustering cells...\n",
      "[INFO] estimate_balancing_weight: Matching clusters...\n",
      "[INFO] estimate_balancing_weight: Matching array shape = (25, 21)...\n",
      "[INFO] estimate_balancing_weight: Estimating balancing weight...\n",
      "[INFO] fit_SCGLUE: Fine-tuning SCGLUE model...\n",
      "[INFO] check_graph: Checking variable coverage...\n",
      "[INFO] check_graph: Checking edge attributes...\n",
      "[INFO] check_graph: Checking self-loops...\n",
      "[INFO] check_graph: Checking graph symmetry...\n",
      "[INFO] check_graph: All checks passed!\n",
      "[INFO] PairedSCGLUEModel: Setting `graph_batch_size` = 1446\n",
      "[INFO] PairedSCGLUEModel: Setting `align_burnin` = 8\n",
      "[INFO] PairedSCGLUEModel: Setting `max_epochs` = 48\n",
      "[INFO] PairedSCGLUEModel: Setting `patience` = 4\n",
      "[INFO] PairedSCGLUEModel: Setting `reduce_lr_patience` = 2\n",
      "[INFO] PairedSCGLUETrainer: Using training directory: \"../results/scglue/cite_integration/all_corr/glue_run_report/fine-tune\"\n",
      "[INFO] PairedSCGLUETrainer: [Epoch 10] train={'g_nll': 0.123, 'g_kl': 0.037, 'g_elbo': 0.16, 'x_rna_nll': -0.763, 'x_rna_kl': 0.007, 'x_rna_elbo': -0.756, 'x_adt_nll': 1.592, 'x_adt_kl': 0.087, 'x_adt_elbo': 1.679, 'dsc_loss': 0.616, 'vae_loss': 0.98, 'gen_loss': 0.949, 'joint_cross_loss': 0.9, 'real_cross_loss': 1.174, 'cos_loss': 0.478}, val={'g_nll': 0.122, 'g_kl': 0.036, 'g_elbo': 0.158, 'x_rna_nll': -0.15, 'x_rna_kl': 0.007, 'x_rna_elbo': -0.143, 'x_adt_nll': 1.574, 'x_adt_kl': 0.086, 'x_adt_elbo': 1.659, 'dsc_loss': 0.62, 'vae_loss': 1.597, 'gen_loss': 1.566, 'joint_cross_loss': 1.504, 'real_cross_loss': 1.771, 'cos_loss': 0.48}, 29.0s elapsed\n",
      "Epoch 00012: reducing learning rate of group 0 to 2.0000e-04.\n",
      "Epoch 00012: reducing learning rate of group 0 to 2.0000e-04.\n",
      "[INFO] LRScheduler: Learning rate reduction: step 1\n",
      "Epoch 00015: reducing learning rate of group 0 to 2.0000e-05.\n",
      "Epoch 00015: reducing learning rate of group 0 to 2.0000e-05.\n",
      "[INFO] LRScheduler: Learning rate reduction: step 2\n"
     ]
    },
    {
     "name": "stderr",
     "output_type": "stream",
     "text": [
      "2023-01-23 10:17:13,470 ignite.handlers.early_stopping.EarlyStopping INFO: EarlyStopping: Stop training\n"
     ]
    },
    {
     "name": "stdout",
     "output_type": "stream",
     "text": [
      "[INFO] EarlyStopping: Restoring checkpoint \"14\"...\n",
      "[INFO] integration_consistency: Selecting aggregation \"mean\" for modality \"rna\"\n",
      "[INFO] integration_consistency: Selecting aggregation \"mean\" for modality \"adt\"\n",
      "[INFO] integration_consistency: Selecting no preprocessing for modality \"rna\"\n",
      "[INFO] integration_consistency: Selecting no preprocessing for modality \"adt\"\n",
      "[INFO] get_metacells: Clustering metacells...\n",
      "[INFO] get_metacells: Aggregating metacells...\n",
      "[INFO] metacell_corr: Computing correlation on 10 common metacells...\n",
      "[INFO] get_metacells: Clustering metacells...\n",
      "[INFO] get_metacells: Aggregating metacells...\n",
      "[INFO] metacell_corr: Computing correlation on 18 common metacells...\n"
     ]
    },
    {
     "name": "stderr",
     "output_type": "stream",
     "text": [
      "/home/icb/leonardo.golinelli/.conda/envs/scglue-gpu/lib/python3.10/site-packages/scglue/data.py:625: RuntimeWarning: invalid value encountered in double_scalars\n",
      "  ((X[s] * X[t]).mean() - mean[s] * mean[t]) / (std[s] * std[t])\n"
     ]
    },
    {
     "name": "stdout",
     "output_type": "stream",
     "text": [
      "[INFO] get_metacells: Clustering metacells...\n",
      "[INFO] get_metacells: Aggregating metacells...\n",
      "[INFO] metacell_corr: Computing correlation on 47 common metacells...\n"
     ]
    },
    {
     "name": "stderr",
     "output_type": "stream",
     "text": [
      "/home/icb/leonardo.golinelli/.conda/envs/scglue-gpu/lib/python3.10/site-packages/scglue/data.py:625: RuntimeWarning: invalid value encountered in double_scalars\n",
      "  ((X[s] * X[t]).mean() - mean[s] * mean[t]) / (std[s] * std[t])\n"
     ]
    },
    {
     "name": "stdout",
     "output_type": "stream",
     "text": [
      "[INFO] get_metacells: Clustering metacells...\n",
      "[INFO] get_metacells: Aggregating metacells...\n",
      "[INFO] metacell_corr: Computing correlation on 96 common metacells...\n"
     ]
    },
    {
     "name": "stderr",
     "output_type": "stream",
     "text": [
      "/home/icb/leonardo.golinelli/.conda/envs/scglue-gpu/lib/python3.10/site-packages/scglue/data.py:625: RuntimeWarning: invalid value encountered in double_scalars\n",
      "  ((X[s] * X[t]).mean() - mean[s] * mean[t]) / (std[s] * std[t])\n"
     ]
    },
    {
     "name": "stdout",
     "output_type": "stream",
     "text": [
      "[INFO] get_metacells: Clustering metacells...\n",
      "[INFO] get_metacells: Aggregating metacells...\n",
      "[INFO] metacell_corr: Computing correlation on 195 common metacells...\n"
     ]
    },
    {
     "name": "stderr",
     "output_type": "stream",
     "text": [
      "/home/icb/leonardo.golinelli/.conda/envs/scglue-gpu/lib/python3.10/site-packages/scglue/data.py:625: RuntimeWarning: invalid value encountered in double_scalars\n",
      "  ((X[s] * X[t]).mean() - mean[s] * mean[t]) / (std[s] * std[t])\n"
     ]
    },
    {
     "data": {
      "image/png": "[encoded data removed]",
      "text/plain": [
       "<Figure size 320x320 with 1 Axes>"
      ]
     },
     "metadata": {
      "image/png": {
       "height": 302,
       "width": 321
      },
      "needs_background": "light"
     },
     "output_type": "display_data"
    }
   ],
   "source": [
    "main(int_type_list = ['cite_integration'],\n",
    "     corr_type_list = ['no_corr', 'rna_adt_corr', 'all_corr'])  #compute only cite integration across all correlation types"
   ]
  },
  {
   "cell_type": "code",
   "execution_count": null,
   "id": "700a7923",
   "metadata": {},
   "outputs": [],
   "source": []
  }
 ],
 "metadata": {
  "kernelspec": {
   "display_name": "Python 3 (ipykernel)",
   "language": "python",
   "name": "python3"
  },
  "language_info": {
   "codemirror_mode": {
    "name": "ipython",
    "version": 3
   },
   "file_extension": ".py",
   "mimetype": "text/x-python",
   "name": "python",
   "nbconvert_exporter": "python",
   "pygments_lexer": "ipython3",
   "version": "3.10.4"
  }
 },
 "nbformat": 4,
 "nbformat_minor": 5
}
