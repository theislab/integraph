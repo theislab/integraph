{
 "cells": [
  {
   "cell_type": "code",
   "execution_count": 1,
   "id": "5a5b624b",
   "metadata": {
    "scrolled": true
   },
   "outputs": [],
   "source": [
    "import numpy as np\n",
    "import scanpy as sc\n",
    "import pandas as pd\n",
    "import anndata as ad\n",
    "import scib_metrics\n",
    "import scib\n",
    "import os\n",
    "#import faiss\n",
    "from scipy import sparse\n",
    "#import torch\n",
    "from rich import print"
   ]
  },
  {
   "cell_type": "code",
   "execution_count": 2,
   "id": "3a45d650",
   "metadata": {},
   "outputs": [],
   "source": [
    "#TF_CPP_MIN_LOG_LEVEL=0"
   ]
  },
  {
   "cell_type": "code",
   "execution_count": 3,
   "id": "164fb3d3",
   "metadata": {},
   "outputs": [],
   "source": [
    "#import torch\n",
    "#torch.cuda.is_available()"
   ]
  },
  {
   "cell_type": "code",
   "execution_count": 4,
   "id": "4efff9c1",
   "metadata": {},
   "outputs": [],
   "source": [
    "def define_path(model_type, integration_type):\n",
    "    adata_path = \"../results/scglue/point_nine_corr/all_samples/\" + model_type + '/' + integration_type + '/'\n",
    "    return adata_path"
   ]
  },
  {
   "cell_type": "code",
   "execution_count": 5,
   "id": "cd345f4a",
   "metadata": {},
   "outputs": [],
   "source": [
    "def load_adata(adata_path):\n",
    "    print(\"loading trimodal adata..\\n\\n\")\n",
    "    combined = ad.read_h5ad(adata_path+\"combined.h5ad\")\n",
    "    \n",
    "    print(sparse.issparse(combined.X))\n",
    "    print(sparse.issparse(combined.obsp['distances']))\n",
    "    print(sparse.issparse(combined.obsp['connectivities']))\n",
    "            \n",
    "    \n",
    "    print(combined)\n",
    "    return combined"
   ]
  },
  {
   "cell_type": "code",
   "execution_count": 6,
   "id": "1d325c5a",
   "metadata": {},
   "outputs": [],
   "source": [
    "def remove_obs_names_duplicates(combined):\n",
    "    # Check for duplicate observation names\n",
    "    print(\"Number of duplicate observation names:\", sum(combined.obs.index.duplicated()))\n",
    "\n",
    "    # Rename the observations with a unique suffix\n",
    "    unique_obs_names = combined.obs.index\n",
    "    unique_obs_names_suffix = [f\"{name}_{i}\" for i, name in enumerate(unique_obs_names)]\n",
    "    combined.obs.index = unique_obs_names_suffix\n",
    "\n",
    "    # Check that there are no more duplicate observation names\n",
    "    print(\"Number of duplicate observation names:\", sum(combined.obs.index.duplicated()))"
   ]
  },
  {
   "cell_type": "code",
   "execution_count": 7,
   "id": "5800d1ca",
   "metadata": {},
   "outputs": [],
   "source": [
    "def compute_neighbours(combined):\n",
    "    print(\"computing neighbours on scglue latent space..\\n\\n\")\n",
    "    sc.pp.neighbors(combined, 15,  use_rep='X_glue')"
   ]
  },
  {
   "cell_type": "code",
   "execution_count": 8,
   "id": "57653a0c",
   "metadata": {},
   "outputs": [],
   "source": [
    "def define_variables(combined, label_key, batch_key):\n",
    "    print(\"defining variables..\\n\\n\")\n",
    "    X = combined.obsm['X_glue']\n",
    "    combined.obs[label_key+'_code'] = combined.obs[label_key].cat.codes.to_numpy()\n",
    "    combined.obs[batch_key+'_code'] = combined.obs[batch_key].cat.codes.to_numpy() #for scib\n",
    "    distances_nn = combined.obsp['distances']\n",
    "    connectivities = combined.obsp['connectivities']\n",
    "    \n",
    "    return X, label_key, batch_key, distances_nn, connectivities"
   ]
  },
  {
   "cell_type": "code",
   "execution_count": 9,
   "id": "a8cf8967",
   "metadata": {},
   "outputs": [],
   "source": [
    "def run_metrics(combined, X, label_key, batch_key, distances_nn, connectivities):\n",
    "    print(\"running metrics..\\n\\n\")\n",
    "    batch_effect_metrics = {}\n",
    "    #removal of batch effects\n",
    "    print(\"running pcr..\\n\\n\")\n",
    "    #pcr = scib_metrics.utils.principal_component_regression(X=X, covariate=combined.obs[batch_key+'_code'])\n",
    "    print(\"running graph connectivity..\\n\\n\")\n",
    "    #graph_connectivity = scib_metrics.graph_connectivity(X=distances_nn, labels=combined.obs[label_key+'_code'])\n",
    "    print(\"running ilisi knn (scib implementation).. \\n\\n\")\n",
    "    #ilisi_knn = scib.metrics.ilisi_graph(combined, batch_key, \"knn\", use_rep='X_glue')\n",
    "    print(\"running silhouette batch (scib implementation)..\\n\\n\")\n",
    "    silhouette_batch = scib.metrics.silhouette_batch(combined, batch_key, label_key, 'X_glue')\n",
    "    \n",
    "    #conservation of variance from cell identity labels (label conservation metrics)\n",
    "    label_conserv_metrics = {}\n",
    "    print(\"running silhouette label.. \\n\\n\")\n",
    "    silhouette_label =  scib.metrics.silhouette(combined, label_key, 'X_glue')\n",
    "    print(\"running nmi, ari with leiden..\\n\\n\")\n",
    "    nmi_ari_leiden = scib_metrics.nmi_ari_cluster_labels_leiden(X=connectivities, labels=combined.obs[label_key+'_code'])\n",
    "    print(\"running clisi knn..\\n\\n\")\n",
    "    clisi_knn =  scib.metrics.clisi_graph(combined, label_key, 'knn', use_rep='X_glue')\n",
    "    \n",
    "    print(\"generating batch effect metrics dictionary.. \\n\\n\")\n",
    "    batch_effect_metrics.update([('pcr', pcr), ('graph_connectivity', graph_connectivity),\n",
    "                                 ('ilisi_knn', ilisi_knn), ('silhouette_batch', silhouette_batch)]) \n",
    "    \n",
    "    print(\"generating label conservation metrics dictionary.. \\n\\n\")\n",
    "    label_conserv_metrics.update([('silhouette_label', silhouette_label),\n",
    "                                  ('nmi_ari_leiden', nmi_ari_leiden), \n",
    "                                  ('clisi_knn', clisi_knn)])\n",
    "    \n",
    "    print(\"batch effect metrics for current integration coefficient:\")\n",
    "    print(batch_effect_metrics)\n",
    "    print(\"label conservation metrics for current integration coefficient:\")\n",
    "    print(label_conserv_metrics)\n",
    "    \n",
    "    return batch_effect_metrics, label_conserv_metrics"
   ]
  },
  {
   "cell_type": "code",
   "execution_count": 10,
   "id": "06d4917e",
   "metadata": {},
   "outputs": [],
   "source": [
    "def save_metrics(adata_path, batch_effect_metrics, label_conserv_metrics, label_key, batch_key):\n",
    "    metrics_path = adata_path + 'scib/'\n",
    "    os.makedirs(metrics_path, exist_ok=True)\n",
    "    with open(metrics_path+\"scib-\"+batch_key+'-'+label_key+'.txt', \"w\") as f:\n",
    "        f.write(\"batch_effect_metrics:\\n\\n\")\n",
    "        for key, value in batch_effect_metrics.items():\n",
    "            f.write(f\"{key}: {value}\\n\")\n",
    "        print(\"\\n\")\n",
    "        f.write(\"label conservation metrics:\\n\\n\")\n",
    "        for key, value in label_conserv_metrics.items():\n",
    "            f.write(f\"{key}: {value}\\n\")"
   ]
  },
  {
   "cell_type": "code",
   "execution_count": 11,
   "id": "a231bbe0",
   "metadata": {},
   "outputs": [],
   "source": [
    "def main(model_types = ['paired', 'unpaired'],\n",
    "         integration_types = ['trimodal', 'full', 'cite'],\n",
    "         label_key='Annotation_major_subset',\n",
    "         batch_key='Domain'):\n",
    "    \n",
    "    print(\"analysis starting..\\n\\n\")\n",
    "    for model_type in model_types: #run both paired and unpaired\n",
    "        for integration_type in integration_types: #run full, cite-only, and trimodal models      \n",
    "            print(f\"Computing metrics for model type:'{model_type}' and integration type '{integration_type}'\\n\\n\")\n",
    "            adata_path = define_path(model_type, integration_type)\n",
    "            combined = load_adata(adata_path)\n",
    "            remove_obs_names_duplicates(combined)\n",
    "            X, label_key, batch_key, distances_nn, connectivities = define_variables(combined, label_key, batch_key)\n",
    "            #compute_neighbours(combined)\n",
    "            batch_effect_metrics, label_conserv_metrics = run_metrics(combined, X, label_key,\n",
    "                                                                      batch_key, distances_nn, connectivities)\n",
    "            #save_metrics(adata_path, batch_effect_metrics, label_conserv_metrics, label_key, batch_key)\n",
    "    \n",
    "    print(\"analysis finished\")"
   ]
  },
  {
   "cell_type": "code",
   "execution_count": null,
   "id": "1c01be7e",
   "metadata": {
    "scrolled": true
   },
   "outputs": [
    {
     "data": {
      "text/html": [
       "<pre style=\"white-space:pre;overflow-x:auto;line-height:normal;font-family:Menlo,'DejaVu Sans Mono',consolas,'Courier New',monospace\">analysis starting..\n",
       "\n",
       "\n",
       "</pre>\n"
      ],
      "text/plain": [
       "analysis starting..\n",
       "\n",
       "\n"
      ]
     },
     "metadata": {},
     "output_type": "display_data"
    },
    {
     "data": {
      "text/html": [
       "<pre style=\"white-space:pre;overflow-x:auto;line-height:normal;font-family:Menlo,'DejaVu Sans Mono',consolas,'Courier New',monospace\">Computing metrics for model type:<span style=\"color: #008000; text-decoration-color: #008000\">'paired'</span> and integration type <span style=\"color: #008000; text-decoration-color: #008000\">'trimodal'</span>\n",
       "\n",
       "\n",
       "</pre>\n"
      ],
      "text/plain": [
       "Computing metrics for model type:\u001b[32m'paired'\u001b[0m and integration type \u001b[32m'trimodal'\u001b[0m\n",
       "\n",
       "\n"
      ]
     },
     "metadata": {},
     "output_type": "display_data"
    },
    {
     "data": {
      "text/html": [
       "<pre style=\"white-space:pre;overflow-x:auto;line-height:normal;font-family:Menlo,'DejaVu Sans Mono',consolas,'Courier New',monospace\">loading trimodal adata..\n",
       "\n",
       "\n",
       "</pre>\n"
      ],
      "text/plain": [
       "loading trimodal adata..\n",
       "\n",
       "\n"
      ]
     },
     "metadata": {},
     "output_type": "display_data"
    },
    {
     "name": "stderr",
     "output_type": "stream",
     "text": [
      "/home/icb/leonardo.golinelli/miniconda3/envs/scib_rpy2/lib/python3.8/site-packages/anndata/_core/anndata.py:1828: UserWarning: Observation names are not unique. To make them unique, call `.obs_names_make_unique`.\n",
      "  utils.warn_names_duplicates(\"obs\")\n"
     ]
    },
    {
     "data": {
      "text/html": [
       "<pre style=\"white-space:pre;overflow-x:auto;line-height:normal;font-family:Menlo,'DejaVu Sans Mono',consolas,'Courier New',monospace\"><span style=\"color: #00ff00; text-decoration-color: #00ff00; font-style: italic\">True</span>\n",
       "</pre>\n"
      ],
      "text/plain": [
       "\u001b[3;92mTrue\u001b[0m\n"
      ]
     },
     "metadata": {},
     "output_type": "display_data"
    },
    {
     "data": {
      "text/html": [
       "<pre style=\"white-space:pre;overflow-x:auto;line-height:normal;font-family:Menlo,'DejaVu Sans Mono',consolas,'Courier New',monospace\"><span style=\"color: #00ff00; text-decoration-color: #00ff00; font-style: italic\">True</span>\n",
       "</pre>\n"
      ],
      "text/plain": [
       "\u001b[3;92mTrue\u001b[0m\n"
      ]
     },
     "metadata": {},
     "output_type": "display_data"
    },
    {
     "data": {
      "text/html": [
       "<pre style=\"white-space:pre;overflow-x:auto;line-height:normal;font-family:Menlo,'DejaVu Sans Mono',consolas,'Courier New',monospace\"><span style=\"color: #00ff00; text-decoration-color: #00ff00; font-style: italic\">True</span>\n",
       "</pre>\n"
      ],
      "text/plain": [
       "\u001b[3;92mTrue\u001b[0m\n"
      ]
     },
     "metadata": {},
     "output_type": "display_data"
    },
    {
     "data": {
      "text/html": [
       "<pre style=\"white-space:pre;overflow-x:auto;line-height:normal;font-family:Menlo,'DejaVu Sans Mono',consolas,'Courier New',monospace\">AnnData object with n_obs × n_vars = <span style=\"color: #008080; text-decoration-color: #008080; font-weight: bold\">2672296</span> × <span style=\"color: #008080; text-decoration-color: #008080; font-weight: bold\">0</span>\n",
       "    obs: <span style=\"color: #008000; text-decoration-color: #008000\">'Annotation_major_subset'</span>, <span style=\"color: #008000; text-decoration-color: #008000\">'Annotation_cell_type'</span>, <span style=\"color: #008000; text-decoration-color: #008000\">'Domain'</span>, <span style=\"color: #008000; text-decoration-color: #008000\">'Domain_major'</span>, <span style=\"color: #008000; text-decoration-color: #008000\">'balancing_weight'</span>\n",
       "    uns: <span style=\"color: #008000; text-decoration-color: #008000\">'neighbors'</span>, <span style=\"color: #008000; text-decoration-color: #008000\">'umap'</span>\n",
       "    obsm: <span style=\"color: #008000; text-decoration-color: #008000\">'X_glue'</span>, <span style=\"color: #008000; text-decoration-color: #008000\">'X_umap'</span>\n",
       "    obsp: <span style=\"color: #008000; text-decoration-color: #008000\">'connectivities'</span>, <span style=\"color: #008000; text-decoration-color: #008000\">'distances'</span>\n",
       "</pre>\n"
      ],
      "text/plain": [
       "AnnData object with n_obs × n_vars = \u001b[1;36m2672296\u001b[0m × \u001b[1;36m0\u001b[0m\n",
       "    obs: \u001b[32m'Annotation_major_subset'\u001b[0m, \u001b[32m'Annotation_cell_type'\u001b[0m, \u001b[32m'Domain'\u001b[0m, \u001b[32m'Domain_major'\u001b[0m, \u001b[32m'balancing_weight'\u001b[0m\n",
       "    uns: \u001b[32m'neighbors'\u001b[0m, \u001b[32m'umap'\u001b[0m\n",
       "    obsm: \u001b[32m'X_glue'\u001b[0m, \u001b[32m'X_umap'\u001b[0m\n",
       "    obsp: \u001b[32m'connectivities'\u001b[0m, \u001b[32m'distances'\u001b[0m\n"
      ]
     },
     "metadata": {},
     "output_type": "display_data"
    },
    {
     "data": {
      "text/html": [
       "<pre style=\"white-space:pre;overflow-x:auto;line-height:normal;font-family:Menlo,'DejaVu Sans Mono',consolas,'Courier New',monospace\">Number of duplicate observation names: <span style=\"color: #008080; text-decoration-color: #008080; font-weight: bold\">836148</span>\n",
       "</pre>\n"
      ],
      "text/plain": [
       "Number of duplicate observation names: \u001b[1;36m836148\u001b[0m\n"
      ]
     },
     "metadata": {},
     "output_type": "display_data"
    },
    {
     "data": {
      "text/html": [
       "<pre style=\"white-space:pre;overflow-x:auto;line-height:normal;font-family:Menlo,'DejaVu Sans Mono',consolas,'Courier New',monospace\">Number of duplicate observation names: <span style=\"color: #008080; text-decoration-color: #008080; font-weight: bold\">0</span>\n",
       "</pre>\n"
      ],
      "text/plain": [
       "Number of duplicate observation names: \u001b[1;36m0\u001b[0m\n"
      ]
     },
     "metadata": {},
     "output_type": "display_data"
    },
    {
     "data": {
      "text/html": [
       "<pre style=\"white-space:pre;overflow-x:auto;line-height:normal;font-family:Menlo,'DejaVu Sans Mono',consolas,'Courier New',monospace\">defining variables..\n",
       "\n",
       "\n",
       "</pre>\n"
      ],
      "text/plain": [
       "defining variables..\n",
       "\n",
       "\n"
      ]
     },
     "metadata": {},
     "output_type": "display_data"
    },
    {
     "data": {
      "text/html": [
       "<pre style=\"white-space:pre;overflow-x:auto;line-height:normal;font-family:Menlo,'DejaVu Sans Mono',consolas,'Courier New',monospace\">running metrics..\n",
       "\n",
       "\n",
       "</pre>\n"
      ],
      "text/plain": [
       "running metrics..\n",
       "\n",
       "\n"
      ]
     },
     "metadata": {},
     "output_type": "display_data"
    },
    {
     "data": {
      "text/html": [
       "<pre style=\"white-space:pre;overflow-x:auto;line-height:normal;font-family:Menlo,'DejaVu Sans Mono',consolas,'Courier New',monospace\">running pcr..\n",
       "\n",
       "\n",
       "</pre>\n"
      ],
      "text/plain": [
       "running pcr..\n",
       "\n",
       "\n"
      ]
     },
     "metadata": {},
     "output_type": "display_data"
    },
    {
     "data": {
      "text/html": [
       "<pre style=\"white-space:pre;overflow-x:auto;line-height:normal;font-family:Menlo,'DejaVu Sans Mono',consolas,'Courier New',monospace\">running graph connectivity..\n",
       "\n",
       "\n",
       "</pre>\n"
      ],
      "text/plain": [
       "running graph connectivity..\n",
       "\n",
       "\n"
      ]
     },
     "metadata": {},
     "output_type": "display_data"
    },
    {
     "data": {
      "text/html": [
       "<pre style=\"white-space:pre;overflow-x:auto;line-height:normal;font-family:Menlo,'DejaVu Sans Mono',consolas,'Courier New',monospace\">running ilisi knn <span style=\"font-weight: bold\">(</span>scib implementation<span style=\"font-weight: bold\">)</span>.. \n",
       "\n",
       "\n",
       "</pre>\n"
      ],
      "text/plain": [
       "running ilisi knn \u001b[1m(\u001b[0mscib implementation\u001b[1m)\u001b[0m.. \n",
       "\n",
       "\n"
      ]
     },
     "metadata": {},
     "output_type": "display_data"
    },
    {
     "data": {
      "text/html": [
       "<pre style=\"white-space:pre;overflow-x:auto;line-height:normal;font-family:Menlo,'DejaVu Sans Mono',consolas,'Courier New',monospace\">running silhouette batch <span style=\"font-weight: bold\">(</span>scib implementation<span style=\"font-weight: bold\">)</span>..\n",
       "\n",
       "\n",
       "</pre>\n"
      ],
      "text/plain": [
       "running silhouette batch \u001b[1m(\u001b[0mscib implementation\u001b[1m)\u001b[0m..\n",
       "\n",
       "\n"
      ]
     },
     "metadata": {},
     "output_type": "display_data"
    }
   ],
   "source": [
    "main(label_key = 'Annotation_major_subset', batch_key = 'Domain', model_types=['paired'], integration_types=['trimodal'])"
   ]
  },
  {
   "cell_type": "code",
   "execution_count": null,
   "id": "2f3fbb32",
   "metadata": {},
   "outputs": [],
   "source": [
    "main(label_key = 'Annotation_cell_type', batch_key = 'Domain', model_types=['paired'], integration_types=['trimodal'])"
   ]
  },
  {
   "cell_type": "code",
   "execution_count": null,
   "id": "f78805f2",
   "metadata": {},
   "outputs": [],
   "source": [
    "main(label_key = 'Annotation_major_subset', batch_key = 'Domain_major', model_types=['paired'], integration_types=['trimodal'])"
   ]
  },
  {
   "cell_type": "code",
   "execution_count": null,
   "id": "221af6cf",
   "metadata": {},
   "outputs": [],
   "source": [
    "main(label_key = 'Annotation_cell_type', batch_key = 'Domain_major', model_types=['paired'], integration_types=['trimodal'])"
   ]
  }
 ],
 "metadata": {
  "kernelspec": {
   "display_name": "Python 3 (ipykernel)",
   "language": "python",
   "name": "python3"
  },
  "language_info": {
   "codemirror_mode": {
    "name": "ipython",
    "version": 3
   },
   "file_extension": ".py",
   "mimetype": "text/x-python",
   "name": "python",
   "nbconvert_exporter": "python",
   "pygments_lexer": "ipython3",
   "version": "3.8.16"
  }
 },
 "nbformat": 4,
 "nbformat_minor": 5
}
