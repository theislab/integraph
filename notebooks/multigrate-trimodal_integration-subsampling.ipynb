{
 "cells": [
  {
   "cell_type": "code",
   "execution_count": null,
   "id": "b5ab7a4a",
   "metadata": {
    "scrolled": true
   },
   "outputs": [],
   "source": [
    "import numpy as np\n",
    "import scanpy as sc\n",
    "import multigrate as mtg\n",
    "import anndata as ad\n",
    "import scipy\n",
    "from scipy import sparse\n",
    "import os\n",
    "import matplotlib.pyplot as plt"
   ]
  },
  {
   "cell_type": "code",
   "execution_count": null,
   "id": "ef84630a",
   "metadata": {},
   "outputs": [],
   "source": [
    "def load_adata():\n",
    "    print(\"loading data..\")\n",
    "    rna = ad.read_h5ad(\"../pp_harm_data/rna-pp-harm-sub.h5ad\")\n",
    "    adt = ad.read_h5ad(\"../pp_harm_data/adt-pp-harm-sub.h5ad\")\n",
    "    cytof = ad.read_h5ad(\"../pp_harm_data/cytof-pp-harm-sub.h5ad\")\n",
    "\n",
    "    return rna, adt, cytof"
   ]
  },
  {
   "cell_type": "code",
   "execution_count": null,
   "id": "bd0849c2",
   "metadata": {},
   "outputs": [],
   "source": [
    "def split_adata(rna, adt, cytof): ### split adata based on common and unique features\n",
    "    intersection = adt.var.index.intersection(cytof.var.index).tolist()\n",
    "    print(\"adt and cytof have {} common features\".format(len(intersection)))\n",
    "    \n",
    "    adt_unique = adt[:, adt.var_names.drop(intersection)].copy()\n",
    "    cytof_unique = cytof[:, cytof.var_names.drop(intersection)].copy()\n",
    "    \n",
    "    adt_common = adt[:, intersection].copy()\n",
    "    cytof_common = cytof[:, intersection].copy()\n",
    "    \n",
    "    return rna, adt_unique, cytof_unique, adt_common, cytof_common"
   ]
  },
  {
   "cell_type": "code",
   "execution_count": null,
   "id": "ecf7fa5f",
   "metadata": {},
   "outputs": [],
   "source": [
    "def concatenate_adata(rna, adt_unique, cytof_unique, adt_common, cytof_common):\n",
    "    print(\"concatenating data..\")\n",
    "    \n",
    "    combined = mtg.data.organize_multiome_anndatas(\n",
    "        adatas = [[rna, None], [adt_common, cytof_common], [adt_unique, None], [None, cytof_unique]],\n",
    "        layers = [[None, None], [None, None], [None, None], [None, None]],\n",
    "    )\n",
    "    \n",
    "    return combined"
   ]
  },
  {
   "cell_type": "code",
   "execution_count": null,
   "id": "e86a7b3c",
   "metadata": {},
   "outputs": [],
   "source": [
    "def setup_combined_adata(combined):\n",
    "    print(\"setting up the combined adata..\")\n",
    "    mtg.model.MultiVAE.setup_anndata(combined, categorical_covariate_keys = ['Domain']),"
   ]
  },
  {
   "cell_type": "code",
   "execution_count": null,
   "id": "d67c1389",
   "metadata": {
    "scrolled": true
   },
   "outputs": [],
   "source": [
    "def setup_multivae(combined, l_coef,mmd):\n",
    "    print(\"setting up the model..\")\n",
    "    model = mtg.model.MultiVAE(\n",
    "        combined, \n",
    "        integrate_on='Domain',\n",
    "        loss_coefs={'integ':l_coef},\n",
    "        losses=['mse', 'mse', 'mse', 'mse'],\n",
    "        mmd=mmd)\n",
    "        \n",
    "    return model"
   ]
  },
  {
   "cell_type": "code",
   "execution_count": null,
   "id": "9e5de6f2",
   "metadata": {},
   "outputs": [],
   "source": [
    "def model_train(model, lr):\n",
    "    print(\"training the model..\")\n",
    "    model.train(lr=lr, use_gpu=True)"
   ]
  },
  {
   "cell_type": "code",
   "execution_count": null,
   "id": "c864ec2d",
   "metadata": {},
   "outputs": [],
   "source": [
    "def plot_losses(model, results_path):\n",
    "    model.plot_losses(results_path + \"losses.jpg\")"
   ]
  },
  {
   "cell_type": "code",
   "execution_count": null,
   "id": "3dc56317",
   "metadata": {},
   "outputs": [],
   "source": [
    "def save_model(model, results_path):\n",
    "    print(\"saving the model..\")\n",
    "    model.save(results_path + \"multigrate.dill\", prefix=None, overwrite=True, save_anndata=False)"
   ]
  },
  {
   "cell_type": "code",
   "execution_count": null,
   "id": "27af5315",
   "metadata": {},
   "outputs": [],
   "source": [
    "def get_latent_representation(model):\n",
    "    print(\"getting latent representation for the combined adata..\")\n",
    "    model.get_latent_representation()"
   ]
  },
  {
   "cell_type": "code",
   "execution_count": null,
   "id": "af24b6b0",
   "metadata": {},
   "outputs": [],
   "source": [
    "def write_combined(combined, results_path):\n",
    "    print(\"writing the combined adata\\n\\n\")\n",
    "    del combined.uns['modality_lengths'] #avoids error message when writing adata containing modality lenghts\n",
    "    combined.write(results_path + \"combined.h5ad\", compression=\"gzip\")\n",
    "    print(\"writing complete\\n\\n\")"
   ]
  },
  {
   "cell_type": "code",
   "execution_count": null,
   "id": "86ff5f77",
   "metadata": {},
   "outputs": [],
   "source": [
    "def load_combined(results_path):\n",
    "    print(\"loading combined adata..\\n\\n\")\n",
    "    combined = ad.read_h5ad(results_path + \"combined.h5ad\")\n",
    "    return combined"
   ]
  },
  {
   "cell_type": "code",
   "execution_count": null,
   "id": "4bca5fc0",
   "metadata": {},
   "outputs": [],
   "source": [
    "def compute_umap(combined, results_path):\n",
    "    print(\"computing neighbours..\\n\\n\")\n",
    "    sc.pp.neighbors(combined, use_rep=\"latent\", metric=\"cosine\")\n",
    "    print(\"computing umap..\\n\\n\")\n",
    "    sc.tl.umap(combined)\n",
    "    print(\"writing combined adata with umap in results directory..\\n\\n\")\n",
    "    combined.write(results_path +\"combined.h5ad\", compression=\"gzip\")\n",
    "\n",
    "    print(\"plotting umaps..\\n\\n\")\n",
    "    os.makedirs(results_path + \"umaps/\", exist_ok=True)\n",
    "    \n",
    "    ax = sc.pl.umap(combined, color=[\"Annotation_major_subset\", \"Annotation_cell_type\"], wspace=0.65, return_fig=True)\n",
    "    plt.show()\n",
    "    fig = ax.get_figure()\n",
    "    fig.savefig(results_path+'umaps/cell_type.png')\n",
    "    plt.close()\n",
    "    \n",
    "    ax = sc.pl.umap(combined, color=[\"Domain_major\", \"Domain\"], wspace=0.65, return_fig=True)\n",
    "    plt.show()\n",
    "    fig = ax.get_figure()\n",
    "    fig.savefig(results_path+'umaps/domain.png')\n",
    "    plt.close()\n",
    "    \n",
    "    return combined"
   ]
  },
  {
   "cell_type": "code",
   "execution_count": null,
   "id": "a98f0acc",
   "metadata": {},
   "outputs": [],
   "source": [
    "def main(loss_coefs=[0, 1e1, 1e2, 1e3, 1e4, 1e5],\n",
    "         lr=0.00005,\n",
    "         mmd='latent'):\n",
    "    \n",
    "    rna, adt, cytof = load_adata()\n",
    "    (rna, adt_unique, cytof_unique, adt_common, cytof_common) = split_adata(rna, adt, cytof)\n",
    "    \n",
    "    for l_coef in loss_coefs:\n",
    "        results_path = '../results/multigrate/trimodal/coef_' + str(l_coef) + '/'\n",
    "        os.makedirs(results_path, exist_ok=True)\n",
    "        combined = concatenate_adata(rna, adt_unique, cytof_unique, adt_common, cytof_common)\n",
    "        setup_combined_adata(combined)\n",
    "        model = setup_multivae(combined, l_coef, mmd=mmd)\n",
    "        model.to_device('cuda:0')\n",
    "        model_train(model, lr=lr)\n",
    "        save_model(model, results_path)\n",
    "        plot_losses(model, results_path)\n",
    "        get_latent_representation(model)\n",
    "        write_combined(combined, results_path)"
   ]
  },
  {
   "cell_type": "code",
   "execution_count": null,
   "id": "6e150ca6",
   "metadata": {},
   "outputs": [],
   "source": [
    "def umaps(loss_coefs=[0, 1, 1e1, 1e2, 1e3, 1e4, 1e5],\n",
    "         lr=0.00005,\n",
    "         mmd='latent'):\n",
    "    \n",
    "    print(\"analysis started..\\n\\n\")\n",
    "    \n",
    "    rna, adt, cytof = load_adata()\n",
    "    (rna, adt_unique, cytof_unique, adt_common, cytof_common) = split_adata(rna, adt, cytof)\n",
    "    \n",
    "    for l_coef in loss_coefs:\n",
    "        print(\"using loss coefficient:\",l_coef)\n",
    "        results_path = '../results/multigrate/trimodal/coef_' + str(l_coef) + '/'\n",
    "        os.makedirs(results_path, exist_ok=True)\n",
    "        combined = load_combined(results_path)\n",
    "        #print(combined)\n",
    "        compute_umap(combined, results_path)\n",
    "        \n",
    "    print(\"analysis completed\\n\\n\")"
   ]
  },
  {
   "cell_type": "markdown",
   "id": "e52ffee3",
   "metadata": {},
   "source": [
    "## Set parameters and run"
   ]
  },
  {
   "cell_type": "code",
   "execution_count": null,
   "id": "5c8d0a5f",
   "metadata": {},
   "outputs": [],
   "source": [
    "\"\"\"main(loss_coefs=[1e5, 1], \n",
    "     lr = 0.00005, \n",
    "     mmd='marginal')\"\"\""
   ]
  },
  {
   "cell_type": "code",
   "execution_count": null,
   "id": "4f025572",
   "metadata": {},
   "outputs": [],
   "source": [
    "umaps()"
   ]
  },
  {
   "cell_type": "code",
   "execution_count": null,
   "id": "a537fa4c",
   "metadata": {},
   "outputs": [],
   "source": [
    "umaps(loss_coefs=[1])"
   ]
  },
  {
   "cell_type": "code",
   "execution_count": 1,
   "id": "38115e6f",
   "metadata": {},
   "outputs": [
    {
     "name": "stderr",
     "output_type": "stream",
     "text": [
      "/home/icb/leonardo.golinelli/.conda/envs/multigrate/lib/python3.10/site-packages/torch/cuda/__init__.py:88: UserWarning: CUDA initialization: The NVIDIA driver on your system is too old (found version 9010). Please update your GPU driver by downloading and installing a new version from the URL: http://www.nvidia.com/Download/index.aspx Alternatively, go to: https://pytorch.org to install a PyTorch version that has been compiled with your version of the CUDA driver. (Triggered internally at ../c10/cuda/CUDAFunctions.cpp:109.)\n",
      "  return torch._C._cuda_getDeviceCount() > 0\n"
     ]
    },
    {
     "data": {
      "text/plain": [
       "False"
      ]
     },
     "execution_count": 1,
     "metadata": {},
     "output_type": "execute_result"
    }
   ],
   "source": [
    "import torch\n",
    "torch.cuda.is_available()"
   ]
  },
  {
   "cell_type": "code",
   "execution_count": null,
   "id": "e05126aa",
   "metadata": {},
   "outputs": [],
   "source": []
  }
 ],
 "metadata": {
  "kernelspec": {
   "display_name": "Python 3 (ipykernel)",
   "language": "python",
   "name": "python3"
  },
  "language_info": {
   "codemirror_mode": {
    "name": "ipython",
    "version": 3
   },
   "file_extension": ".py",
   "mimetype": "text/x-python",
   "name": "python",
   "nbconvert_exporter": "python",
   "pygments_lexer": "ipython3",
   "version": "3.10.9"
  }
 },
 "nbformat": 4,
 "nbformat_minor": 5
}
