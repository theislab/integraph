{
 "cells": [
  {
   "cell_type": "code",
   "execution_count": null,
   "id": "cbf286e1",
   "metadata": {},
   "outputs": [],
   "source": [
    "import anndata as ad\n",
    "import pandas as pd\n",
    "import numpy as np\n",
    "from numpy.random import default_rng\n",
    "import scanpy as sc\n",
    "import scipy\n",
    "from scipy import sparse\n",
    "import os\n",
    "import matplotlib.pyplot as plt"
   ]
  },
  {
   "cell_type": "code",
   "execution_count": null,
   "id": "81080ae0",
   "metadata": {
    "scrolled": true
   },
   "outputs": [],
   "source": [
    "data_path = '../../../../lustre/groups/ml01/datasets/projects/202201212_psngraph_fabiola.curion/data.dir/'\n",
    "!ls $data_path"
   ]
  },
  {
   "cell_type": "markdown",
   "id": "bcc9eea6",
   "metadata": {},
   "source": [
    "## Loading adatas"
   ]
  },
  {
   "cell_type": "code",
   "execution_count": null,
   "id": "cb046dc8",
   "metadata": {},
   "outputs": [],
   "source": [
    "cite = ad.read_h5ad(\"../data_extra_modalities/COMBAT-CITESeq-DATA.h5ad\")\n",
    "cite"
   ]
  },
  {
   "cell_type": "code",
   "execution_count": null,
   "id": "aea1b0de",
   "metadata": {},
   "outputs": [],
   "source": [
    "cite.var_names"
   ]
  },
  {
   "cell_type": "code",
   "execution_count": null,
   "id": "cce19a9b",
   "metadata": {},
   "outputs": [],
   "source": [
    "sparse.issparse(cite.X)"
   ]
  },
  {
   "cell_type": "code",
   "execution_count": null,
   "id": "6b36db17",
   "metadata": {},
   "outputs": [],
   "source": []
  },
  {
   "cell_type": "code",
   "execution_count": null,
   "id": "3d019eb9",
   "metadata": {
    "scrolled": true
   },
   "outputs": [],
   "source": [
    "rna = ad.read_h5ad(data_path+\"combat_rna.h5ad\")\n",
    "adt = ad.read_h5ad(data_path+\"combat_adt.h5ad\")\n",
    "cytof = ad.read_h5ad(data_path+\"cytof_full.h5ad\")\n",
    "facs = ad.read_h5ad(data_path+\"facs_full.h5ad\")"
   ]
  },
  {
   "cell_type": "code",
   "execution_count": null,
   "id": "a52bdb3c",
   "metadata": {},
   "outputs": [],
   "source": [
    "rna.layers['raw']"
   ]
  },
  {
   "cell_type": "markdown",
   "id": "f9c50882",
   "metadata": {},
   "source": [
    "## Fixing warnings"
   ]
  },
  {
   "cell_type": "code",
   "execution_count": null,
   "id": "11cc1e07",
   "metadata": {},
   "outputs": [],
   "source": [
    "facs.obs_names = [str(i)+'_facs' for i in range(len(facs))]\n",
    "adt.var.index = [index[3:] for index in adt.var.index]"
   ]
  },
  {
   "cell_type": "code",
   "execution_count": null,
   "id": "a973d58b",
   "metadata": {
    "scrolled": false
   },
   "outputs": [],
   "source": [
    "rna.shape, adt.shape, cytof.shape, facs.shape"
   ]
  },
  {
   "cell_type": "markdown",
   "id": "be942bb1",
   "metadata": {},
   "source": [
    "## Loading label harmonization files"
   ]
  },
  {
   "cell_type": "code",
   "execution_count": null,
   "id": "4dfabd30",
   "metadata": {},
   "outputs": [],
   "source": [
    "cite_cells = pd.read_csv(data_path+'cite_cells.csv')\n",
    "cytof_cells = pd.read_csv(data_path+'cytof_cells.csv')\n",
    "cytof_cells_harmonised = pd.read_csv(data_path+'cytof_cells_harmonised.csv', sep=';')"
   ]
  },
  {
   "cell_type": "markdown",
   "id": "6b627896",
   "metadata": {},
   "source": [
    "## Removing original obsm"
   ]
  },
  {
   "cell_type": "code",
   "execution_count": null,
   "id": "98943c48",
   "metadata": {},
   "outputs": [],
   "source": [
    "rna.obsm = None\n",
    "adt.obsm = None\n",
    "cytof.obsm = None\n",
    "facs.obsm = None"
   ]
  },
  {
   "cell_type": "markdown",
   "id": "a18d8b6f",
   "metadata": {},
   "source": [
    "## Check variable distributions"
   ]
  },
  {
   "cell_type": "code",
   "execution_count": null,
   "id": "2945f585",
   "metadata": {},
   "outputs": [],
   "source": [
    "#plt.hist(rna.X.data[:100])"
   ]
  },
  {
   "cell_type": "code",
   "execution_count": null,
   "id": "da16bfe1",
   "metadata": {},
   "outputs": [],
   "source": [
    "#plt.hist(rna.layers['raw'].data[:100])"
   ]
  },
  {
   "cell_type": "code",
   "execution_count": null,
   "id": "6ad5c052",
   "metadata": {
    "scrolled": true
   },
   "outputs": [],
   "source": [
    "#plt.hist(adt.X.data[:100])"
   ]
  },
  {
   "cell_type": "code",
   "execution_count": null,
   "id": "65df6fcc",
   "metadata": {},
   "outputs": [],
   "source": [
    "#plt.hist(adt.layers['raw'].data[:100])"
   ]
  },
  {
   "cell_type": "code",
   "execution_count": null,
   "id": "420db66b",
   "metadata": {
    "scrolled": true
   },
   "outputs": [],
   "source": [
    "#plt.hist(cytof.X[:,9])"
   ]
  },
  {
   "cell_type": "code",
   "execution_count": null,
   "id": "38d9f314",
   "metadata": {
    "scrolled": true
   },
   "outputs": [],
   "source": [
    "plt.hist(facs.X[:,1])"
   ]
  },
  {
   "cell_type": "code",
   "execution_count": null,
   "id": "6e4c749c",
   "metadata": {},
   "outputs": [],
   "source": [
    "plt.hist(facs.layers['exprs'][:,1])"
   ]
  },
  {
   "cell_type": "markdown",
   "id": "dd77c683",
   "metadata": {},
   "source": [
    "## Subsampling"
   ]
  },
  {
   "cell_type": "code",
   "execution_count": null,
   "id": "7cae207f",
   "metadata": {},
   "outputs": [],
   "source": [
    "\"\"\"#subset size is taken to equal the length of the smallest dataset: i.e. facs\n",
    "rng = default_rng(seed=100)\n",
    "rna_subset = rng.choice(len(rna), size=131920, replace=False) \n",
    "cytof_subset = rng.choice(len(cytof), size=131920, replace=False)\n",
    "facs_subset = rng.choice(len(facs), size=131920, replace=False)\"\"\""
   ]
  },
  {
   "cell_type": "code",
   "execution_count": null,
   "id": "43be1e64",
   "metadata": {},
   "outputs": [],
   "source": [
    "\"\"\"rna_query = rna[rna_query_subset,].copy()\n",
    "adt_query = adt[rna_query_subset,].copy()\n",
    "rna = rna[rna_subset,].copy()\n",
    "adt = adt[rna_subset,].copy() # keep the same observations of the rna assay to provide paired cite seq information\n",
    "cytof = cytof[cytof_subset,].copy()\n",
    "facs = facs[facs_subset,].copy()\"\"\""
   ]
  },
  {
   "cell_type": "markdown",
   "id": "3d2e9829",
   "metadata": {},
   "source": [
    "## RNA variable selection and pca"
   ]
  },
  {
   "cell_type": "code",
   "execution_count": null,
   "id": "7ea8e246",
   "metadata": {
    "scrolled": true
   },
   "outputs": [],
   "source": [
    "#sc.pp.highly_variable_genes(rna, layer = 'raw', n_top_genes=4000, flavor=\"seurat_v3\")\n",
    "#highly_variable_genes = rna.var['highly_variable']\n",
    "#rna = rna[:,highly_variable_genes].copy()\n",
    "#sc.tl.pca(rna, n_comps=50, svd_solver=\"auto\")"
   ]
  },
  {
   "cell_type": "markdown",
   "id": "8c2039cb",
   "metadata": {},
   "source": [
    "## Use unnormalized expressions for cite and adt"
   ]
  },
  {
   "cell_type": "code",
   "execution_count": null,
   "id": "4af87191",
   "metadata": {},
   "outputs": [],
   "source": [
    "rna.layers['original_X'] = rna.X.copy()\n",
    "rna.X = rna.layers['raw'].copy()\n",
    "adt.layers['original_X'] = adt.X.copy()\n",
    "adt.X = adt.layers['raw'].copy()"
   ]
  },
  {
   "cell_type": "markdown",
   "id": "998a3942",
   "metadata": {},
   "source": [
    "## Check data matrix sparsification and convert to dense"
   ]
  },
  {
   "cell_type": "code",
   "execution_count": null,
   "id": "fd6f3648",
   "metadata": {},
   "outputs": [],
   "source": [
    "scipy.sparse.issparse(rna.X), scipy.sparse.issparse(adt.X), scipy.sparse.issparse(cytof.X), scipy.sparse.issparse(facs.X)"
   ]
  },
  {
   "cell_type": "code",
   "execution_count": null,
   "id": "5a692d6a",
   "metadata": {},
   "outputs": [],
   "source": [
    "rna.X = sparse.csr_matrix.todense(rna.X)"
   ]
  },
  {
   "cell_type": "code",
   "execution_count": null,
   "id": "a6067db0",
   "metadata": {},
   "outputs": [],
   "source": [
    "adt.X = sparse.csr_matrix.todense(adt.X)"
   ]
  },
  {
   "cell_type": "code",
   "execution_count": null,
   "id": "299b353e",
   "metadata": {},
   "outputs": [],
   "source": [
    "scipy.sparse.issparse(rna.X), scipy.sparse.issparse(adt.X), scipy.sparse.issparse(cytof.X), scipy.sparse.issparse(facs.X)"
   ]
  },
  {
   "cell_type": "markdown",
   "id": "bc81f566",
   "metadata": {},
   "source": [
    "## Cell type harmonization"
   ]
  },
  {
   "cell_type": "code",
   "execution_count": null,
   "id": "282bdbf0",
   "metadata": {},
   "outputs": [],
   "source": [
    "def get_map_raw(l1, l2):\n",
    "    dic = {}\n",
    "    for label in l1:\n",
    "        if label in l2:\n",
    "            dic.update([(label, label)])\n",
    "        else:\n",
    "            dic.update([(label, None)])\n",
    "\n",
    "    for label in l2:\n",
    "        if label not in dic:\n",
    "            dic.update([(label, None)])\n",
    "    \n",
    "    return dic"
   ]
  },
  {
   "cell_type": "code",
   "execution_count": null,
   "id": "31af60e8",
   "metadata": {},
   "outputs": [],
   "source": [
    "#cite_cells.Annotation_major_subset.unique(), cytof_cells_harmonised.harmonized_major_subset.unique()"
   ]
  },
  {
   "cell_type": "code",
   "execution_count": null,
   "id": "a69ed959",
   "metadata": {
    "scrolled": true
   },
   "outputs": [],
   "source": [
    "#cite_cells.Annotation_cell_type.unique(), cytof_cells_harmonised.harmonized_cell_type.unique()"
   ]
  },
  {
   "cell_type": "code",
   "execution_count": null,
   "id": "9bc5c72f",
   "metadata": {},
   "outputs": [],
   "source": [
    "cell_type_harm_map = get_map_raw(cite_cells.Annotation_cell_type.unique(), cytof_cells_harmonised.harmonized_cell_type.unique())\n",
    "major_subset_harm_map = get_map_raw(cite_cells.Annotation_major_subset.unique(), cytof_cells_harmonised.harmonized_major_subset.unique())"
   ]
  },
  {
   "cell_type": "markdown",
   "id": "a4d7921a",
   "metadata": {},
   "source": [
    "#### Note: \n",
    "\n",
    "From the maps one can see that labels between cytof and citeseq are already harmonized. The only thing to do at this point is to rename the cytof cells as the corresponding harmonized labels present in the cytof_cells_harmonized file.\n",
    "The only thing to notice is that a subset of cell types identified with one assay are not identified with the other one and vice versa."
   ]
  },
  {
   "cell_type": "code",
   "execution_count": null,
   "id": "b95d15b3",
   "metadata": {
    "scrolled": true
   },
   "outputs": [],
   "source": [
    "#used to map the name present in cytof_cells the same way as harmonized_cytof_cells (and consequently cite_Cells)\n",
    "\n",
    "dic_major = {}\n",
    "dic_type = {}\n",
    "for i in range(len(cytof_cells_harmonised)):\n",
    "    key = cytof_cells_harmonised.iloc[i]['major_cell_type']\n",
    "    value_major = cytof_cells_harmonised.iloc[i]['harmonized_major_subset']\n",
    "    value_type = cytof_cells_harmonised.iloc[i]['harmonized_cell_type']\n",
    "    if value_major not in dic_major:\n",
    "        dic_major.update([(key, value_major)])\n",
    "    if value_type not in dic_type:\n",
    "        dic_type.update([(key, value_type)])"
   ]
  },
  {
   "cell_type": "code",
   "execution_count": null,
   "id": "24b591ca",
   "metadata": {},
   "outputs": [],
   "source": [
    "cytof.obs['harmonized_major_subset'] = cytof.obs['major_cell_type'].map(dic_major)\n",
    "cytof.obs['harmonized_cell_type'] = cytof.obs['major_cell_type'].map(dic_type)"
   ]
  },
  {
   "cell_type": "code",
   "execution_count": null,
   "id": "33bd257c",
   "metadata": {
    "scrolled": false
   },
   "outputs": [],
   "source": [
    "cytof.obs.rename(columns={'harmonized_major_subset': 'Annotation_major_subset', 'harmonized_cell_type': 'Annotation_cell_type'}, inplace=True)\n",
    "cytof.obs.columns"
   ]
  },
  {
   "cell_type": "code",
   "execution_count": null,
   "id": "5336d46e",
   "metadata": {},
   "outputs": [],
   "source": [
    "rna.obs['Annotation_major_subset'].cat.categories"
   ]
  },
  {
   "cell_type": "code",
   "execution_count": null,
   "id": "b93a3eb9",
   "metadata": {},
   "outputs": [],
   "source": [
    "cytof.obs['Annotation_major_subset'] = cytof.obs['Annotation_major_subset'].astype('category')\n",
    "cytof.obs['Annotation_cell_type'] = cytof.obs['Annotation_cell_type'].astype('category')"
   ]
  },
  {
   "cell_type": "code",
   "execution_count": null,
   "id": "b1560d28",
   "metadata": {},
   "outputs": [],
   "source": [
    "cytof.obs['Annotation_major_subset'] = cytof.obs['Annotation_major_subset'].cat.rename_categories({'UNCLASSIFIED': 'nan'})\n",
    "cytof.obs['Annotation_cell_type'] = cytof.obs['Annotation_cell_type'].cat.rename_categories({'UNCLASSIFIED': 'nan'})\n",
    "#cytof.obs['Annotation_major_subset'].unique(), cytof.obs['Annotation_cell_type'].unique()"
   ]
  },
  {
   "cell_type": "code",
   "execution_count": null,
   "id": "df2a428d",
   "metadata": {},
   "outputs": [],
   "source": [
    "facs.obs['Annotation_major_subset'] = 'WBCs' #to change to CD4\n",
    "facs.obs['Annotation_cell_type'] = 'WBCs'"
   ]
  },
  {
   "cell_type": "markdown",
   "id": "d88ff091",
   "metadata": {},
   "source": [
    "## Assign domain to each adata"
   ]
  },
  {
   "cell_type": "code",
   "execution_count": null,
   "id": "1012c91d",
   "metadata": {},
   "outputs": [],
   "source": [
    "rna.obs['Domain'] = 'cite'\n",
    "adt.obs['Domain'] = 'cite'\n",
    "cytof.obs['Domain'] = 'cytof'\n",
    "facs.obs['Domain'] = 'facs'\n",
    "rna.obs['Domain_major'] = 'rna'\n",
    "adt.obs['Domain_major'] = 'adt'\n",
    "cytof.obs['Domain_major'] = 'cytof'\n",
    "facs.obs['Domain_major'] = 'facs'"
   ]
  },
  {
   "cell_type": "markdown",
   "id": "31b340b6",
   "metadata": {},
   "source": [
    "## Assign reference or query label to each adata"
   ]
  },
  {
   "cell_type": "code",
   "execution_count": null,
   "id": "9f101a6d",
   "metadata": {},
   "outputs": [],
   "source": [
    "rna.obs['Framework'] = 'reference'\n",
    "adt.obs['Framework'] = 'reference'\n",
    "cytof.obs['Framework'] = 'reference'\n",
    "facs.obs['Framework'] = 'reference'"
   ]
  },
  {
   "cell_type": "markdown",
   "id": "94308391",
   "metadata": {},
   "source": [
    "## Write preprocessed, harmonized files"
   ]
  },
  {
   "cell_type": "code",
   "execution_count": null,
   "id": "b2d50f78",
   "metadata": {},
   "outputs": [],
   "source": [
    "filepath = \"../data_extra_modalities/\"\n",
    "os.makedirs(filepath, exist_ok=True)"
   ]
  },
  {
   "cell_type": "code",
   "execution_count": null,
   "id": "867fabb3",
   "metadata": {},
   "outputs": [],
   "source": [
    "rna.write(filepath + \"rna_cite-pp-harm.h5ad\", compression=\"gzip\")\n",
    "adt.write(filepath + \"adt_cite-pp-harm.h5ad\", compression=\"gzip\")\n",
    "cytof.write(filepath + \"cytof-pp-harm.h5ad\", compression=\"gzip\")\n",
    "#facs.write(\"facs-pp-harm-sub.h5ad\", compression=\"gzip\")"
   ]
  },
  {
   "cell_type": "code",
   "execution_count": null,
   "id": "58f1a816",
   "metadata": {},
   "outputs": [],
   "source": []
  }
 ],
 "metadata": {
  "kernelspec": {
   "display_name": "Python 3 (ipykernel)",
   "language": "python",
   "name": "python3"
  },
  "language_info": {
   "codemirror_mode": {
    "name": "ipython",
    "version": 3
   },
   "file_extension": ".py",
   "mimetype": "text/x-python",
   "name": "python",
   "nbconvert_exporter": "python",
   "pygments_lexer": "ipython3",
   "version": "3.10.4"
  }
 },
 "nbformat": 4,
 "nbformat_minor": 5
}
