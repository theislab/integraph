{
 "cells": [
  {
   "cell_type": "markdown",
   "id": "1fb15464",
   "metadata": {},
   "source": [
    "# Scglue integration on .9 edges"
   ]
  },
  {
   "cell_type": "markdown",
   "id": "5aab0eab",
   "metadata": {},
   "source": [
    "- Model types: paired, unpaired\n",
    "- Integration on: full data, trimodal, cite\n",
    "- Cross-modality edges: weight +1, sign +1"
   ]
  },
  {
   "cell_type": "code",
   "execution_count": null,
   "id": "9b817603",
   "metadata": {},
   "outputs": [],
   "source": [
    "import anndata as ad\n",
    "import networkx as nx\n",
    "import scanpy as sc\n",
    "import scglue\n",
    "import pandas as pd\n",
    "import numpy as np\n",
    "import seaborn as sns\n",
    "import matplotlib.pyplot as plt\n",
    "from matplotlib import rcParams\n",
    "import os"
   ]
  },
  {
   "cell_type": "code",
   "execution_count": null,
   "id": "c8e8a62c",
   "metadata": {},
   "outputs": [],
   "source": [
    "scglue.plot.set_publication_params()\n",
    "rcParams[\"figure.figsize\"] = (4, 4)"
   ]
  },
  {
   "cell_type": "code",
   "execution_count": null,
   "id": "7b825891",
   "metadata": {},
   "outputs": [],
   "source": [
    "def load_data():\n",
    "    print(\"loading data ..\\n\\n\")\n",
    "    \n",
    "    rna = ad.read_h5ad(\"../pp_harm_data/rna-pp-harm-sub.h5ad\")\n",
    "    adt = ad.read_h5ad(\"../pp_harm_data/adt-pp-harm-sub.h5ad\")\n",
    "    cytof = ad.read_h5ad(\"../pp_harm_data/cytof-pp-harm-sub.h5ad\")\n",
    "    facs = ad.read_h5ad(\"../pp_harm_data/facs-pp-harm-sub.h5ad\")\n",
    "    \n",
    "    adt.var.index = adt.var.index + '_adt'\n",
    "    cytof.var.index = cytof.var.index + '_cytof'\n",
    "    facs.var.index = facs.var.index + '_facs'\n",
    "\n",
    "    print(\"rna, adt, cytof and facs shapes: \")\n",
    "    print(rna.shape, adt.shape, cytof.shape, facs.shape, \"\\n\\n\")\n",
    "    \n",
    "    return rna, adt, cytof, facs"
   ]
  },
  {
   "cell_type": "code",
   "execution_count": null,
   "id": "8e88c8d8",
   "metadata": {},
   "outputs": [],
   "source": [
    "def configure_rna(rna):\n",
    "    scglue.models.configure_dataset(\n",
    "    rna, \"Normal\", use_highly_variable=False,\n",
    "    use_obs_names = True, use_rep=\"X_pca\"\n",
    "    )"
   ]
  },
  {
   "cell_type": "code",
   "execution_count": null,
   "id": "6fa64fc6",
   "metadata": {},
   "outputs": [],
   "source": [
    "def configure_adt(adt):\n",
    "    scglue.models.configure_dataset(\n",
    "    adt, \"Normal\", use_highly_variable=False, \n",
    "    use_obs_names = True\n",
    "    )"
   ]
  },
  {
   "cell_type": "code",
   "execution_count": null,
   "id": "244558c9",
   "metadata": {},
   "outputs": [],
   "source": [
    "def configure_cytof(cytof):\n",
    "    scglue.models.configure_dataset(\n",
    "    cytof, \"Normal\", use_highly_variable=False\n",
    "    )"
   ]
  },
  {
   "cell_type": "code",
   "execution_count": null,
   "id": "70683a85",
   "metadata": {},
   "outputs": [],
   "source": [
    "def configure_facs(facs):\n",
    "    scglue.models.configure_dataset(\n",
    "    facs, \"Normal\", use_highly_variable=False\n",
    "    )"
   ]
  },
  {
   "cell_type": "code",
   "execution_count": null,
   "id": "3a905ac7",
   "metadata": {},
   "outputs": [],
   "source": [
    "def configure_datasets(rna, adt, cytof, facs):\n",
    "    print(\"configuring datasets.. \\n\\n\")\n",
    "    configure_rna(rna)\n",
    "    configure_adt(adt)\n",
    "    configure_cytof(cytof)\n",
    "    configure_facs(facs)"
   ]
  },
  {
   "cell_type": "code",
   "execution_count": null,
   "id": "0ba9a234",
   "metadata": {},
   "outputs": [],
   "source": [
    "def load_guidance_graph(guidance_path):\n",
    "    guidance = nx.read_graphml(guidance_path)\n",
    "    return guidance"
   ]
  },
  {
   "cell_type": "code",
   "execution_count": null,
   "id": "003cb977",
   "metadata": {},
   "outputs": [],
   "source": [
    "def fit_paired_model(rna, adt, cytof, facs, guidance, results_path, integration_type):    \n",
    "    if integration_type == 'full':\n",
    "        glue = scglue.models.fit_SCGLUE(\n",
    "            {\"rna\": rna, \"adt\": adt, \"cytof\": cytof, \"facs\": facs}, guidance,\n",
    "            fit_kws={\"directory\": results_path + \"glue_run_report\"}, model=scglue.models.PairedSCGLUEModel,\n",
    "        )\n",
    "        \n",
    "    elif integration_type == 'trimodal':\n",
    "        glue = scglue.models.fit_SCGLUE(\n",
    "            {\"rna\": rna, \"adt\": adt, \"cytof\": cytof}, guidance,\n",
    "            fit_kws={\"directory\": results_path + \"glue_run_report\"}, model=scglue.models.PairedSCGLUEModel,\n",
    "        )\n",
    "        \n",
    "    elif integration_type == 'cite':\n",
    "        glue = scglue.models.fit_SCGLUE(\n",
    "            {\"rna\": rna, \"adt\": adt}, guidance,\n",
    "            fit_kws={\"directory\": results_path + \"glue_run_report\"}, model=scglue.models.PairedSCGLUEModel,\n",
    "        )\n",
    "             \n",
    "    return glue"
   ]
  },
  {
   "cell_type": "code",
   "execution_count": null,
   "id": "3d017d11",
   "metadata": {},
   "outputs": [],
   "source": [
    "def fit_unpaired_model(rna, adt, cytof, facs, guidance, results_path, integration_type):\n",
    "    if integration_type == 'full':\n",
    "        glue = scglue.models.fit_SCGLUE(\n",
    "            {\"rna\": rna, \"adt\": adt, \"cytof\": cytof, \"facs\": facs}, guidance,\n",
    "            fit_kws={\"directory\": results_path + \"glue_run_report\"}, model=scglue.models.SCGLUEModel,\n",
    "        )\n",
    "        \n",
    "    elif integration_type == 'trimodal':\n",
    "        glue = scglue.models.fit_SCGLUE(\n",
    "            {\"rna\": rna, \"adt\": adt, \"cytof\": cytof}, guidance,\n",
    "            fit_kws={\"directory\": results_path + \"glue_run_report\"}, model=scglue.models.SCGLUEModel,\n",
    "        )\n",
    "        \n",
    "    elif integration_type == 'cite':\n",
    "        glue = scglue.models.fit_SCGLUE(\n",
    "            {\"rna\": rna, \"adt\": adt}, guidance,\n",
    "            fit_kws={\"directory\": results_path + \"glue_run_report\"}, model=scglue.models.SCGLUEModel,\n",
    "        )\n",
    "             \n",
    "    return glue"
   ]
  },
  {
   "cell_type": "code",
   "execution_count": null,
   "id": "2924f24c",
   "metadata": {},
   "outputs": [],
   "source": [
    "def save_fitted_model(glue, results_path):\n",
    "    glue.save(results_path + \"glue.dill\")"
   ]
  },
  {
   "cell_type": "code",
   "execution_count": null,
   "id": "9f43df9f",
   "metadata": {},
   "outputs": [],
   "source": [
    "def plot_integration_consistency(rna, adt, cytof, facs, glue, guidance, results_path, integration_type):\n",
    "    if integration_type == 'full':\n",
    "        dx = scglue.models.integration_consistency(glue, {\"rna\": rna, \"adt\": adt, \"cytof\": cytof, \"facs\": facs}, guidance)\n",
    "    elif integration_type == 'trimodal':\n",
    "        dx = scglue.models.integration_consistency(glue, {\"rna\": rna, \"adt\": adt, \"cytof\": cytof}, guidance)\n",
    "    elif integration_type == 'cite':\n",
    "        dx = scglue.models.integration_consistency(glue, {\"rna\": rna, \"adt\": adt}, guidance)\n",
    "    ax = sns.lineplot(x=\"n_meta\", y=\"consistency\", data=dx).axhline(y=0.05, c=\"darkred\", ls=\"--\")\n",
    "    plt.show()\n",
    "    fig = ax.get_figure()\n",
    "    fig.savefig(results_path + \"scglue_run_lineplot.png\")"
   ]
  },
  {
   "cell_type": "code",
   "execution_count": null,
   "id": "7c5bc2bd",
   "metadata": {},
   "outputs": [],
   "source": [
    "def generate_embeddings(rna, adt, cytof, facs, glue, integration_type):\n",
    "    print(\"computing embeddings..\")\n",
    "    if integration_type == 'full':\n",
    "        rna.obsm['X_glue'] = glue.encode_data('rna', rna)\n",
    "        adt.obsm['X_glue'] = glue.encode_data('adt', adt)\n",
    "        cytof.obsm['X_glue'] = glue.encode_data('cytof', cytof)\n",
    "        facs.obsm['X_glue'] = glue.encode_data('facs', facs)\n",
    "        combined = ad.concat([rna, adt, cytof, facs])\n",
    "        \n",
    "    elif integration_type == 'trimodal':\n",
    "        rna.obsm['X_glue'] = glue.encode_data('rna', rna)\n",
    "        adt.obsm['X_glue'] = glue.encode_data('adt', adt)\n",
    "        cytof.obsm['X_glue'] = glue.encode_data('cytof', cytof)\n",
    "        combined = ad.concat([rna, adt, cytof])\n",
    "    \n",
    "    elif integration_type == 'cite':\n",
    "        rna.obsm['X_glue'] = glue.encode_data('rna', rna)\n",
    "        adt.obsm['X_glue'] = glue.encode_data('adt', adt)\n",
    "        combined = ad.concat([rna, adt])\n",
    "        \n",
    "    return combined"
   ]
  },
  {
   "cell_type": "code",
   "execution_count": null,
   "id": "783754f5",
   "metadata": {},
   "outputs": [],
   "source": [
    "def compute_umap(combined, results_path):\n",
    "    print(\"computing neighbours..\\n\\nvvvv\")\n",
    "    sc.pp.neighbors(combined, use_rep=\"X_glue\", metric=\"cosine\")\n",
    "    print(\"computing umap..\\n\\n\")\n",
    "    sc.tl.umap(combined)\n",
    "    print(\"writing combined adata with umap in results directory..\\n\\n\")\n",
    "    combined.write(results_path +\"combined.h5ad\", compression=\"gzip\")\n",
    "\n",
    "    print(\"plotting umaps..\\n\\n\")\n",
    "    os.makedirs(results_path + \"umaps/\", exist_ok=True)\n",
    "    \n",
    "    ax = sc.pl.umap(combined, color=[\"Annotation_major_subset\", \"Annotation_cell_type\"], wspace=0.65, return_fig=True)\n",
    "    plt.show()\n",
    "    fig = ax.get_figure()\n",
    "    fig.savefig(results_path+'umaps/cell_type.png')\n",
    "    plt.close()\n",
    "    \n",
    "    ax = sc.pl.umap(combined, color=[\"Domain_major\", \"Domain\"], wspace=0.65, return_fig=True)\n",
    "    plt.show()\n",
    "    fig = ax.get_figure()\n",
    "    fig.savefig(results_path+'umaps/domain.png')\n",
    "    plt.close()\n",
    "    \n",
    "    return combined"
   ]
  },
  {
   "cell_type": "code",
   "execution_count": null,
   "id": "3c625bf1",
   "metadata": {},
   "outputs": [],
   "source": [
    "def load_glue(results_path):\n",
    "    print(\"loading glue..\")\n",
    "    glue = scglue.models.load_model(results_path + \"glue.dill\")\n",
    "    return glue"
   ]
  },
  {
   "cell_type": "markdown",
   "id": "fe92f71b",
   "metadata": {},
   "source": [
    "### Concatenate functions"
   ]
  },
  {
   "cell_type": "code",
   "execution_count": null,
   "id": "e1c2ddf7",
   "metadata": {},
   "outputs": [],
   "source": [
    "def main(model_types = ['unpaired', 'paired'],\n",
    "         integration_types = ['cite', 'trimodal', 'full']):\n",
    "    \n",
    "    print(\"analysis starting..\\n\\n\")\n",
    "        \n",
    "    rna, adt, cytof, facs = load_data() #load data\n",
    "    configure_datasets(rna, adt, cytof, facs) #configure the datasets for scglue use\n",
    "    \n",
    "    for model_type in model_types: #run both paired and unpaired\n",
    "        for integration_type in integration_types: #run full, cite-only, and trimodal models\n",
    "            results_path = \"../results/scglue/point_nine_corr/\" + model_type + '/' + integration_type + '/' \n",
    "            guidance_path = \"guidance_graphs/point_nine_corr/\" + integration_type + '_graph.graphml.gz'\n",
    "            print(\"using results path: {}\\nusing guidance graph path: {}\\n\\n\".format(results_path, guidance_path))\n",
    "            print(\"using model type: {}\\nusing integration_type: {}\\n\\n\".format(model_type, integration_type))\n",
    "            \n",
    "            os.makedirs(results_path, exist_ok=True) #generate result directory for the specific type of model\n",
    "            guidance = load_guidance_graph(guidance_path)\n",
    "            \n",
    "            if model_type == 'paired': \n",
    "                glue = fit_paired_model(rna, adt, cytof, facs, guidance, results_path, integration_type) #run paired model\n",
    "            else:\n",
    "                glue = fit_unpaired_model(rna, adt, cytof, facs, guidance, results_path, integration_type) #run unpaired model \n",
    "            \n",
    "            save_fitted_model(glue, results_path) #save model\n",
    "            plot_integration_consistency(rna, adt, cytof, facs, glue, \n",
    "                                         guidance, results_path, integration_type) #generate and save glue plot\n",
    "            combined = generate_embeddings(rna, adt, cytof, facs, glue, integration_type) #compute embeddings and concatenate\n",
    "            compute_umap(combined, results_path) #compute umap on concatenated adata\n",
    "            \n",
    "    print(\"analysis completed\\n\\n\")"
   ]
  },
  {
   "cell_type": "markdown",
   "id": "eec9c553",
   "metadata": {},
   "source": [
    "## Run models"
   ]
  },
  {
   "cell_type": "code",
   "execution_count": null,
   "id": "ba86d776",
   "metadata": {
    "scrolled": false
   },
   "outputs": [],
   "source": [
    "main(model_types = ['unpaired'], integration_types=['cite'])"
   ]
  },
  {
   "cell_type": "code",
   "execution_count": null,
   "id": "0c05cf55",
   "metadata": {
    "scrolled": true
   },
   "outputs": [],
   "source": [
    "main(model_types = ['unpaired'], integration_types=['trimodal'] )"
   ]
  },
  {
   "cell_type": "code",
   "execution_count": null,
   "id": "d439daf8",
   "metadata": {
    "scrolled": true
   },
   "outputs": [],
   "source": [
    "main(model_types = ['unpaired'], integration_types=['full'] )"
   ]
  },
  {
   "cell_type": "code",
   "execution_count": null,
   "id": "d9fe7d3f",
   "metadata": {},
   "outputs": [],
   "source": [
    "main(model_types = ['paired'], integration_types=['cite'] )"
   ]
  },
  {
   "cell_type": "code",
   "execution_count": null,
   "id": "8cd1da9a",
   "metadata": {},
   "outputs": [],
   "source": [
    "main(model_types = ['paired'], integration_types=['trimodal'] )"
   ]
  },
  {
   "cell_type": "code",
   "execution_count": null,
   "id": "35746b2b",
   "metadata": {},
   "outputs": [],
   "source": [
    "main(model_types = ['paired'], integration_types=['full'] )"
   ]
  },
  {
   "cell_type": "code",
   "execution_count": null,
   "id": "33874cfe",
   "metadata": {},
   "outputs": [],
   "source": [
    "main(model_types = ['unpaired'], integration_types=['cite'])"
   ]
  },
  {
   "cell_type": "code",
   "execution_count": null,
   "id": "0e863b60",
   "metadata": {},
   "outputs": [],
   "source": []
  }
 ],
 "metadata": {
  "kernelspec": {
   "display_name": "Python 3 (ipykernel)",
   "language": "python",
   "name": "python3"
  },
  "language_info": {
   "codemirror_mode": {
    "name": "ipython",
    "version": 3
   },
   "file_extension": ".py",
   "mimetype": "text/x-python",
   "name": "python",
   "nbconvert_exporter": "python",
   "pygments_lexer": "ipython3",
   "version": "3.8.16"
  }
 },
 "nbformat": 4,
 "nbformat_minor": 5
}
