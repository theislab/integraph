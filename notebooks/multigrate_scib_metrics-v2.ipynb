{
 "cells": [
  {
   "cell_type": "code",
   "execution_count": 2,
   "id": "5a5b624b",
   "metadata": {},
   "outputs": [],
   "source": [
    "import numpy as np\n",
    "import scanpy as sc\n",
    "import pandas as pd\n",
    "import anndata as ad\n",
    "import scib_metrics\n",
    "import scib\n",
    "from scib_metrics.benchmark import Benchmarker\n",
    "from scipy import sparse\n",
    "import os"
   ]
  },
  {
   "cell_type": "code",
   "execution_count": 3,
   "id": "4efff9c1",
   "metadata": {},
   "outputs": [],
   "source": [
    "def define_path(l_coef):\n",
    "    adata_path = '../results/multigrate/trimodal/all_samples/coef_' + str(l_coef) + '/'\n",
    "    return adata_path"
   ]
  },
  {
   "cell_type": "code",
   "execution_count": 4,
   "id": "cd345f4a",
   "metadata": {},
   "outputs": [],
   "source": [
    "def load_adata(path):\n",
    "    print(\"loading trimodal adata..\\n\\n\")\n",
    "    combined = ad.read_h5ad(path+\"combined.h5ad\")\n",
    "    return combined"
   ]
  },
  {
   "cell_type": "code",
   "execution_count": 5,
   "id": "5800d1ca",
   "metadata": {},
   "outputs": [],
   "source": [
    "def compute_neighbours(combined):\n",
    "    print(\"computing neighbours on latent space..\\n\\n\")\n",
    "    sc.pp.neighbors(combined,  use_rep='latent')"
   ]
  },
  {
   "cell_type": "code",
   "execution_count": 6,
   "id": "57653a0c",
   "metadata": {},
   "outputs": [],
   "source": [
    "def define_variables(combined, label_key, batch_key):\n",
    "    print(\"defining variables..\\n\\n\")\n",
    "    X = combined.obsm['latent']\n",
    "    combined.obs[label_key+'_code'] = combined.obs[label_key].cat.codes.to_numpy()\n",
    "    combined.obs[batch_key+'_code'] = combined.obs[batch_key].cat.codes.to_numpy() #for scib\n",
    "    distances_nn = combined.obsp['distances']\n",
    "    connectivities = combined.obsp['connectivities']\n",
    "\n",
    "    return X, label_key, batch_key, distances_nn, connectivities"
   ]
  },
  {
   "cell_type": "code",
   "execution_count": 7,
   "id": "a8cf8967",
   "metadata": {},
   "outputs": [],
   "source": [
    "def run_metrics(combined, X, label_key, batch_key, distances_nn, connectivities):\n",
    "    print(\"running metrics..\\n\\n\")\n",
    "    batch_effect_metrics = {}\n",
    "    #removal of batch effects\n",
    "    print(\"running pcr..\\n\\n\")\n",
    "    pcr = scib_metrics.utils.principal_component_regression(X=X, covariate=combined.obs[batch_key+'_code'])\n",
    "    print(\"running graph connectivity..\\n\\n\")\n",
    "    graph_connectivity = scib_metrics.graph_connectivity(X=distances_nn, labels=combined.obs[label_key+'_code'])\n",
    "    print(\"running ilisi knn (scib implementation).. \\n\\n\")\n",
    "    ilisi_knn = scib.metrics.ilisi_graph(combined, batch_key, \"knn\", use_rep='latent')\n",
    "    print(\"running silhouette batch (scib implementation)..\\n\\n\")\n",
    "    silhouette_batch = scib.metrics.silhouette_batch(combined, batch_key, label_key, 'latent')\n",
    "    \n",
    "    #conservation of variance from cell identity labels (label conservation metrics)\n",
    "    label_conserv_metrics = {}\n",
    "    print(\"running silhouette label.. \\n\\n\")\n",
    "    silhouette_label =  scib.metrics.silhouette(combined, label_key, 'latent')\n",
    "    print(\"running nmi, ari with leiden..\\n\\n\")\n",
    "    nmi_ari_leiden = scib_metrics.nmi_ari_cluster_labels_leiden(X=connectivities, labels=combined.obs[label_key+'_code'])\n",
    "    print(\"running clisi knn..\\n\\n\")\n",
    "    clisi_knn =  scib.metrics.clisi_graph(combined, label_key, 'knn', use_rep='latent')\n",
    "    \n",
    "    print(\"generating batch effect metrics dictionary.. \\n\\n\")\n",
    "    batch_effect_metrics.update([('pcr', pcr), ('graph_connectivity', graph_connectivity),\n",
    "                                 ('ilisi_knn', ilisi_knn), ('silhouette_batch', silhouette_batch)]) \n",
    "    \n",
    "    print(\"generating label conservation metrics dictionary.. \\n\\n\")\n",
    "    label_conserv_metrics.update([('silhouette_label', silhouette_label),\n",
    "                                  ('nmi_ari_leiden', nmi_ari_leiden), \n",
    "                                  ('clisi_knn', clisi_knn)])\n",
    "    \n",
    "    print(\"batch effect metrics for current integration coefficient:\")\n",
    "    print(batch_effect_metrics)\n",
    "    print(\"label conservation metrics for current integration coefficient:\")\n",
    "    print(label_conserv_metrics)\n",
    "    \n",
    "    return batch_effect_metrics, label_conserv_metrics"
   ]
  },
  {
   "cell_type": "code",
   "execution_count": 8,
   "id": "06d4917e",
   "metadata": {},
   "outputs": [],
   "source": [
    "def save_metrics(adata_path, batch_effect_metrics, label_conserv_metrics, label_key, batch_key):\n",
    "    metrics_path = adata_path + 'scib_metrics/'\n",
    "    os.makedirs(metrics_path, exist_ok=True)\n",
    "    with open(metrics_path+\"scib_metrics-\"+batch_key+'-'+label_key+'.txt', \"w\") as f:\n",
    "        f.write(\"batch_effect_metrics:\\n\\n\")\n",
    "        for key, value in batch_effect_metrics.items():\n",
    "            f.write(f\"{key}: {value}\\n\")\n",
    "        print(\"\\n\")\n",
    "        f.write(\"label conservation metrics:\\n\\n\")\n",
    "        for key, value in label_conserv_metrics.items():\n",
    "            f.write(f\"{key}: {value}\\n\")"
   ]
  },
  {
   "cell_type": "code",
   "execution_count": 9,
   "id": "a231bbe0",
   "metadata": {},
   "outputs": [],
   "source": [
    "def main(l_coefs=[0, 1, 1e1, 1e2, 1e3, 1e4, 1e5],\n",
    "     label_key='Annotation_major_subset',\n",
    "     batch_key='Domain'):\n",
    "\n",
    "    print(\"analysis starting..\\n\\n\")\n",
    "    for l_coef in l_coefs:\n",
    "        print(f\"Computing metrics for integration coefficient: {l_coef} \\n\\n\")\n",
    "        adata_path = define_path(l_coef)\n",
    "        combined = load_adata(adata_path)\n",
    "        X, label_key, batch_key, distances_nn, connectivities = define_variables(combined, label_key, batch_key)\n",
    "        compute_neighbours(combined)\n",
    "        batch_effect_metrics, label_conserv_metrics = run_metrics(combined, X, label_key,\n",
    "                                                                  batch_key, distances_nn, connectivities)\n",
    "        save_metrics(adata_path, batch_effect_metrics, label_conserv_metrics, label_key, batch_key)\n",
    "\n",
    "    print(\"analysis finished\")"
   ]
  },
  {
   "cell_type": "code",
   "execution_count": 10,
   "id": "36304c39",
   "metadata": {
    "scrolled": true
   },
   "outputs": [],
   "source": [
    "#main(batch_key='Domain', label_key='Annotation_major_subset')"
   ]
  },
  {
   "cell_type": "code",
   "execution_count": 11,
   "id": "5e0c0aa5",
   "metadata": {
    "scrolled": false
   },
   "outputs": [],
   "source": [
    "#main(batch_key='Domain', label_key='Annotation_cell_type', l_coefs=[1e1, 1e2, 1e3, 1e4, 1e5])"
   ]
  },
  {
   "cell_type": "code",
   "execution_count": null,
   "id": "7dd3e4dd",
   "metadata": {
    "scrolled": true
   },
   "outputs": [
    {
     "name": "stdout",
     "output_type": "stream",
     "text": [
      "analysis starting..\n",
      "\n",
      "\n",
      "Computing metrics for integration coefficient: 10000.0 \n",
      "\n",
      "\n",
      "loading trimodal adata..\n",
      "\n",
      "\n",
      "defining variables..\n",
      "\n",
      "\n",
      "computing neighbours on latent space..\n",
      "\n",
      "\n"
     ]
    },
    {
     "name": "stderr",
     "output_type": "stream",
     "text": [
      "/home/icb/leonardo.golinelli/miniconda3/envs/scib_rpy2/lib/python3.8/site-packages/tqdm/auto.py:22: TqdmWarning: IProgress not found. Please update jupyter and ipywidgets. See https://ipywidgets.readthedocs.io/en/stable/user_install.html\n",
      "  from .autonotebook import tqdm as notebook_tqdm\n"
     ]
    },
    {
     "name": "stdout",
     "output_type": "stream",
     "text": [
      "running metrics..\n",
      "\n",
      "\n",
      "running pcr..\n",
      "\n",
      "\n"
     ]
    },
    {
     "name": "stderr",
     "output_type": "stream",
     "text": [
      "No GPU/TPU found, falling back to CPU. (Set TF_CPP_MIN_LOG_LEVEL=0 and rerun for more info.)\n"
     ]
    },
    {
     "name": "stdout",
     "output_type": "stream",
     "text": [
      "running graph connectivity..\n",
      "\n",
      "\n",
      "running ilisi knn (scib implementation).. \n",
      "\n",
      "\n",
      "running silhouette batch (scib implementation)..\n",
      "\n",
      "\n"
     ]
    }
   ],
   "source": [
    "main(batch_key='Domain', label_key='Annotation_major_subset', l_coefs=[1e4])"
   ]
  },
  {
   "cell_type": "code",
   "execution_count": null,
   "id": "e29de41a",
   "metadata": {},
   "outputs": [],
   "source": [
    "main(batch_key='Domain', label_key='Annotation_cell_type', l_coefs=[1e4])"
   ]
  }
 ],
 "metadata": {
  "kernelspec": {
   "display_name": "Python 3 (ipykernel)",
   "language": "python",
   "name": "python3"
  },
  "language_info": {
   "codemirror_mode": {
    "name": "ipython",
    "version": 3
   },
   "file_extension": ".py",
   "mimetype": "text/x-python",
   "name": "python",
   "nbconvert_exporter": "python",
   "pygments_lexer": "ipython3",
   "version": "3.10.4"
  }
 },
 "nbformat": 4,
 "nbformat_minor": 5
}
