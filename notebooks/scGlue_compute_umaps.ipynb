{
 "cells": [
  {
   "cell_type": "code",
   "execution_count": null,
   "id": "84ab2ba0",
   "metadata": {},
   "outputs": [],
   "source": [
    "import anndata as ad\n",
    "import scanpy as sc\n",
    "import scglue\n",
    "import pandas as pd\n",
    "import numpy as np\n",
    "import matplotlib.pyplot as plt\n",
    "from matplotlib import rcParams\n",
    "import os"
   ]
  },
  {
   "cell_type": "code",
   "execution_count": null,
   "id": "9f2343bd",
   "metadata": {},
   "outputs": [],
   "source": [
    "scglue.plot.set_publication_params()\n",
    "rcParams[\"figure.figsize\"] = (4, 4)"
   ]
  },
  {
   "cell_type": "code",
   "execution_count": null,
   "id": "dce7b27b",
   "metadata": {},
   "outputs": [],
   "source": [
    "def load_adata(int_type):\n",
    "    print(\"loading data..\")\n",
    " \n",
    "    if int_type == 'full_integration':\n",
    "        rna = ad.read_h5ad(\"../pp_harm_data/rna-pp-harm-sub.h5ad\")\n",
    "        adt = ad.read_h5ad(\"../pp_harm_data/adt-pp-harm-sub.h5ad\")\n",
    "        cytof = ad.read_h5ad(\"../pp_harm_data/cytof-pp-harm-sub.h5ad\")\n",
    "        facs = ad.read_h5ad(\"../pp_harm_data/facs-pp-harm-sub.h5ad\")\n",
    "            \n",
    "        adt.var.index = adt.var.index + '_adt'\n",
    "        cytof.var.index = cytof.var.index + '_cytof'\n",
    "        facs.var.index = facs.var.index + '_facs'\n",
    "                \n",
    "        return rna, adt, cytof, facs\n",
    "    else:\n",
    "        rna = ad.read_h5ad(\"../pp_harm_data/rna-pp-harm-sub.h5ad\")\n",
    "        adt = ad.read_h5ad(\"../pp_harm_data/adt-pp-harm-sub.h5ad\")\n",
    "        \n",
    "        adt.var.index = adt.var.index + '_adt'\n",
    "        \n",
    "        return rna, adt"
   ]
  },
  {
   "cell_type": "code",
   "execution_count": null,
   "id": "66b82796",
   "metadata": {},
   "outputs": [],
   "source": [
    "def load_glue(glue_path):\n",
    "    print(\"loading glue..\")\n",
    "    glue = scglue.models.load_model(glue_path + \"glue.dill\")\n",
    "    return glue"
   ]
  },
  {
   "cell_type": "code",
   "execution_count": null,
   "id": "c50e6a96",
   "metadata": {},
   "outputs": [],
   "source": [
    "def compute_embedding(adata_list, int_type, glue):\n",
    "    print(\"computing embeddings..\")\n",
    "    if int_type == 'full_integration':\n",
    "        rna, adt, cytof, facs = adata_list\n",
    "        rna.obsm['X_glue'] = glue.encode_data('rna', rna)\n",
    "        adt.obsm['X_glue'] = glue.encode_data('adt', adt)\n",
    "        cytof.obsm['X_glue'] = glue.encode_data('cytof', cytof)\n",
    "        facs.obsm['X_glue'] = glue.encode_data('facs', facs)\n",
    "        combined = ad.concat([rna, adt, facs, cytof])\n",
    "    else:\n",
    "        rna, adt = adata_list\n",
    "        rna.obsm['X_glue'] = glue.encode_data('rna', rna)\n",
    "        adt.obsm['X_glue'] = glue.encode_data('adt', adt)\n",
    "        combined = ad.concat([rna, adt])\n",
    "        \n",
    "    return combined"
   ]
  },
  {
   "cell_type": "code",
   "execution_count": null,
   "id": "d940388f",
   "metadata": {},
   "outputs": [],
   "source": [
    "def compute_umap(glue_path, combined):\n",
    "    print(\"computing neighbours..\")\n",
    "    sc.pp.neighbors(combined, use_rep=\"X_glue\", metric=\"cosine\")\n",
    "    print(\"computing umap..\")\n",
    "    sc.tl.umap(combined)\n",
    "    \n",
    "    os.makedirs(glue_path + \"umaps/\", exist_ok=True)\n",
    "    ax = sc.pl.umap(combined, color=[\"Annotation_major_subset\", \"Annotation_cell_type\"], wspace=0.65, return_fig=True)\n",
    "    plt.show()\n",
    "    fig = ax.get_figure()\n",
    "    fig.savefig(glue_path+'umaps/cell_type.png')\n",
    "    plt.close()\n",
    "    \n",
    "    ax = sc.pl.umap(combined, color=[\"Domain_major\", \"Domain\"], wspace=0.65, return_fig=True)\n",
    "    plt.show()\n",
    "    fig = ax.get_figure()\n",
    "    fig.savefig(glue_path+'umaps/domain.png')\n",
    "    plt.close()\n",
    "    \n",
    "    return combined"
   ]
  },
  {
   "cell_type": "code",
   "execution_count": null,
   "id": "9dde883d",
   "metadata": {},
   "outputs": [],
   "source": [
    "def save_combined_umap(glue_path, combined_umap):\n",
    "    print(\"writing combined anndata with umap\")\n",
    "    combined_umap.write(glue_path +\"combined.h5ad\", compression=\"gzip\")\n",
    "    print(\"combined adata with umap written successfully!\")"
   ]
  },
  {
   "cell_type": "code",
   "execution_count": null,
   "id": "3cf7ccfb",
   "metadata": {},
   "outputs": [],
   "source": [
    "def main(int_type_list = ['full_integration'],\n",
    "         corr_type_list = ['no_corr', 'rna_adt_corr', 'all_corr']):\n",
    "    \n",
    "    for int_type in int_type_list: #compute umap by type of integration\n",
    "        for corr_type in corr_type_list: #compute umap by type of correlations\n",
    "            print(\"\")\n",
    "            print(\"computing for integration type: \", int_type)\n",
    "            print(\"computing for correlation type: \", corr_type)\n",
    "            print(\"\")\n",
    "            glue_path = '../results/scglue/' + int_type + '/' + corr_type + '/'\n",
    "            adata_list = load_adata(int_type)\n",
    "            glue = load_glue(glue_path)\n",
    "            combined = compute_embedding(adata_list, int_type, glue)\n",
    "            combined_umap = compute_umap(glue_path, combined)\n",
    "            save_combined_umap(glue_path, combined_umap)"
   ]
  },
  {
   "cell_type": "code",
   "execution_count": null,
   "id": "ce412555",
   "metadata": {
    "scrolled": false
   },
   "outputs": [],
   "source": [
    "main() "
   ]
  }
 ],
 "metadata": {
  "kernelspec": {
   "display_name": "Python 3 (ipykernel)",
   "language": "python",
   "name": "python3"
  },
  "language_info": {
   "codemirror_mode": {
    "name": "ipython",
    "version": 3
   },
   "file_extension": ".py",
   "mimetype": "text/x-python",
   "name": "python",
   "nbconvert_exporter": "python",
   "pygments_lexer": "ipython3",
   "version": "3.8.16"
  }
 },
 "nbformat": 4,
 "nbformat_minor": 5
}
