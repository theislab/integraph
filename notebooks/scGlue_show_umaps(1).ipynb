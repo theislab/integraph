{
 "cells": [
  {
   "cell_type": "code",
   "execution_count": null,
   "id": "2c086bec",
   "metadata": {},
   "outputs": [],
   "source": [
    "import matplotlib.pyplot as plt\n",
    "from matplotlib.image import imread"
   ]
  },
  {
   "cell_type": "code",
   "execution_count": null,
   "id": "114800b9",
   "metadata": {},
   "outputs": [],
   "source": [
    "def plot_umap(path, int_type, corr_type):\n",
    "    \n",
    "    path_umap = path + 'umaps/'\n",
    "    \n",
    "    print(\"\")\n",
    "    print(\"showing integration consistency for integration type: \", int_type)\n",
    "    print(\"showing integration consistency for correlation type: \", corr_type, end='\\n\\n')\n",
    "    \n",
    "    plt.figure(figsize=(4,4), dpi=100)\n",
    "    ax = imread(path+\"scglue_run_lineplot.png\")\n",
    "    plt.imshow(ax)\n",
    "    plt.axis(\"off\")\n",
    "    plt.show()\n",
    "    plt.close()\n",
    "    \n",
    "    print(\"\")\n",
    "    print(\"showing umaps for integration type: \", int_type)\n",
    "    print(\"showing umaps for correlation type: \", corr_type, end='\\n\\n')\n",
    "    \n",
    "    plt.figure(figsize=(100,100), dpi=100)\n",
    "    ax = imread(path_umap+\"cell_type.png\")\n",
    "    plt.imshow(ax)\n",
    "    plt.axis(\"off\")\n",
    "    plt.show()\n",
    "    plt.close()\n",
    "        \n",
    "    plt.figure(figsize=(100,100), dpi=100)\n",
    "    ax = imread(path_umap+\"domain.png\")\n",
    "    plt.imshow(ax)\n",
    "    plt.axis(\"off\")\n",
    "    plt.show()\n",
    "    plt.close()"
   ]
  },
  {
   "cell_type": "code",
   "execution_count": null,
   "id": "3225589b",
   "metadata": {},
   "outputs": [],
   "source": [
    "def main(int_type_list = ['cite_integration', 'full_integration'],\n",
    "         corr_type_list = ['no_corr', 'rna_adt_corr', 'all_corr']):\n",
    "    \n",
    "    for int_type in int_type_list: #compute umap by type of integration\n",
    "        for corr_type in corr_type_list: #compute umap by type of correlations\n",
    "            path = '../results/scglue/' + int_type + '/' + corr_type + '/'\n",
    "            plot_umap(path, int_type, corr_type)"
   ]
  },
  {
   "cell_type": "code",
   "execution_count": null,
   "id": "a7a0700a",
   "metadata": {},
   "outputs": [],
   "source": [
    "main()"
   ]
  },
  {
   "cell_type": "code",
   "execution_count": null,
   "id": "ad2f0b8b",
   "metadata": {},
   "outputs": [],
   "source": []
  }
 ],
 "metadata": {
  "kernelspec": {
   "display_name": "Python 3 (ipykernel)",
   "language": "python",
   "name": "python3"
  },
  "language_info": {
   "codemirror_mode": {
    "name": "ipython",
    "version": 3
   },
   "file_extension": ".py",
   "mimetype": "text/x-python",
   "name": "python",
   "nbconvert_exporter": "python",
   "pygments_lexer": "ipython3",
   "version": "3.8.16"
  }
 },
 "nbformat": 4,
 "nbformat_minor": 5
}
