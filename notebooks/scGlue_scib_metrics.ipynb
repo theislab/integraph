{
 "cells": [
  {
   "cell_type": "code",
   "execution_count": 31,
   "id": "5a5b624b",
   "metadata": {},
   "outputs": [],
   "source": [
    "import numpy as np\n",
    "import scanpy as sc\n",
    "import pandas as pd\n",
    "import anndata as ad\n",
    "import scib_metrics\n",
    "from scib_metrics.benchmark import Benchmarker\n",
    "import faiss\n",
    "from scipy import sparse"
   ]
  },
  {
   "cell_type": "code",
   "execution_count": 32,
   "id": "4efff9c1",
   "metadata": {},
   "outputs": [],
   "source": [
    "def define_path(model_type, integration_type):\n",
    "    adata_path = \"../results/scglue/point_nine_corr/\" + model_type + '/' + integration_type + '/' \n",
    "    return adata_path"
   ]
  },
  {
   "cell_type": "code",
   "execution_count": 33,
   "id": "cd345f4a",
   "metadata": {},
   "outputs": [],
   "source": [
    "def load_adata(adata_path):\n",
    "    print(\"loading trimodal adata..\\n\\n\")\n",
    "    combined = ad.read_h5ad(adata_path+\"combined.h5ad\")\n",
    "    #print(combined)\n",
    "    return combined"
   ]
  },
  {
   "cell_type": "code",
   "execution_count": 34,
   "id": "1d325c5a",
   "metadata": {},
   "outputs": [],
   "source": [
    "def remove_obs_names_duplicates(combined):\n",
    "    # Check for duplicate observation names\n",
    "    print(\"Number of duplicate observation names:\", sum(combined.obs.index.duplicated()))\n",
    "\n",
    "    # Rename the observations with a unique suffix\n",
    "    unique_obs_names = combined.obs.index\n",
    "    unique_obs_names_suffix = [f\"{name}_{i}\" for i, name in enumerate(unique_obs_names)]\n",
    "    combined.obs.index = unique_obs_names_suffix\n",
    "\n",
    "    # Check that there are no more duplicate observation names\n",
    "    print(\"Number of duplicate observation names:\", sum(combined.obs.index.duplicated()))"
   ]
  },
  {
   "cell_type": "code",
   "execution_count": 35,
   "id": "5800d1ca",
   "metadata": {},
   "outputs": [],
   "source": [
    "def compute_neighbours(combined):\n",
    "    print(\"computing neighbours on scglue latent space..\\n\\n\")\n",
    "    sc.pp.neighbors(combined, 15,  use_rep='X_glue')"
   ]
  },
  {
   "cell_type": "code",
   "execution_count": 36,
   "id": "57653a0c",
   "metadata": {},
   "outputs": [],
   "source": [
    "def define_variables(combined):\n",
    "    print(\"defining variables..\\n\\n\")\n",
    "    X = combined.obsm['X_glue']\n",
    "    labels = combined.obs['Annotation_major_subset'].cat.codes.to_numpy()\n",
    "    batches = combined.obs['Domain'].cat.codes.to_numpy()\n",
    "    #del combined.obsp['distances']\n",
    "    #del combined.obsp['connectivities']\n",
    "    distances_nn = combined.obsp['distances']\n",
    "    connectivities = combined.obsp['connectivities']\n",
    "    \n",
    "    return X, labels, batches, distances_nn, connectivities"
   ]
  },
  {
   "cell_type": "code",
   "execution_count": 37,
   "id": "a8cf8967",
   "metadata": {},
   "outputs": [],
   "source": [
    "def run_metrics(X, labels, batches, distances_nn, connectivities):\n",
    "    print(\"running metrics..\\n\\n\")\n",
    "    batch_effect_metrics = {}\n",
    "    #removal of batch effects\n",
    "    print(\"running pcr..\\n\\n\")\n",
    "    pcr = scib_metrics.utils.principal_component_regression(X=X, covariate=batches)\n",
    "    #print(\"running graph connectivity..\\n\\n\")\n",
    "    #graph_connectivity = scib_metrics.graph_connectivity(X=distances_nn, labels=labels)\n",
    "    print(\"running ilisi knn..\\n\\n\")\n",
    "    ilisi_knn = scib_metrics.ilisi_knn(X=distances_nn, batches=batches) #potentially crashes\n",
    "    #print(\"running silhouette batch..\\n\\n\")\n",
    "    #silhouette_batch = scib_metrics.silhouette_batch(X=X, labels=labels, batch=batches) #potentially crashes\n",
    "    print(\"running kbet..\\n\\n\")\n",
    "    kbet = scib_metrics.kbet(X=distances_nn, batches=batches)\n",
    "    \n",
    "    #conservation of variance from cell identity labels (label conservation metrics)\n",
    "    label_conserv_metrics = {}\n",
    "    print(\"running silhouette label.. \\n\\n\")\n",
    "    silhouette_label = scib_metrics.silhouette_label(X=X, labels=labels)\n",
    "    print(\"running nmi, ari with leiden..\\n\\n\")\n",
    "    nmi_ari_leiden = scib_metrics.nmi_ari_cluster_labels_leiden(X=connectivities, labels=labels)\n",
    "    print(\"running clisi knn..\\n\\n\")\n",
    "    clisi_knn = scib_metrics.clisi_knn(X=distances_nn, labels=labels)\n",
    "    \n",
    "    print(\"generating batch effect metrics dictionary.. \\n\\n\")\n",
    "    batch_effect_metrics.update([('pcr', pcr), ('graph_connectivity', graph_connectivity),\n",
    "                                 ('ilisi_knn', ilisi_knn), #('silhouette_batch', silhouette_batch), not working on scglue\n",
    "                                 ('kbet', kbet)])\n",
    "    print(\"generating label conservation metrics dictionary.. \\n\\n\")\n",
    "    label_conserv_metrics.update([('nmi_ari_leiden', nmi_ari_leiden), #('silhouette_label', silhouette_label), \n",
    "                                 ('clisi_knn', clisi_knn)])\n",
    "    \n",
    "    print(\"batch effect metrics for current integration coefficient:\")\n",
    "    print(batch_effect_metrics)\n",
    "    print(\"label conservation metrics for current integration coefficient:\")\n",
    "    print(label_conserv_metrics)\n",
    "    \n",
    "    return batch_effect_metrics, label_conserv_metrics"
   ]
  },
  {
   "cell_type": "code",
   "execution_count": 38,
   "id": "06d4917e",
   "metadata": {},
   "outputs": [],
   "source": [
    "def save_metrics(adata_path, batch_effect_metrics, label_conserv_metrics):\n",
    "    with open(adata_path+\"integration_metrics_Domain_AnnMajorSubset.txt\", \"w\") as f:\n",
    "        f.write(\"batch_effect_metrics:\\n\\n\")\n",
    "        for key, value in batch_effect_metrics.items():\n",
    "            f.write(f\"{key}: {value}\\n\")\n",
    "        print(\"\\n\")\n",
    "        f.write(\"label conservation metrics:\\n\\n\")\n",
    "        for key, value in label_conserv_metrics.items():\n",
    "            f.write(f\"{key}: {value}\\n\")"
   ]
  },
  {
   "cell_type": "code",
   "execution_count": 39,
   "id": "a231bbe0",
   "metadata": {},
   "outputs": [],
   "source": [
    "def main(model_types = ['unpaired', 'paired'],\n",
    "         integration_types = ['trimodal', 'full', 'cite']):\n",
    "    \n",
    "    print(\"analysis starting..\\n\\n\")\n",
    "    for model_type in model_types: #run both paired and unpaired\n",
    "        for integration_type in integration_types: #run full, cite-only, and trimodal models      \n",
    "            print(f\"Computing metrics for model type:'{model_type}' and integration type '{integration_type}'\\n\\n\")\n",
    "            adata_path = define_path(model_type, integration_type)\n",
    "            combined = load_adata(adata_path)\n",
    "            remove_obs_names_duplicates(combined)\n",
    "            X, labels, batches, distances_nn, connectivities = define_variables(combined)\n",
    "            compute_neighbours(combined)\n",
    "            batch_effect_metrics, label_conserv_metrics = run_metrics(X, labels, batches, distances_nn, connectivities)\n",
    "            save_metrics(adata_path, batch_effect_metrics, label_conserv_metrics)\n",
    "    \n",
    "    print(\"analysis finished\")"
   ]
  },
  {
   "cell_type": "code",
   "execution_count": 40,
   "id": "1c01be7e",
   "metadata": {
    "scrolled": false
   },
   "outputs": [
    {
     "name": "stdout",
     "output_type": "stream",
     "text": [
      "analysis starting..\n",
      "\n",
      "\n",
      "Computing metrics for model type:'unpaired' and integration type 'trimodal'\n",
      "\n",
      "\n",
      "loading trimodal adata..\n",
      "\n",
      "\n"
     ]
    },
    {
     "name": "stderr",
     "output_type": "stream",
     "text": [
      "/home/icb/leonardo.golinelli/.conda/envs/scib_metrics/lib/python3.8/site-packages/anndata/_core/anndata.py:1828: UserWarning: Observation names are not unique. To make them unique, call `.obs_names_make_unique`.\n",
      "  utils.warn_names_duplicates(\"obs\")\n"
     ]
    },
    {
     "name": "stdout",
     "output_type": "stream",
     "text": [
      "Number of duplicate observation names: 131920\n",
      "Number of duplicate observation names: 0\n",
      "defining variables..\n",
      "\n",
      "\n",
      "computing neighbours on scglue latent space..\n",
      "\n",
      "\n",
      "running metrics..\n",
      "\n",
      "\n",
      "running pcr..\n",
      "\n",
      "\n",
      "running ilisi knn..\n",
      "\n",
      "\n"
     ]
    },
    {
     "ename": "ValueError",
     "evalue": "Each cell must have the same number of neighbors.",
     "output_type": "error",
     "traceback": [
      "\u001b[0;31m---------------------------------------------------------------------------\u001b[0m",
      "\u001b[0;31mValueError\u001b[0m                                Traceback (most recent call last)",
      "Cell \u001b[0;32mIn[40], line 1\u001b[0m\n\u001b[0;32m----> 1\u001b[0m \u001b[43mmain\u001b[49m\u001b[43m(\u001b[49m\u001b[43m)\u001b[49m\n",
      "Cell \u001b[0;32mIn[39], line 13\u001b[0m, in \u001b[0;36mmain\u001b[0;34m(model_types, integration_types)\u001b[0m\n\u001b[1;32m     11\u001b[0m         X, labels, batches, distances_nn, connectivities \u001b[38;5;241m=\u001b[39m define_variables(combined)\n\u001b[1;32m     12\u001b[0m         compute_neighbours(combined)\n\u001b[0;32m---> 13\u001b[0m         batch_effect_metrics, label_conserv_metrics \u001b[38;5;241m=\u001b[39m \u001b[43mrun_metrics\u001b[49m\u001b[43m(\u001b[49m\u001b[43mX\u001b[49m\u001b[43m,\u001b[49m\u001b[43m \u001b[49m\u001b[43mlabels\u001b[49m\u001b[43m,\u001b[49m\u001b[43m \u001b[49m\u001b[43mbatches\u001b[49m\u001b[43m,\u001b[49m\u001b[43m \u001b[49m\u001b[43mdistances_nn\u001b[49m\u001b[43m,\u001b[49m\u001b[43m \u001b[49m\u001b[43mconnectivities\u001b[49m\u001b[43m)\u001b[49m\n\u001b[1;32m     14\u001b[0m         save_metrics(adata_path, batch_effect_metrics, label_conserv_metrics)\n\u001b[1;32m     16\u001b[0m \u001b[38;5;28mprint\u001b[39m(\u001b[38;5;124m\"\u001b[39m\u001b[38;5;124manalysis finished\u001b[39m\u001b[38;5;124m\"\u001b[39m)\n",
      "Cell \u001b[0;32mIn[37], line 10\u001b[0m, in \u001b[0;36mrun_metrics\u001b[0;34m(X, labels, batches, distances_nn, connectivities)\u001b[0m\n\u001b[1;32m      7\u001b[0m \u001b[38;5;66;03m#print(\"running graph connectivity..\\n\\n\")\u001b[39;00m\n\u001b[1;32m      8\u001b[0m \u001b[38;5;66;03m#graph_connectivity = scib_metrics.graph_connectivity(X=distances_nn, labels=labels)\u001b[39;00m\n\u001b[1;32m      9\u001b[0m \u001b[38;5;28mprint\u001b[39m(\u001b[38;5;124m\"\u001b[39m\u001b[38;5;124mrunning ilisi knn..\u001b[39m\u001b[38;5;130;01m\\n\u001b[39;00m\u001b[38;5;130;01m\\n\u001b[39;00m\u001b[38;5;124m\"\u001b[39m)\n\u001b[0;32m---> 10\u001b[0m ilisi_knn \u001b[38;5;241m=\u001b[39m \u001b[43mscib_metrics\u001b[49m\u001b[38;5;241;43m.\u001b[39;49m\u001b[43milisi_knn\u001b[49m\u001b[43m(\u001b[49m\u001b[43mX\u001b[49m\u001b[38;5;241;43m=\u001b[39;49m\u001b[43mdistances_nn\u001b[49m\u001b[43m,\u001b[49m\u001b[43m \u001b[49m\u001b[43mbatches\u001b[49m\u001b[38;5;241;43m=\u001b[39;49m\u001b[43mbatches\u001b[49m\u001b[43m)\u001b[49m \u001b[38;5;66;03m#potentially crashes\u001b[39;00m\n\u001b[1;32m     11\u001b[0m \u001b[38;5;66;03m#print(\"running silhouette batch..\\n\\n\")\u001b[39;00m\n\u001b[1;32m     12\u001b[0m \u001b[38;5;66;03m#silhouette_batch = scib_metrics.silhouette_batch(X=X, labels=labels, batch=batches) #potentially crashes\u001b[39;00m\n\u001b[1;32m     13\u001b[0m \u001b[38;5;28mprint\u001b[39m(\u001b[38;5;124m\"\u001b[39m\u001b[38;5;124mrunning kbet..\u001b[39m\u001b[38;5;130;01m\\n\u001b[39;00m\u001b[38;5;130;01m\\n\u001b[39;00m\u001b[38;5;124m\"\u001b[39m)\n",
      "File \u001b[0;32m~/.conda/envs/scib_metrics/lib/python3.8/site-packages/scib_metrics/_lisi.py:65\u001b[0m, in \u001b[0;36milisi_knn\u001b[0;34m(X, batches, perplexity, scale)\u001b[0m\n\u001b[1;32m     41\u001b[0m \u001b[38;5;250m\u001b[39m\u001b[38;5;124;03m\"\"\"Compute the integration local inverse simpson index (iLISI) for each cell :cite:p:`korsunsky2019harmony`.\u001b[39;00m\n\u001b[1;32m     42\u001b[0m \n\u001b[1;32m     43\u001b[0m \u001b[38;5;124;03mReturns a scaled version of the iLISI score for each cell, by default :cite:p:`luecken2022benchmarking`.\u001b[39;00m\n\u001b[0;32m   (...)\u001b[0m\n\u001b[1;32m     62\u001b[0m \u001b[38;5;124;03m    Array of shape (n_cells,) with the iLISI score for each cell.\u001b[39;00m\n\u001b[1;32m     63\u001b[0m \u001b[38;5;124;03m\"\"\"\u001b[39;00m\n\u001b[1;32m     64\u001b[0m batches \u001b[38;5;241m=\u001b[39m np\u001b[38;5;241m.\u001b[39masarray(pd\u001b[38;5;241m.\u001b[39mCategorical(batches)\u001b[38;5;241m.\u001b[39mcodes)\n\u001b[0;32m---> 65\u001b[0m lisi \u001b[38;5;241m=\u001b[39m \u001b[43mlisi_knn\u001b[49m\u001b[43m(\u001b[49m\u001b[43mX\u001b[49m\u001b[43m,\u001b[49m\u001b[43m \u001b[49m\u001b[43mbatches\u001b[49m\u001b[43m,\u001b[49m\u001b[43m \u001b[49m\u001b[43mperplexity\u001b[49m\u001b[38;5;241;43m=\u001b[39;49m\u001b[43mperplexity\u001b[49m\u001b[43m)\u001b[49m\n\u001b[1;32m     66\u001b[0m ilisi \u001b[38;5;241m=\u001b[39m np\u001b[38;5;241m.\u001b[39mnanmedian(lisi)\n\u001b[1;32m     67\u001b[0m \u001b[38;5;28;01mif\u001b[39;00m scale:\n",
      "File \u001b[0;32m~/.conda/envs/scib_metrics/lib/python3.8/site-packages/scib_metrics/_lisi.py:29\u001b[0m, in \u001b[0;36mlisi_knn\u001b[0;34m(X, labels, perplexity)\u001b[0m\n\u001b[1;32m      9\u001b[0m \u001b[38;5;250m\u001b[39m\u001b[38;5;124;03m\"\"\"Compute the local inverse simpson index (LISI) for each cell :cite:p:`korsunsky2019harmony`.\u001b[39;00m\n\u001b[1;32m     10\u001b[0m \n\u001b[1;32m     11\u001b[0m \u001b[38;5;124;03mParameters\u001b[39;00m\n\u001b[0;32m   (...)\u001b[0m\n\u001b[1;32m     26\u001b[0m \u001b[38;5;124;03m    Array of shape (n_cells,) with the LISI score for each cell.\u001b[39;00m\n\u001b[1;32m     27\u001b[0m \u001b[38;5;124;03m\"\"\"\u001b[39;00m\n\u001b[1;32m     28\u001b[0m labels \u001b[38;5;241m=\u001b[39m np\u001b[38;5;241m.\u001b[39masarray(pd\u001b[38;5;241m.\u001b[39mCategorical(labels)\u001b[38;5;241m.\u001b[39mcodes)\n\u001b[0;32m---> 29\u001b[0m knn_dists, knn_idx \u001b[38;5;241m=\u001b[39m \u001b[43mconvert_knn_graph_to_idx\u001b[49m\u001b[43m(\u001b[49m\u001b[43mX\u001b[49m\u001b[43m)\u001b[49m\n\u001b[1;32m     31\u001b[0m \u001b[38;5;28;01mif\u001b[39;00m perplexity \u001b[38;5;129;01mis\u001b[39;00m \u001b[38;5;28;01mNone\u001b[39;00m:\n\u001b[1;32m     32\u001b[0m     perplexity \u001b[38;5;241m=\u001b[39m np\u001b[38;5;241m.\u001b[39mfloor(knn_idx\u001b[38;5;241m.\u001b[39mshape[\u001b[38;5;241m1\u001b[39m] \u001b[38;5;241m/\u001b[39m \u001b[38;5;241m3\u001b[39m)\n",
      "File \u001b[0;32m~/.conda/envs/scib_metrics/lib/python3.8/site-packages/scib_metrics/utils/_utils.py:58\u001b[0m, in \u001b[0;36mconvert_knn_graph_to_idx\u001b[0;34m(X)\u001b[0m\n\u001b[1;32m     56\u001b[0m n_neighbors \u001b[38;5;241m=\u001b[39m np\u001b[38;5;241m.\u001b[39munique(X\u001b[38;5;241m.\u001b[39mnonzero()[\u001b[38;5;241m0\u001b[39m], return_counts\u001b[38;5;241m=\u001b[39m\u001b[38;5;28;01mTrue\u001b[39;00m)[\u001b[38;5;241m1\u001b[39m]\n\u001b[1;32m     57\u001b[0m \u001b[38;5;28;01mif\u001b[39;00m \u001b[38;5;28mlen\u001b[39m(np\u001b[38;5;241m.\u001b[39munique(n_neighbors)) \u001b[38;5;241m>\u001b[39m \u001b[38;5;241m1\u001b[39m:\n\u001b[0;32m---> 58\u001b[0m     \u001b[38;5;28;01mraise\u001b[39;00m \u001b[38;5;167;01mValueError\u001b[39;00m(\u001b[38;5;124m\"\u001b[39m\u001b[38;5;124mEach cell must have the same number of neighbors.\u001b[39m\u001b[38;5;124m\"\u001b[39m)\n\u001b[1;32m     60\u001b[0m n_neighbors \u001b[38;5;241m=\u001b[39m \u001b[38;5;28mint\u001b[39m(np\u001b[38;5;241m.\u001b[39munique(n_neighbors)[\u001b[38;5;241m0\u001b[39m])\n\u001b[1;32m     61\u001b[0m \u001b[38;5;28;01mwith\u001b[39;00m warnings\u001b[38;5;241m.\u001b[39mcatch_warnings():\n",
      "\u001b[0;31mValueError\u001b[0m: Each cell must have the same number of neighbors."
     ]
    }
   ],
   "source": [
    "main()"
   ]
  }
 ],
 "metadata": {
  "kernelspec": {
   "display_name": "Python 3 (ipykernel)",
   "language": "python",
   "name": "python3"
  },
  "language_info": {
   "codemirror_mode": {
    "name": "ipython",
    "version": 3
   },
   "file_extension": ".py",
   "mimetype": "text/x-python",
   "name": "python",
   "nbconvert_exporter": "python",
   "pygments_lexer": "ipython3",
   "version": "3.8.16"
  }
 },
 "nbformat": 4,
 "nbformat_minor": 5
}
