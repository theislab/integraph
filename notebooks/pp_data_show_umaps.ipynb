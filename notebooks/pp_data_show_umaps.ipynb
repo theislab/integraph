{
 "cells": [
  {
   "cell_type": "code",
   "execution_count": null,
   "id": "934529ac",
   "metadata": {},
   "outputs": [],
   "source": [
    "import matplotlib.pyplot as plt\n",
    "from matplotlib.image import imread"
   ]
  },
  {
   "cell_type": "code",
   "execution_count": null,
   "id": "da7daa11",
   "metadata": {},
   "outputs": [],
   "source": [
    "def load_adata_umap():\n",
    "    lo"
   ]
  },
  {
   "cell_type": "code",
   "execution_count": null,
   "id": "0f96ff29",
   "metadata": {},
   "outputs": [],
   "source": [
    "def plot_umap(path):\n",
    "    "
   ]
  },
  {
   "cell_type": "code",
   "execution_count": null,
   "id": "4ab7bb2e",
   "metadata": {},
   "outputs": [],
   "source": [
    "def main(modality_list=['rna', 'adt', 'cytof', 'facs'])\n",
    "    load_adata_umap()\n",
    "    for modality_name in modality_list:\n",
    "        plt.figure(figsize=(4,4), dpi=100)\n",
    "        ax = imread(\"./umaps/\")\n",
    "        plt.imshow(ax)\n",
    "        plt.axis(\"off\")\n",
    "        plt.show()\n",
    "        plt.close()"
   ]
  }
 ],
 "metadata": {
  "kernelspec": {
   "display_name": "Python 3 (ipykernel)",
   "language": "python",
   "name": "python3"
  },
  "language_info": {
   "codemirror_mode": {
    "name": "ipython",
    "version": 3
   },
   "file_extension": ".py",
   "mimetype": "text/x-python",
   "name": "python",
   "nbconvert_exporter": "python",
   "pygments_lexer": "ipython3",
   "version": "3.10.4"
  }
 },
 "nbformat": 4,
 "nbformat_minor": 5
}
