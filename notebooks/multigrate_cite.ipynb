{
 "cells": [
  {
   "cell_type": "code",
   "execution_count": null,
   "id": "b5ab7a4a",
   "metadata": {
    "scrolled": true
   },
   "outputs": [],
   "source": [
    "import numpy as np\n",
    "import scanpy as sc\n",
    "import multigrate as mtg\n",
    "import anndata as ad\n",
    "import scipy\n",
    "from scipy import sparse\n",
    "import os"
   ]
  },
  {
   "cell_type": "code",
   "execution_count": null,
   "id": "ef84630a",
   "metadata": {},
   "outputs": [],
   "source": [
    "def load_adata():\n",
    "    print(\"loading data..\")\n",
    "    rna = ad.read_h5ad(\"../pp_harm_data/rna-pp-harm-sub.h5ad\")\n",
    "    adt = ad.read_h5ad(\"../pp_harm_data/adt-pp-harm-sub.h5ad\")\n",
    "    #cytof = ad.read_h5ad(\"../pp_harm_data/cytof-pp-harm-sub.h5ad\")\n",
    "    #facs = ad.read_h5ad(\"../pp_harm_data/facs-pp-harm-sub.h5ad\")\n",
    "\n",
    "    return rna, adt"
   ]
  },
  {
   "cell_type": "code",
   "execution_count": null,
   "id": "ecf7fa5f",
   "metadata": {},
   "outputs": [],
   "source": [
    "def concatenate_adata(rna, adt):\n",
    "    print(\"concatenating data..\")\n",
    "    \n",
    "    combined = mtg.data.organize_multiome_anndatas(\n",
    "        adatas = [[rna], [adt]],\n",
    "        layers = [[None], [None]],\n",
    "    )\n",
    "    return combined"
   ]
  },
  {
   "cell_type": "code",
   "execution_count": null,
   "id": "e86a7b3c",
   "metadata": {},
   "outputs": [],
   "source": [
    "def setup_combined_adata(combined):\n",
    "    print(\"setting up the combined adata..\")\n",
    "    mtg.model.MultiVAE.setup_anndata(combined, categorical_covariate_keys = ['Domain']),"
   ]
  },
  {
   "cell_type": "code",
   "execution_count": null,
   "id": "d67c1389",
   "metadata": {
    "scrolled": true
   },
   "outputs": [],
   "source": [
    "def setup_multivae(combined, l_coef):\n",
    "    print(\"setting up the model..\")\n",
    "    model = mtg.model.MultiVAE(\n",
    "        combined, \n",
    "        integrate_on='Domain',\n",
    "        loss_coefs={'integ':l_coef},\n",
    "        losses=['mse', 'mse'])\n",
    "    return model"
   ]
  },
  {
   "cell_type": "code",
   "execution_count": null,
   "id": "9e5de6f2",
   "metadata": {},
   "outputs": [],
   "source": [
    "def model_train(model, lr):\n",
    "    print(\"training the model..\")\n",
    "    model.train(lr=lr, use_gpu=True)"
   ]
  },
  {
   "cell_type": "code",
   "execution_count": null,
   "id": "c864ec2d",
   "metadata": {},
   "outputs": [],
   "source": [
    "def plot_losses(model, result_path):\n",
    "    model.plot_losses(result_path + \"losses.jpg\")"
   ]
  },
  {
   "cell_type": "code",
   "execution_count": null,
   "id": "3dc56317",
   "metadata": {},
   "outputs": [],
   "source": [
    "def save_model(model, result_path):\n",
    "    print(\"saving the model..\")\n",
    "    model.save(result_path + \"multigrate.dill\", prefix=None, overwrite=True, save_anndata=False)"
   ]
  },
  {
   "cell_type": "code",
   "execution_count": null,
   "id": "27af5315",
   "metadata": {},
   "outputs": [],
   "source": [
    "def get_latent_representation(model):\n",
    "    print(\"getting latent representation for the combined adata..\")\n",
    "    model.get_latent_representation()"
   ]
  },
  {
   "cell_type": "code",
   "execution_count": null,
   "id": "2bc2f206",
   "metadata": {},
   "outputs": [],
   "source": [
    "def compute_umap(combined):\n",
    "    sc.pp.neighbors(combined, use_rep='latent')\n",
    "    sc.tl.umap(combined)"
   ]
  },
  {
   "cell_type": "code",
   "execution_count": null,
   "id": "af24b6b0",
   "metadata": {},
   "outputs": [],
   "source": [
    "def write_combined(combined, result_path):\n",
    "    print(\"writing the combined adata\")\n",
    "    combined.write(result_path + \"combined.h5ad\", compression=\"gzip\")\n",
    "    print(\"writing complete\")"
   ]
  },
  {
   "cell_type": "code",
   "execution_count": null,
   "id": "a98f0acc",
   "metadata": {},
   "outputs": [],
   "source": [
    "def main(loss_coefs=[1, 50, 100, 150, 200],\n",
    "         lr=0.0005):\n",
    "    rna, adt = load_adata()\n",
    "    \n",
    "    for l_coef in loss_coefs:\n",
    "        result_path = '../results/multigrate/cite_integration/coef_' + str(l_coef) + '/'\n",
    "        os.makedirs(result_path, exist_ok=True)\n",
    "        combined = concatenate_adata(rna, adt)\n",
    "        #print(combined.obs.columns.tolist())\n",
    "        setup_combined_adata(combined)\n",
    "        model = setup_multivae(combined, l_coef)\n",
    "        model.to_device('cuda:0')\n",
    "        model_train(model, lr=lr)\n",
    "        save_model(model, result_path)\n",
    "        plot_losses(model, result_path)\n",
    "        get_latent_representation(model)\n",
    "        write_combined(combined, result_path)"
   ]
  },
  {
   "cell_type": "code",
   "execution_count": null,
   "id": "5c8d0a5f",
   "metadata": {},
   "outputs": [],
   "source": [
    "main(loss_coefs=[100], lr = 0.00005)"
   ]
  },
  {
   "cell_type": "code",
   "execution_count": null,
   "id": "d504bd98",
   "metadata": {},
   "outputs": [],
   "source": []
  }
 ],
 "metadata": {
  "kernelspec": {
   "display_name": "Python 3 (ipykernel)",
   "language": "python",
   "name": "python3"
  },
  "language_info": {
   "codemirror_mode": {
    "name": "ipython",
    "version": 3
   },
   "file_extension": ".py",
   "mimetype": "text/x-python",
   "name": "python",
   "nbconvert_exporter": "python",
   "pygments_lexer": "ipython3",
   "version": "3.8.16"
  }
 },
 "nbformat": 4,
 "nbformat_minor": 5
}
